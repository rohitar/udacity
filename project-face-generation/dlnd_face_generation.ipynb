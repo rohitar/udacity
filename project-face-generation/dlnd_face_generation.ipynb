{
 "cells": [
  {
   "cell_type": "markdown",
   "metadata": {
    "colab_type": "text",
    "id": "BIqy7IKQ-8H4"
   },
   "source": [
    "# Face Generation\n",
    "\n",
    "In this project, you'll define and train a DCGAN on a dataset of faces. Your goal is to get a generator network to generate *new* images of faces that look as realistic as possible!\n",
    "\n",
    "The project will be broken down into a series of tasks from **loading in data to defining and training adversarial networks**. At the end of the notebook, you'll be able to visualize the results of your trained Generator to see how it performs; your generated samples should look like fairly realistic faces with small amounts of noise.\n",
    "\n",
    "### Get the Data\n",
    "\n",
    "You'll be using the [CelebFaces Attributes Dataset (CelebA)](http://mmlab.ie.cuhk.edu.hk/projects/CelebA.html) to train your adversarial networks.\n",
    "\n",
    "This dataset is more complex than the number datasets (like MNIST or SVHN) you've been working with, and so, you should prepare to define deeper networks and train them for a longer time to get good results. It is suggested that you utilize a GPU for training.\n",
    "\n",
    "### Pre-processed Data\n",
    "\n",
    "Since the project's main focus is on building the GANs, we've done *some* of the pre-processing for you. Each of the CelebA images has been cropped to remove parts of the image that don't include a face, then resized down to 64x64x3 NumPy images. Some sample data is show below.\n",
    "\n",
    "<img src='assets/processed_face_data.png' width=60% />\n",
    "\n",
    "> If you are working locally, you can download this data [by clicking here](https://s3.amazonaws.com/video.udacity-data.com/topher/2018/November/5be7eb6f_processed-celeba-small/processed-celeba-small.zip)\n",
    "\n",
    "This is a zip file that you'll need to extract in the home directory of this notebook for further loading and processing. After extracting the data, you should be left with a directory of data `processed_celeba_small/`"
   ]
  },
  {
   "cell_type": "code",
   "execution_count": 0,
   "metadata": {
    "colab": {},
    "colab_type": "code",
    "id": "ghO5P4RY_jjY"
   },
   "outputs": [],
   "source": [
    "# !dir"
   ]
  },
  {
   "cell_type": "code",
   "execution_count": 0,
   "metadata": {
    "colab": {},
    "colab_type": "code",
    "id": "EXKpm_dQAnSv"
   },
   "outputs": [],
   "source": [
    "# !wget https://s3.amazonaws.com/video.udacity-data.com/topher/2018/November/5be7eb6f_processed-celeba-small/processed-celeba-small.zip"
   ]
  },
  {
   "cell_type": "code",
   "execution_count": 0,
   "metadata": {
    "colab": {},
    "colab_type": "code",
    "id": "RQNwzju8-8H8"
   },
   "outputs": [],
   "source": [
    "# can comment out after executing\n",
    "# !unzip processed-celeba-small.zip"
   ]
  },
  {
   "cell_type": "code",
   "execution_count": 0,
   "metadata": {
    "colab": {},
    "colab_type": "code",
    "id": "sqkgYQNk-8IC"
   },
   "outputs": [],
   "source": [
    "data_dir = 'processed_celeba_small/'\n",
    "\n",
    "\"\"\"\n",
    "DON'T MODIFY ANYTHING IN THIS CELL\n",
    "\"\"\"\n",
    "import pickle as pkl\n",
    "import matplotlib.pyplot as plt\n",
    "import numpy as np\n",
    "import problem_unittests as tests\n",
    "#import helper\n",
    "\n",
    "%matplotlib inline"
   ]
  },
  {
   "cell_type": "markdown",
   "metadata": {
    "colab_type": "text",
    "id": "0_s8HvLG-8IF"
   },
   "source": [
    "## Visualize the CelebA Data\n",
    "\n",
    "The [CelebA](http://mmlab.ie.cuhk.edu.hk/projects/CelebA.html) dataset contains over 200,000 celebrity images with annotations. Since you're going to be generating faces, you won't need the annotations, you'll only need the images. Note that these are color images with [3 color channels (RGB)](https://en.wikipedia.org/wiki/Channel_(digital_image)#RGB_Images) each.\n",
    "\n",
    "### Pre-process and Load the Data\n",
    "\n",
    "Since the project's main focus is on building the GANs, we've done *some* of the pre-processing for you. Each of the CelebA images has been cropped to remove parts of the image that don't include a face, then resized down to 64x64x3 NumPy images. This *pre-processed* dataset is a smaller subset of the very large CelebA data.\n",
    "\n",
    "> There are a few other steps that you'll need to **transform** this data and create a **DataLoader**.\n",
    "\n",
    "#### Exercise: Complete the following `get_dataloader` function, such that it satisfies these requirements:\n",
    "\n",
    "* Your images should be square, Tensor images of size `image_size x image_size` in the x and y dimension.\n",
    "* Your function should return a DataLoader that shuffles and batches these Tensor images.\n",
    "\n",
    "#### ImageFolder\n",
    "\n",
    "To create a dataset given a directory of images, it's recommended that you use PyTorch's [ImageFolder](https://pytorch.org/docs/stable/torchvision/datasets.html#imagefolder) wrapper, with a root directory `processed_celeba_small/` and data transformation passed in."
   ]
  },
  {
   "cell_type": "code",
   "execution_count": 0,
   "metadata": {
    "colab": {},
    "colab_type": "code",
    "id": "3x1WnIC3-8IG"
   },
   "outputs": [],
   "source": [
    "# necessary imports\n",
    "import torch\n",
    "from torchvision import datasets\n",
    "from torchvision import transforms"
   ]
  },
  {
   "cell_type": "code",
   "execution_count": 0,
   "metadata": {
    "colab": {},
    "colab_type": "code",
    "id": "2FVjXsfN-8II"
   },
   "outputs": [],
   "source": [
    "def get_dataloader(batch_size, image_size, data_dir='processed_celeba_small/'):\n",
    "    \"\"\"\n",
    "    Batch the neural network data using DataLoader\n",
    "    :param batch_size: The size of each batch; the number of images in a batch\n",
    "    :param img_size: The square size of the image data (x, y)\n",
    "    :param data_dir: Directory where image data is located\n",
    "    :return: DataLoader with batched data\n",
    "    \"\"\"\n",
    "    \n",
    "    # TODO: Implement function and return a dataloader\n",
    "    transform = transforms.Compose([transforms.Resize(image_size),\n",
    "                                transforms.ToTensor()])\n",
    "    dataset = datasets.ImageFolder(data_dir, transform=transform)\n",
    "    dataloader = torch.utils.data.DataLoader(dataset, batch_size=batch_size, shuffle=True)\n",
    "    \n",
    "    return dataloader\n"
   ]
  },
  {
   "cell_type": "markdown",
   "metadata": {
    "colab_type": "text",
    "id": "sCBGtYkn-8IL"
   },
   "source": [
    "## Create a DataLoader\n",
    "\n",
    "#### Exercise: Create a DataLoader `celeba_train_loader` with appropriate hyperparameters.\n",
    "\n",
    "Call the above function and create a dataloader to view images. \n",
    "* You can decide on any reasonable `batch_size` parameter\n",
    "* Your `image_size` **must be** `32`. Resizing the data to a smaller size will make for faster training, while still creating convincing images of faces!"
   ]
  },
  {
   "cell_type": "code",
   "execution_count": 0,
   "metadata": {
    "colab": {},
    "colab_type": "code",
    "id": "K9ztt8Q--8IM"
   },
   "outputs": [],
   "source": [
    "# Define function hyperparameters\n",
    "batch_size = 32\n",
    "img_size = 32\n",
    "\n",
    "\"\"\"\n",
    "DON'T MODIFY ANYTHING IN THIS CELL THAT IS BELOW THIS LINE\n",
    "\"\"\"\n",
    "# Call your function and get a dataloader\n",
    "celeba_train_loader = get_dataloader(batch_size, img_size)\n"
   ]
  },
  {
   "cell_type": "markdown",
   "metadata": {
    "colab_type": "text",
    "id": "mqjH3C2w-8IO"
   },
   "source": [
    "Next, you can view some images! You should seen square images of somewhat-centered faces.\n",
    "\n",
    "Note: You'll need to convert the Tensor images into a NumPy type and transpose the dimensions to correctly display an image, suggested `imshow` code is below, but it may not be perfect."
   ]
  },
  {
   "cell_type": "code",
   "execution_count": 7,
   "metadata": {
    "colab": {
     "base_uri": "https://localhost:8080/",
     "height": 247
    },
    "colab_type": "code",
    "id": "hXuysXHl-8IP",
    "outputId": "2d3c51f6-9aa1-467d-c6b4-f6cc6af1c9fe"
   },
   "outputs": [
    {
     "data": {
      "image/png": "[encoded data removed]",
      "text/plain": [
       "<Figure size 1440x288 with 20 Axes>"
      ]
     },
     "metadata": {
      "tags": []
     },
     "output_type": "display_data"
    }
   ],
   "source": [
    "# helper display function\n",
    "def imshow(img):\n",
    "    npimg = img.numpy()\n",
    "    plt.imshow(np.transpose(npimg, (1, 2, 0)))\n",
    "\n",
    "\"\"\"\n",
    "DON'T MODIFY ANYTHING IN THIS CELL THAT IS BELOW THIS LINE\n",
    "\"\"\"\n",
    "# obtain one batch of training images\n",
    "dataiter = iter(celeba_train_loader)\n",
    "images, _ = dataiter.next() # _ for no labels\n",
    "\n",
    "# plot the images in the batch, along with the corresponding labels\n",
    "fig = plt.figure(figsize=(20, 4))\n",
    "plot_size=20\n",
    "for idx in np.arange(plot_size):\n",
    "    ax = fig.add_subplot(2, plot_size/2, idx+1, xticks=[], yticks=[])\n",
    "    imshow(images[idx])"
   ]
  },
  {
   "cell_type": "markdown",
   "metadata": {
    "colab_type": "text",
    "id": "WZ5EXqde-8IS"
   },
   "source": [
    "#### Exercise: Pre-process your image data and scale it to a pixel range of -1 to 1\n",
    "\n",
    "You need to do a bit of pre-processing; you know that the output of a `tanh` activated generator will contain pixel values in a range from -1 to 1, and so, we need to rescale our training images to a range of -1 to 1. (Right now, they are in a range from 0-1.)"
   ]
  },
  {
   "cell_type": "code",
   "execution_count": 0,
   "metadata": {
    "colab": {},
    "colab_type": "code",
    "id": "ERUe3Z0z-8IT"
   },
   "outputs": [],
   "source": [
    "# TODO: Complete the scale function\n",
    "def scale(x, feature_range=(-1, 1)):\n",
    "    ''' Scale takes in an image x and returns that image, scaled\n",
    "       with a feature_range of pixel values from -1 to 1. \n",
    "       This function assumes that the input x is already scaled from 0-1.'''\n",
    "    # assume x is scaled to (0, 1)\n",
    "    # scale to feature_range and return scaled x\n",
    "    min, max = feature_range\n",
    "    x = x * (max - min) + min\n",
    "    \n",
    "    return x\n"
   ]
  },
  {
   "cell_type": "code",
   "execution_count": 9,
   "metadata": {
    "colab": {
     "base_uri": "https://localhost:8080/",
     "height": 105
    },
    "colab_type": "code",
    "id": "4foGBO8Z-8IV",
    "outputId": "407e58d5-26b6-4cf2-d773-5f35171d923f"
   },
   "outputs": [
    {
     "name": "stdout",
     "output_type": "stream",
     "text": [
      "Unscaled Min:  tensor(0.)\n",
      "Unscaled Max:  tensor(0.9451)\n",
      "\n",
      "Scaled Min:  tensor(-1.)\n",
      "Scaled Max:  tensor(0.8902)\n"
     ]
    }
   ],
   "source": [
    "\"\"\"\n",
    "DON'T MODIFY ANYTHING IN THIS CELL THAT IS BELOW THIS LINE\n",
    "\"\"\"\n",
    "# check scaled range\n",
    "# should be close to -1 to 1\n",
    "img = images[0]\n",
    "scaled_img = scale(img)\n",
    "\n",
    "print('Unscaled Min: ', img.min())\n",
    "print('Unscaled Max: ', img.max())\n",
    "\n",
    "print('\\nScaled Min: ', scaled_img.min())\n",
    "print('Scaled Max: ', scaled_img.max())"
   ]
  },
  {
   "cell_type": "markdown",
   "metadata": {
    "colab_type": "text",
    "id": "VvtAHZF7-8IX"
   },
   "source": [
    "---\n",
    "# Define the Model\n",
    "\n",
    "A GAN is comprised of two adversarial networks, a discriminator and a generator.\n",
    "\n",
    "## Discriminator\n",
    "\n",
    "Your first task will be to define the discriminator. This is a convolutional classifier like you've built before, only without any maxpooling layers. To deal with this complex data, it's suggested you use a deep network with **normalization**. You are also allowed to create any helper functions that may be useful.\n",
    "\n",
    "#### Exercise: Complete the Discriminator class\n",
    "* The inputs to the discriminator are 32x32x3 tensor images\n",
    "* The output should be a single value that will indicate whether a given image is real or fake\n"
   ]
  },
  {
   "cell_type": "code",
   "execution_count": 0,
   "metadata": {
    "colab": {},
    "colab_type": "code",
    "id": "CA13S1LI-8IY"
   },
   "outputs": [],
   "source": [
    "import torch.nn as nn\n",
    "import torch.nn.functional as F"
   ]
  },
  {
   "cell_type": "code",
   "execution_count": 11,
   "metadata": {
    "colab": {
     "base_uri": "https://localhost:8080/",
     "height": 34
    },
    "colab_type": "code",
    "id": "GhjkfdjU-8Ia",
    "outputId": "d5a6371c-83f7-4f31-d60e-9f9a8d1cab0c"
   },
   "outputs": [
    {
     "name": "stdout",
     "output_type": "stream",
     "text": [
      "Tests Passed\n"
     ]
    }
   ],
   "source": [
    "class Discriminator(nn.Module):\n",
    "\n",
    "    def __init__(self, conv_dim):\n",
    "        \"\"\"\n",
    "        Initialize the Discriminator Module\n",
    "        :param conv_dim: The depth of the first convolutional layer\n",
    "        \"\"\"\n",
    "        super(Discriminator, self).__init__()\n",
    "\n",
    "        # complete init function\n",
    "        self.conv_dim = conv_dim\n",
    "\n",
    "        self.main = nn.Sequential(\n",
    "            nn.Conv2d(3, conv_dim, 4, 2, 1, bias = False),\n",
    "            nn.LeakyReLU(0.2, inplace = True),\n",
    "            nn.Conv2d(conv_dim, conv_dim*2, 4, 2, 1, bias = False),\n",
    "            nn.BatchNorm2d(conv_dim*2),\n",
    "            nn.LeakyReLU(0.2, inplace = True),\n",
    "            nn.Conv2d(conv_dim*2, conv_dim*4, 4, 2, 1, bias = False),\n",
    "            nn.BatchNorm2d(conv_dim*4),\n",
    "            nn.LeakyReLU(0.2, inplace = True),\n",
    "            nn.Conv2d(conv_dim*4, conv_dim*8, 4, 2, 1, bias = False)\n",
    "        )\n",
    "\n",
    "        self.fc = nn.Linear(conv_dim*8*2*2, 1)\n",
    "        \n",
    "\n",
    "    def forward(self, x):\n",
    "        \"\"\"\n",
    "        Forward propagation of the neural network\n",
    "        :param x: The input to the neural network     \n",
    "        :return: Discriminator logits; the output of the neural network\n",
    "        \"\"\"\n",
    "        # define feedforward behavior\n",
    "        out = self.main(x)\n",
    "        out = out.view(-1, self.conv_dim*8*2*2)\n",
    "        out = self.fc(out)\n",
    "        return out\n",
    "\n",
    "\n",
    "\"\"\"\n",
    "DON'T MODIFY ANYTHING IN THIS CELL THAT IS BELOW THIS LINE\n",
    "\"\"\"\n",
    "tests.test_discriminator(Discriminator)"
   ]
  },
  {
   "cell_type": "markdown",
   "metadata": {
    "colab_type": "text",
    "id": "tAP1WR_v-8Id"
   },
   "source": [
    "## Generator\n",
    "\n",
    "The generator should upsample an input and generate a *new* image of the same size as our training data `32x32x3`. This should be mostly transpose convolutional layers with normalization applied to the outputs.\n",
    "\n",
    "#### Exercise: Complete the Generator class\n",
    "* The inputs to the generator are vectors of some length `z_size`\n",
    "* The output should be a image of shape `32x32x3`"
   ]
  },
  {
   "cell_type": "code",
   "execution_count": 12,
   "metadata": {
    "colab": {
     "base_uri": "https://localhost:8080/",
     "height": 34
    },
    "colab_type": "code",
    "id": "hHGjzLsb-8Ie",
    "outputId": "6e55eb17-26c8-47d4-bc3a-0bdc25fbf5d8"
   },
   "outputs": [
    {
     "name": "stdout",
     "output_type": "stream",
     "text": [
      "Tests Passed\n"
     ]
    }
   ],
   "source": [
    "class Generator(nn.Module):\n",
    "    \n",
    "    def __init__(self, z_size, conv_dim):\n",
    "        \"\"\"\n",
    "        Initialize the Generator Module\n",
    "        :param z_size: The length of the input latent vector, z\n",
    "        :param conv_dim: The depth of the inputs to the *last* transpose convolutional layer\n",
    "        \"\"\"\n",
    "        super(Generator, self).__init__()\n",
    "\n",
    "        # complete init function\n",
    "        self.conv_dim = conv_dim\n",
    "        self.fc = nn.Linear(z_size, conv_dim*8*2*2)\n",
    "\n",
    "        self.main = nn.Sequential(\n",
    "            nn.ConvTranspose2d(conv_dim*8, conv_dim*4, 4, 2, 1, bias = False),\n",
    "            nn.BatchNorm2d(conv_dim*4),\n",
    "            nn.ReLU(True),\n",
    "            nn.ConvTranspose2d(conv_dim*4, conv_dim*2, 4, 2, 1, bias = False),\n",
    "            nn.BatchNorm2d(conv_dim*2),\n",
    "            nn.ReLU(True),\n",
    "            nn.ConvTranspose2d(conv_dim*2, conv_dim, 4, 2, 1, bias = False),\n",
    "            nn.BatchNorm2d(conv_dim),\n",
    "            nn.ReLU(True),\n",
    "            nn.ConvTranspose2d(conv_dim, 3, 4, 2, 1, bias = False),\n",
    "            nn.Tanh()\n",
    "        )\n",
    "\n",
    "    def forward(self, x):\n",
    "        \"\"\"\n",
    "        Forward propagation of the neural network\n",
    "        :param x: The input to the neural network     \n",
    "        :return: A 32x32x3 Tensor image as output\n",
    "        \"\"\"\n",
    "        # define feedforward behavior\n",
    "        out = self.fc(x)\n",
    "        out = out.view(-1, self.conv_dim*8, 2, 2)\n",
    "        out = self.main(out)\n",
    "        return out\n",
    "\n",
    "\"\"\"\n",
    "DON'T MODIFY ANYTHING IN THIS CELL THAT IS BELOW THIS LINE\n",
    "\"\"\"\n",
    "tests.test_generator(Generator)"
   ]
  },
  {
   "cell_type": "markdown",
   "metadata": {
    "colab_type": "text",
    "id": "T0RVAx8b-8Ig"
   },
   "source": [
    "## Initialize the weights of your networks\n",
    "\n",
    "To help your models converge, you should initialize the weights of the convolutional and linear layers in your model. From reading the [original DCGAN paper](https://arxiv.org/pdf/1511.06434.pdf), they say:\n",
    "> All weights were initialized from a zero-centered Normal distribution with standard deviation 0.02.\n",
    "\n",
    "So, your next task will be to define a weight initialization function that does just this!\n",
    "\n",
    "You can refer back to the lesson on weight initialization or even consult existing model code, such as that from [the `networks.py` file in CycleGAN Github repository](https://github.com/junyanz/pytorch-CycleGAN-and-pix2pix/blob/master/models/networks.py) to help you complete this function.\n",
    "\n",
    "#### Exercise: Complete the weight initialization function\n",
    "\n",
    "* This should initialize only **convolutional** and **linear** layers\n",
    "* Initialize the weights to a normal distribution, centered around 0, with a standard deviation of 0.02.\n",
    "* The bias terms, if they exist, may be left alone or set to 0."
   ]
  },
  {
   "cell_type": "code",
   "execution_count": 0,
   "metadata": {
    "colab": {},
    "colab_type": "code",
    "id": "SMuN0X8r-8Ih"
   },
   "outputs": [],
   "source": [
    "def weights_init_normal(m):\n",
    "    \"\"\"\n",
    "    Applies initial weights to certain layers in a model .\n",
    "    The weights are taken from a normal distribution \n",
    "    with mean = 0, std dev = 0.02.\n",
    "    :param m: A module or layer in a network    \n",
    "    \"\"\"\n",
    "    # classname will be something like:\n",
    "    # `Conv`, `BatchNorm2d`, `Linear`, etc.\n",
    "    classname = m.__class__.__name__\n",
    "    \n",
    "    # TODO: Apply initial weights to convolutional and linear layers\n",
    "    if (classname.find('Conv') != -1) or (classname.find('Linear') != -1):\n",
    "      m.weight.data.normal_(0, 0.2)\n",
    "    \n",
    "    "
   ]
  },
  {
   "cell_type": "markdown",
   "metadata": {
    "colab_type": "text",
    "collapsed": true,
    "id": "fS7pWZIr-8Ik"
   },
   "source": [
    "## Build complete network\n",
    "\n",
    "Define your models' hyperparameters and instantiate the discriminator and generator from the classes defined above. Make sure you've passed in the correct input arguments."
   ]
  },
  {
   "cell_type": "code",
   "execution_count": 0,
   "metadata": {
    "colab": {},
    "colab_type": "code",
    "id": "i1cRLGYc-8Il"
   },
   "outputs": [],
   "source": [
    "\"\"\"\n",
    "DON'T MODIFY ANYTHING IN THIS CELL THAT IS BELOW THIS LINE\n",
    "\"\"\"\n",
    "def build_network(d_conv_dim, g_conv_dim, z_size):\n",
    "    # define discriminator and generator\n",
    "    D = Discriminator(d_conv_dim)\n",
    "    G = Generator(z_size=z_size, conv_dim=g_conv_dim)\n",
    "\n",
    "    # initialize model weights\n",
    "    D.apply(weights_init_normal)\n",
    "    G.apply(weights_init_normal)\n",
    "\n",
    "    print(D)\n",
    "    print()\n",
    "    print(G)\n",
    "    \n",
    "    return D, G\n"
   ]
  },
  {
   "cell_type": "markdown",
   "metadata": {
    "colab_type": "text",
    "id": "H3KHJw3g-8In"
   },
   "source": [
    "#### Exercise: Define model hyperparameters"
   ]
  },
  {
   "cell_type": "code",
   "execution_count": 15,
   "metadata": {
    "colab": {
     "base_uri": "https://localhost:8080/",
     "height": 567
    },
    "colab_type": "code",
    "id": "1sn31U_T-8Io",
    "outputId": "6e9ed47e-55cc-4074-ece7-834195ea6259"
   },
   "outputs": [
    {
     "name": "stdout",
     "output_type": "stream",
     "text": [
      "Discriminator(\n",
      "  (main): Sequential(\n",
      "    (0): Conv2d(3, 64, kernel_size=(4, 4), stride=(2, 2), padding=(1, 1), bias=False)\n",
      "    (1): LeakyReLU(negative_slope=0.2, inplace=True)\n",
      "    (2): Conv2d(64, 128, kernel_size=(4, 4), stride=(2, 2), padding=(1, 1), bias=False)\n",
      "    (3): BatchNorm2d(128, eps=1e-05, momentum=0.1, affine=True, track_running_stats=True)\n",
      "    (4): LeakyReLU(negative_slope=0.2, inplace=True)\n",
      "    (5): Conv2d(128, 256, kernel_size=(4, 4), stride=(2, 2), padding=(1, 1), bias=False)\n",
      "    (6): BatchNorm2d(256, eps=1e-05, momentum=0.1, affine=True, track_running_stats=True)\n",
      "    (7): LeakyReLU(negative_slope=0.2, inplace=True)\n",
      "    (8): Conv2d(256, 512, kernel_size=(4, 4), stride=(2, 2), padding=(1, 1), bias=False)\n",
      "  )\n",
      "  (fc): Linear(in_features=2048, out_features=1, bias=True)\n",
      ")\n",
      "\n",
      "Generator(\n",
      "  (fc): Linear(in_features=100, out_features=2048, bias=True)\n",
      "  (main): Sequential(\n",
      "    (0): ConvTranspose2d(512, 256, kernel_size=(4, 4), stride=(2, 2), padding=(1, 1), bias=False)\n",
      "    (1): BatchNorm2d(256, eps=1e-05, momentum=0.1, affine=True, track_running_stats=True)\n",
      "    (2): ReLU(inplace=True)\n",
      "    (3): ConvTranspose2d(256, 128, kernel_size=(4, 4), stride=(2, 2), padding=(1, 1), bias=False)\n",
      "    (4): BatchNorm2d(128, eps=1e-05, momentum=0.1, affine=True, track_running_stats=True)\n",
      "    (5): ReLU(inplace=True)\n",
      "    (6): ConvTranspose2d(128, 64, kernel_size=(4, 4), stride=(2, 2), padding=(1, 1), bias=False)\n",
      "    (7): BatchNorm2d(64, eps=1e-05, momentum=0.1, affine=True, track_running_stats=True)\n",
      "    (8): ReLU(inplace=True)\n",
      "    (9): ConvTranspose2d(64, 3, kernel_size=(4, 4), stride=(2, 2), padding=(1, 1), bias=False)\n",
      "    (10): Tanh()\n",
      "  )\n",
      ")\n"
     ]
    }
   ],
   "source": [
    "# Define model hyperparams\n",
    "d_conv_dim = 64\n",
    "g_conv_dim = 64\n",
    "z_size = 100\n",
    "\n",
    "\"\"\"\n",
    "DON'T MODIFY ANYTHING IN THIS CELL THAT IS BELOW THIS LINE\n",
    "\"\"\"\n",
    "D, G = build_network(d_conv_dim, g_conv_dim, z_size)"
   ]
  },
  {
   "cell_type": "markdown",
   "metadata": {
    "colab_type": "text",
    "id": "uduR-1Qy-8Iq"
   },
   "source": [
    "### Training on GPU\n",
    "\n",
    "Check if you can train on GPU. Here, we'll set this as a boolean variable `train_on_gpu`. Later, you'll be responsible for making sure that \n",
    ">* Models,\n",
    "* Model inputs, and\n",
    "* Loss function arguments\n",
    "\n",
    "Are moved to GPU, where appropriate."
   ]
  },
  {
   "cell_type": "code",
   "execution_count": 25,
   "metadata": {
    "colab": {
     "base_uri": "https://localhost:8080/",
     "height": 34
    },
    "colab_type": "code",
    "id": "O-W7VAhU-8Ir",
    "outputId": "f6d1c9af-19e0-4172-bcb7-69b1b9791342"
   },
   "outputs": [
    {
     "name": "stdout",
     "output_type": "stream",
     "text": [
      "Training on GPU!\n"
     ]
    }
   ],
   "source": [
    "\"\"\"\n",
    "DON'T MODIFY ANYTHING IN THIS CELL\n",
    "\"\"\"\n",
    "import torch\n",
    "\n",
    "# Check for a GPU\n",
    "train_on_gpu = torch.cuda.is_available()\n",
    "if not train_on_gpu:\n",
    "    print('No GPU found. Please use a GPU to train your neural network.')\n",
    "else:\n",
    "    print('Training on GPU!')"
   ]
  },
  {
   "cell_type": "markdown",
   "metadata": {
    "colab_type": "text",
    "id": "hIO1d54A-8Iu"
   },
   "source": [
    "---\n",
    "## Discriminator and Generator Losses\n",
    "\n",
    "Now we need to calculate the losses for both types of adversarial networks.\n",
    "\n",
    "### Discriminator Losses\n",
    "\n",
    "> * For the discriminator, the total loss is the sum of the losses for real and fake images, `d_loss = d_real_loss + d_fake_loss`. \n",
    "* Remember that we want the discriminator to output 1 for real images and 0 for fake images, so we need to set up the losses to reflect that.\n",
    "\n",
    "\n",
    "### Generator Loss\n",
    "\n",
    "The generator loss will look similar only with flipped labels. The generator's goal is to get the discriminator to *think* its generated images are *real*.\n",
    "\n",
    "#### Exercise: Complete real and fake loss functions\n",
    "\n",
    "**You may choose to use either cross entropy or a least squares error loss to complete the following `real_loss` and `fake_loss` functions.**"
   ]
  },
  {
   "cell_type": "code",
   "execution_count": 0,
   "metadata": {
    "colab": {},
    "colab_type": "code",
    "id": "bGdgHbwB-8Iv"
   },
   "outputs": [],
   "source": [
    "def real_loss(D_out):\n",
    "    '''Calculates how close discriminator outputs are to being real.\n",
    "       param, D_out: discriminator logits\n",
    "       return: real loss'''\n",
    "    target = torch.ones(D_out.size(0))\n",
    "    criterion = nn.BCEWithLogitsLoss()\n",
    "    if train_on_gpu:\n",
    "      target = target.cuda()\n",
    "    loss = criterion(D_out.squeeze(), target)\n",
    "    return loss\n",
    "\n",
    "def fake_loss(D_out):\n",
    "    '''Calculates how close discriminator outputs are to being fake.\n",
    "       param, D_out: discriminator logits\n",
    "       return: fake loss'''\n",
    "    target = torch.zeros(D_out.size(0))\n",
    "    criterion = nn.BCEWithLogitsLoss()\n",
    "    if train_on_gpu:\n",
    "      target = target.cuda()\n",
    "    loss = criterion(D_out.squeeze(), target)\n",
    "    return loss"
   ]
  },
  {
   "cell_type": "markdown",
   "metadata": {
    "colab_type": "text",
    "id": "ppdJnnrK-8Iy"
   },
   "source": [
    "## Optimizers\n",
    "\n",
    "#### Exercise: Define optimizers for your Discriminator (D) and Generator (G)\n",
    "\n",
    "Define optimizers for your models with appropriate hyperparameters."
   ]
  },
  {
   "cell_type": "code",
   "execution_count": 0,
   "metadata": {
    "colab": {},
    "colab_type": "code",
    "id": "2SLN0det-8Iz"
   },
   "outputs": [],
   "source": [
    "import torch.optim as optim\n",
    "\n",
    "# params\n",
    "lr = 0.0002\n",
    "beta1=0.5\n",
    "beta2=0.999 # default value\n",
    "\n",
    "# Create optimizers for the discriminator D and generator G\n",
    "d_optimizer = optim.Adam(D.parameters(), lr, [beta1, beta2])\n",
    "g_optimizer = optim.Adam(G.parameters(), lr, [beta1, beta2])"
   ]
  },
  {
   "cell_type": "markdown",
   "metadata": {
    "colab_type": "text",
    "id": "PlZautwB-8I4"
   },
   "source": [
    "---\n",
    "## Training\n",
    "\n",
    "Training will involve alternating between training the discriminator and the generator. You'll use your functions `real_loss` and `fake_loss` to help you calculate the discriminator losses.\n",
    "\n",
    "* You should train the discriminator by alternating on real and fake images\n",
    "* Then the generator, which tries to trick the discriminator and should have an opposing loss function\n",
    "\n",
    "\n",
    "#### Saving Samples\n",
    "\n",
    "You've been given some code to print out some loss statistics and save some generated \"fake\" samples."
   ]
  },
  {
   "cell_type": "markdown",
   "metadata": {
    "colab_type": "text",
    "id": "aiXVW20z-8I6"
   },
   "source": [
    "#### Exercise: Complete the training function\n",
    "\n",
    "Keep in mind that, if you've moved your models to GPU, you'll also have to move any model inputs to GPU."
   ]
  },
  {
   "cell_type": "code",
   "execution_count": 0,
   "metadata": {
    "colab": {},
    "colab_type": "code",
    "id": "G14ozDbl-8I7"
   },
   "outputs": [],
   "source": [
    "def train(D, G, n_epochs, print_every=2000):\n",
    "    '''Trains adversarial networks for some number of epochs\n",
    "       param, D: the discriminator network\n",
    "       param, G: the generator network\n",
    "       param, n_epochs: number of epochs to train for\n",
    "       param, print_every: when to print and record the models' losses\n",
    "       return: D and G losses'''\n",
    "    \n",
    "    # move models to GPU\n",
    "    if train_on_gpu:\n",
    "        D.cuda()\n",
    "        G.cuda()\n",
    "\n",
    "    # keep track of loss and generated, \"fake\" samples\n",
    "    samples = []\n",
    "    losses = []\n",
    "\n",
    "    # Get some fixed data for sampling. These are images that are held\n",
    "    # constant throughout training, and allow us to inspect the model's performance\n",
    "    sample_size=16\n",
    "    fixed_z = np.random.uniform(-1, 1, size=(sample_size, z_size))\n",
    "    fixed_z = torch.from_numpy(fixed_z).float()\n",
    "    # move z to GPU if available\n",
    "    if train_on_gpu:\n",
    "        fixed_z = fixed_z.cuda()\n",
    "\n",
    "    # epoch training loop\n",
    "    for epoch in range(n_epochs):\n",
    "\n",
    "        # batch training loop\n",
    "        for batch_i, (real_images, _) in enumerate(celeba_train_loader):\n",
    "\n",
    "            batch_size = real_images.size(0)\n",
    "            real_images = scale(real_images)\n",
    "\n",
    "            # ===============================================\n",
    "            #         YOUR CODE HERE: TRAIN THE NETWORKS\n",
    "            # ===============================================\n",
    "            \n",
    "            # 1. Train the discriminator on real and fake images\n",
    "            d_optimizer.zero_grad()\n",
    "        \n",
    "            # 1. Train with real images\n",
    "\n",
    "            # Compute the discriminator losses on real images \n",
    "            if train_on_gpu:\n",
    "                real_images = real_images.cuda()\n",
    "            \n",
    "            D_real = D(real_images)\n",
    "            d_real_loss = real_loss(D_real)\n",
    "            \n",
    "            # 2. Train with fake images\n",
    "            \n",
    "            # Generate fake images\n",
    "            z = np.random.uniform(-1, 1, size=(batch_size, z_size))\n",
    "            z = torch.from_numpy(z).float()\n",
    "            # move x to GPU, if available\n",
    "            if train_on_gpu:\n",
    "                z = z.cuda()\n",
    "            fake_images = G(z)\n",
    "            \n",
    "            # Compute the discriminator losses on fake images            \n",
    "            D_fake = D(fake_images)\n",
    "            d_fake_loss = fake_loss(D_fake)\n",
    "            \n",
    "            # add up loss and perform backprop\n",
    "            d_loss = d_real_loss + d_fake_loss\n",
    "            d_loss.backward()\n",
    "            d_optimizer.step()\n",
    "\n",
    "            # 2. Train the generator with an adversarial loss\n",
    "            g_optimizer.zero_grad()\n",
    "        \n",
    "            # 1. Train with fake images and flipped labels\n",
    "            \n",
    "            # Generate fake images\n",
    "            z = np.random.uniform(-1, 1, size=(batch_size, z_size))\n",
    "            z = torch.from_numpy(z).float()\n",
    "            if train_on_gpu:\n",
    "                z = z.cuda()\n",
    "            fake_images = G(z)\n",
    "            \n",
    "            # Compute the discriminator losses on fake images \n",
    "            # using flipped labels!\n",
    "            D_fake = D(fake_images)\n",
    "            g_loss = real_loss(D_fake) # use real loss to flip labels\n",
    "            \n",
    "            # perform backprop\n",
    "            g_loss.backward()\n",
    "            g_optimizer.step()\n",
    "            \n",
    "            # ===============================================\n",
    "            #              END OF YOUR CODE\n",
    "            # ===============================================\n",
    "\n",
    "            # Print some loss stats\n",
    "            if batch_i % print_every == 0:\n",
    "                # append discriminator loss and generator loss\n",
    "                losses.append((d_loss.item(), g_loss.item()))\n",
    "                # print discriminator and generator loss\n",
    "                print('Epoch [{:5d}/{:5d}] | d_loss: {:6.4f} | g_loss: {:6.4f}'.format(\n",
    "                        epoch+1, n_epochs, d_loss.item(), g_loss.item()))\n",
    "\n",
    "\n",
    "        ## AFTER EACH EPOCH##    \n",
    "        # this code assumes your generator is named G, feel free to change the name\n",
    "        # generate and save sample, fake images\n",
    "        G.eval() # for generating samples\n",
    "        samples_z = G(fixed_z)\n",
    "        samples.append(samples_z)\n",
    "        G.train() # back to training mode\n",
    "\n",
    "    # Save training generator samples\n",
    "    with open('train_samples.pkl', 'wb') as f:\n",
    "        pkl.dump(samples, f)\n",
    "    \n",
    "    # finally return losses\n",
    "    return losses"
   ]
  },
  {
   "cell_type": "markdown",
   "metadata": {
    "colab_type": "text",
    "id": "tGOem-Y6-8I9"
   },
   "source": [
    "Set your number of training epochs and train your GAN!"
   ]
  },
  {
   "cell_type": "code",
   "execution_count": 37,
   "metadata": {
    "colab": {
     "base_uri": "https://localhost:8080/",
     "height": 1000
    },
    "colab_type": "code",
    "id": "4EltFBDq-8I-",
    "outputId": "33f02e11-d702-4bdd-ec4d-d55e9ceac399"
   },
   "outputs": [
    {
     "name": "stdout",
     "output_type": "stream",
     "text": [
      "Epoch [    1/   50] | d_loss: 0.0000 | g_loss: 351.3525\n",
      "Epoch [    1/   50] | d_loss: 0.0000 | g_loss: 310.4852\n",
      "Epoch [    2/   50] | d_loss: 0.0000 | g_loss: 124.0021\n",
      "Epoch [    2/   50] | d_loss: 0.0000 | g_loss: 273.2803\n",
      "Epoch [    3/   50] | d_loss: 0.0000 | g_loss: 195.4091\n",
      "Epoch [    3/   50] | d_loss: 0.0000 | g_loss: 141.2857\n",
      "Epoch [    4/   50] | d_loss: 0.0000 | g_loss: 423.2170\n",
      "Epoch [    4/   50] | d_loss: 0.0010 | g_loss: 8.3860\n",
      "Epoch [    5/   50] | d_loss: 0.0016 | g_loss: 9.4109\n",
      "Epoch [    5/   50] | d_loss: 0.0000 | g_loss: 64.1267\n",
      "Epoch [    6/   50] | d_loss: 0.0000 | g_loss: 812.1586\n",
      "Epoch [    6/   50] | d_loss: 10.3152 | g_loss: 428.6870\n",
      "Epoch [    7/   50] | d_loss: 0.0000 | g_loss: 54.4622\n",
      "Epoch [    7/   50] | d_loss: 0.0000 | g_loss: 84.1936\n",
      "Epoch [    8/   50] | d_loss: 0.0027 | g_loss: 9.3322\n",
      "Epoch [    8/   50] | d_loss: 0.0000 | g_loss: 213.8733\n",
      "Epoch [    9/   50] | d_loss: 0.0000 | g_loss: 319.4114\n",
      "Epoch [    9/   50] | d_loss: 0.0000 | g_loss: 128.4897\n",
      "Epoch [   10/   50] | d_loss: 0.0000 | g_loss: 824.7350\n",
      "Epoch [   10/   50] | d_loss: 0.0002 | g_loss: 8.8646\n",
      "Epoch [   11/   50] | d_loss: 0.0000 | g_loss: 213.6049\n",
      "Epoch [   11/   50] | d_loss: 3.6037 | g_loss: 1043.4775\n",
      "Epoch [   12/   50] | d_loss: 0.0000 | g_loss: 36.7618\n",
      "Epoch [   12/   50] | d_loss: 0.0000 | g_loss: 406.0001\n",
      "Epoch [   13/   50] | d_loss: 0.0000 | g_loss: 43.6970\n",
      "Epoch [   13/   50] | d_loss: 0.0000 | g_loss: 75.9298\n",
      "Epoch [   14/   50] | d_loss: 0.0000 | g_loss: 42.6491\n",
      "Epoch [   14/   50] | d_loss: 0.0000 | g_loss: 41.3538\n",
      "Epoch [   15/   50] | d_loss: 0.0000 | g_loss: 104.4265\n",
      "Epoch [   15/   50] | d_loss: 0.0001 | g_loss: 9.7255\n",
      "Epoch [   16/   50] | d_loss: 0.0000 | g_loss: 322.3147\n",
      "Epoch [   16/   50] | d_loss: 0.0000 | g_loss: 92.7696\n",
      "Epoch [   17/   50] | d_loss: 0.0000 | g_loss: 227.4874\n",
      "Epoch [   17/   50] | d_loss: 0.0000 | g_loss: 288.8846\n",
      "Epoch [   18/   50] | d_loss: 0.0000 | g_loss: 20.5457\n",
      "Epoch [   18/   50] | d_loss: 0.0000 | g_loss: 63.9500\n",
      "Epoch [   19/   50] | d_loss: 0.0000 | g_loss: 25.6273\n",
      "Epoch [   19/   50] | d_loss: 0.0000 | g_loss: 656.3423\n",
      "Epoch [   20/   50] | d_loss: 0.0009 | g_loss: 10.9384\n",
      "Epoch [   20/   50] | d_loss: 0.0000 | g_loss: 11.2533\n",
      "Epoch [   21/   50] | d_loss: 0.0000 | g_loss: 424.7137\n",
      "Epoch [   21/   50] | d_loss: 0.0000 | g_loss: 132.2056\n",
      "Epoch [   22/   50] | d_loss: 0.0000 | g_loss: 23.7557\n",
      "Epoch [   22/   50] | d_loss: 0.0000 | g_loss: 89.7522\n",
      "Epoch [   23/   50] | d_loss: 0.0000 | g_loss: 74.7882\n",
      "Epoch [   23/   50] | d_loss: 0.0000 | g_loss: 126.1059\n",
      "Epoch [   24/   50] | d_loss: 0.0000 | g_loss: 140.4521\n",
      "Epoch [   24/   50] | d_loss: 0.0000 | g_loss: 34.7859\n",
      "Epoch [   25/   50] | d_loss: 0.0000 | g_loss: 99.0518\n",
      "Epoch [   25/   50] | d_loss: 0.0000 | g_loss: 23.2898\n",
      "Epoch [   26/   50] | d_loss: 0.0000 | g_loss: 619.6046\n",
      "Epoch [   26/   50] | d_loss: 0.0000 | g_loss: 13.0583\n",
      "Epoch [   27/   50] | d_loss: 0.0000 | g_loss: 138.9632\n",
      "Epoch [   27/   50] | d_loss: 0.0000 | g_loss: 27.4198\n",
      "Epoch [   28/   50] | d_loss: 0.0000 | g_loss: 127.0869\n",
      "Epoch [   28/   50] | d_loss: 0.0000 | g_loss: 217.3462\n",
      "Epoch [   29/   50] | d_loss: 0.0000 | g_loss: 90.6387\n",
      "Epoch [   29/   50] | d_loss: 0.0000 | g_loss: 220.8883\n",
      "Epoch [   30/   50] | d_loss: 0.0003 | g_loss: 10.6247\n",
      "Epoch [   30/   50] | d_loss: 0.0001 | g_loss: 10.7275\n",
      "Epoch [   31/   50] | d_loss: 0.0000 | g_loss: 233.5560\n",
      "Epoch [   31/   50] | d_loss: 9.1727 | g_loss: 18.3736\n",
      "Epoch [   32/   50] | d_loss: 12.0364 | g_loss: 18.0241\n",
      "Epoch [   32/   50] | d_loss: 4.6624 | g_loss: 33.0450\n",
      "Epoch [   33/   50] | d_loss: 6.4424 | g_loss: 23.9119\n",
      "Epoch [   33/   50] | d_loss: 0.6046 | g_loss: 11.7121\n",
      "Epoch [   34/   50] | d_loss: 2.9792 | g_loss: 7.7314\n",
      "Epoch [   34/   50] | d_loss: 4.3584 | g_loss: 14.2489\n",
      "Epoch [   35/   50] | d_loss: 2.3904 | g_loss: 5.0938\n",
      "Epoch [   35/   50] | d_loss: 0.8472 | g_loss: 3.9958\n",
      "Epoch [   36/   50] | d_loss: 5.4378 | g_loss: 9.6485\n",
      "Epoch [   36/   50] | d_loss: 3.0773 | g_loss: 9.3182\n",
      "Epoch [   37/   50] | d_loss: 2.9796 | g_loss: 14.2124\n",
      "Epoch [   37/   50] | d_loss: 4.4906 | g_loss: 6.2721\n",
      "Epoch [   38/   50] | d_loss: 8.7067 | g_loss: 12.7650\n",
      "Epoch [   38/   50] | d_loss: 4.2899 | g_loss: 7.8396\n",
      "Epoch [   39/   50] | d_loss: 1.7907 | g_loss: 14.1313\n",
      "Epoch [   39/   50] | d_loss: 1.5066 | g_loss: 18.0508\n",
      "Epoch [   40/   50] | d_loss: 7.6785 | g_loss: 22.8079\n",
      "Epoch [   40/   50] | d_loss: 4.0880 | g_loss: 33.6309\n",
      "Epoch [   41/   50] | d_loss: 4.6427 | g_loss: 8.6313\n",
      "Epoch [   41/   50] | d_loss: 0.5337 | g_loss: 3.9834\n",
      "Epoch [   42/   50] | d_loss: 0.5214 | g_loss: 6.4168\n",
      "Epoch [   42/   50] | d_loss: 1.6236 | g_loss: 17.4775\n",
      "Epoch [   43/   50] | d_loss: 0.2863 | g_loss: 22.0325\n",
      "Epoch [   43/   50] | d_loss: 2.9099 | g_loss: 13.4067\n",
      "Epoch [   44/   50] | d_loss: 0.1165 | g_loss: 14.9530\n",
      "Epoch [   44/   50] | d_loss: 0.1293 | g_loss: 9.7825\n",
      "Epoch [   45/   50] | d_loss: 1.8839 | g_loss: 16.4961\n",
      "Epoch [   45/   50] | d_loss: 0.0053 | g_loss: 10.4933\n",
      "Epoch [   46/   50] | d_loss: 1.6665 | g_loss: 11.0937\n",
      "Epoch [   46/   50] | d_loss: 0.5338 | g_loss: 9.5054\n",
      "Epoch [   47/   50] | d_loss: 0.8981 | g_loss: 14.0937\n",
      "Epoch [   47/   50] | d_loss: 0.4418 | g_loss: 9.8640\n",
      "Epoch [   48/   50] | d_loss: 0.5210 | g_loss: 7.2681\n",
      "Epoch [   48/   50] | d_loss: 1.6000 | g_loss: 15.1820\n",
      "Epoch [   49/   50] | d_loss: 1.3519 | g_loss: 8.9849\n",
      "Epoch [   49/   50] | d_loss: 0.4669 | g_loss: 9.4672\n",
      "Epoch [   50/   50] | d_loss: 7.5990 | g_loss: 12.2166\n",
      "Epoch [   50/   50] | d_loss: 5.7757 | g_loss: 14.5503\n"
     ]
    }
   ],
   "source": [
    "# set number of epochs \n",
    "n_epochs = 50\n",
    "\n",
    "\n",
    "\"\"\"\n",
    "DON'T MODIFY ANYTHING IN THIS CELL\n",
    "\"\"\"\n",
    "# call training function\n",
    "losses = train(D, G, n_epochs=n_epochs)"
   ]
  },
  {
   "cell_type": "markdown",
   "metadata": {
    "colab_type": "text",
    "collapsed": true,
    "id": "4WZpMAks-8JA"
   },
   "source": [
    "## Training loss\n",
    "\n",
    "Plot the training losses for the generator and discriminator, recorded after each epoch."
   ]
  },
  {
   "cell_type": "code",
   "execution_count": 38,
   "metadata": {
    "colab": {
     "base_uri": "https://localhost:8080/",
     "height": 298
    },
    "colab_type": "code",
    "id": "1wLoYJp1-8JB",
    "outputId": "e13053d0-eb02-4045-a83a-634ec75228e2"
   },
   "outputs": [
    {
     "data": {
      "text/plain": [
       "<matplotlib.legend.Legend at 0x7fb1112195f8>"
      ]
     },
     "execution_count": 38,
     "metadata": {
      "tags": []
     },
     "output_type": "execute_result"
    },
    {
     "data": {
      "image/png": "[encoded data removed]",
      "text/plain": [
       "<Figure size 432x288 with 1 Axes>"
      ]
     },
     "metadata": {
      "tags": []
     },
     "output_type": "display_data"
    }
   ],
   "source": [
    "fig, ax = plt.subplots()\n",
    "losses = np.array(losses)\n",
    "plt.plot(losses.T[0], label='Discriminator', alpha=0.5)\n",
    "plt.plot(losses.T[1], label='Generator', alpha=0.5)\n",
    "plt.title(\"Training Losses\")\n",
    "plt.legend()"
   ]
  },
  {
   "cell_type": "markdown",
   "metadata": {
    "colab_type": "text",
    "collapsed": true,
    "id": "Y9-mGpsu-8JF"
   },
   "source": [
    "## Generator samples from training\n",
    "\n",
    "View samples of images from the generator, and answer a question about the strengths and weaknesses of your trained models."
   ]
  },
  {
   "cell_type": "code",
   "execution_count": 0,
   "metadata": {
    "colab": {},
    "colab_type": "code",
    "id": "-dnGOs25-8JF"
   },
   "outputs": [],
   "source": [
    "# helper function for viewing a list of passed in sample images\n",
    "def view_samples(epoch, samples):\n",
    "    fig, axes = plt.subplots(figsize=(16,4), nrows=2, ncols=8, sharey=True, sharex=True)\n",
    "    for ax, img in zip(axes.flatten(), samples[epoch]):\n",
    "        img = img.detach().cpu().numpy()\n",
    "        img = np.transpose(img, (1, 2, 0))\n",
    "        img = ((img + 1)*255 / (2)).astype(np.uint8)\n",
    "        ax.xaxis.set_visible(False)\n",
    "        ax.yaxis.set_visible(False)\n",
    "        im = ax.imshow(img.reshape((32,32,3)))"
   ]
  },
  {
   "cell_type": "code",
   "execution_count": 0,
   "metadata": {
    "colab": {},
    "colab_type": "code",
    "id": "BYABDgwq-8JI"
   },
   "outputs": [],
   "source": [
    "# Load samples from generator, taken while training\n",
    "with open('train_samples.pkl', 'rb') as f:\n",
    "    samples = pkl.load(f)"
   ]
  },
  {
   "cell_type": "code",
   "execution_count": 41,
   "metadata": {
    "colab": {
     "base_uri": "https://localhost:8080/",
     "height": 247
    },
    "colab_type": "code",
    "id": "P0pLnQch-8JL",
    "outputId": "e1f9d8e9-dee3-4d92-ed6e-f36fb939f3fa"
   },
   "outputs": [
    {
     "data": {
      "image/png": "[encoded data removed]",
      "text/plain": [
       "<Figure size 1152x288 with 16 Axes>"
      ]
     },
     "metadata": {
      "tags": []
     },
     "output_type": "display_data"
    }
   ],
   "source": [
    "_ = view_samples(-1, samples)"
   ]
  },
  {
   "cell_type": "markdown",
   "metadata": {
    "colab_type": "text",
    "id": "C2DHCUHF-8JN"
   },
   "source": [
    "### Question: What do you notice about your generated samples and how might you improve this model?\n",
    "When you answer this question, consider the following factors:\n",
    "* The dataset is biased; it is made of \"celebrity\" faces that are mostly white\n",
    "* Model size; larger models have the opportunity to learn more features in a data feature space\n",
    "* Optimization strategy; optimizers and number of epochs affect your final result\n"
   ]
  },
  {
   "cell_type": "markdown",
   "metadata": {
    "colab_type": "text",
    "id": "2CtCZpbw-8JO"
   },
   "source": [
    "**Answer:** (Write your answer in this cell)\n",
    "1. Dataset was certainly biased as there is not a single black image in the generated sample. Also, looks like the dataset contains more female faces than male.\n",
    "2. I wanted to get better training results so I choose model architecture with as many as 4 conv layers; this resulted in the network taking a lot of time and lot many epochs to train; I think if I reduce the conv layers in both Discriminator as well as Generator I would be able to reach lower loss figures earlier.\n",
    "3. Went with the standard optimization parameters as proposed in the GAN paper but I feel that a lower learning rate would have helped reach lower Generator loss earlier in fewer epochs. As we can see the loss profile, Generator has been struggling till about 32 epoch post while it was finally able to gain some traction."
   ]
  },
  {
   "cell_type": "markdown",
   "metadata": {
    "colab_type": "text",
    "id": "lmehDYcW-8JP"
   },
   "source": [
    "### Submitting This Project\n",
    "When submitting this project, make sure to run all the cells before saving the notebook. Save the notebook file as \"dlnd_face_generation.ipynb\" and save it as a HTML file under \"File\" -> \"Download as\". Include the \"problem_unittests.py\" files in your submission."
   ]
  }
 ],
 "metadata": {
  "accelerator": "GPU",
  "colab": {
   "name": "dlnd_face_generation.ipynb",
   "provenance": []
  },
  "kernelspec": {
   "display_name": "Python 3",
   "language": "python",
   "name": "python3"
  },
  "language_info": {
   "codemirror_mode": {
    "name": "ipython",
    "version": 3
   },
   "file_extension": ".py",
   "mimetype": "text/x-python",
   "name": "python",
   "nbconvert_exporter": "python",
   "pygments_lexer": "ipython3",
   "version": "3.7.1"
  }
 },
 "nbformat": 4,
 "nbformat_minor": 1
}
