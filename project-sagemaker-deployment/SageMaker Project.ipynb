{
 "cells": [
  {
   "cell_type": "markdown",
   "metadata": {},
   "source": [
    "# Creating a Sentiment Analysis Web App\n",
    "## Using PyTorch and SageMaker\n",
    "\n",
    "_Deep Learning Nanodegree Program | Deployment_\n",
    "\n",
    "---\n",
    "\n",
    "Now that we have a basic understanding of how SageMaker works we will try to use it to construct a complete project from end to end. Our goal will be to have a simple web page which a user can use to enter a movie review. The web page will then send the review off to our deployed model which will predict the sentiment of the entered review.\n",
    "\n",
    "## Instructions\n",
    "\n",
    "Some template code has already been provided for you, and you will need to implement additional functionality to successfully complete this notebook. You will not need to modify the included code beyond what is requested. Sections that begin with '**TODO**' in the header indicate that you need to complete or implement some portion within them. Instructions will be provided for each section and the specifics of the implementation are marked in the code block with a `# TODO: ...` comment. Please be sure to read the instructions carefully!\n",
    "\n",
    "In addition to implementing code, there will be questions for you to answer which relate to the task and your implementation. Each section where you will answer a question is preceded by a '**Question:**' header. Carefully read each question and provide your answer below the '**Answer:**' header by editing the Markdown cell.\n",
    "\n",
    "> **Note**: Code and Markdown cells can be executed using the **Shift+Enter** keyboard shortcut. In addition, a cell can be edited by typically clicking it (double-click for Markdown cells) or by pressing **Enter** while it is highlighted.\n",
    "\n",
    "## General Outline\n",
    "\n",
    "Recall the general outline for SageMaker projects using a notebook instance.\n",
    "\n",
    "1. Download or otherwise retrieve the data.\n",
    "2. Process / Prepare the data.\n",
    "3. Upload the processed data to S3.\n",
    "4. Train a chosen model.\n",
    "5. Test the trained model (typically using a batch transform job).\n",
    "6. Deploy the trained model.\n",
    "7. Use the deployed model.\n",
    "\n",
    "For this project, you will be following the steps in the general outline with some modifications. \n",
    "\n",
    "First, you will not be testing the model in its own step. You will still be testing the model, however, you will do it by deploying your model and then using the deployed model by sending the test data to it. One of the reasons for doing this is so that you can make sure that your deployed model is working correctly before moving forward.\n",
    "\n",
    "In addition, you will deploy and use your trained model a second time. In the second iteration you will customize the way that your trained model is deployed by including some of your own code. In addition, your newly deployed model will be used in the sentiment analysis web app."
   ]
  },
  {
   "cell_type": "markdown",
   "metadata": {},
   "source": [
    "## Step 1: Downloading the data\n",
    "\n",
    "As in the XGBoost in SageMaker notebook, we will be using the [IMDb dataset](http://ai.stanford.edu/~amaas/data/sentiment/)\n",
    "\n",
    "> Maas, Andrew L., et al. [Learning Word Vectors for Sentiment Analysis](http://ai.stanford.edu/~amaas/data/sentiment/). In _Proceedings of the 49th Annual Meeting of the Association for Computational Linguistics: Human Language Technologies_. Association for Computational Linguistics, 2011."
   ]
  },
  {
   "cell_type": "code",
   "execution_count": 1,
   "metadata": {
    "scrolled": true
   },
   "outputs": [
    {
     "name": "stdout",
     "output_type": "stream",
     "text": [
      "mkdir: cannot create directory ‘../data’: File exists\n",
      "--2020-02-09 08:22:38--  http://ai.stanford.edu/~amaas/data/sentiment/aclImdb_v1.tar.gz\n",
      "Resolving ai.stanford.edu (ai.stanford.edu)... 171.64.68.10\n",
      "Connecting to ai.stanford.edu (ai.stanford.edu)|171.64.68.10|:80... connected.\n",
      "HTTP request sent, awaiting response... 200 OK\n",
      "Length: 84125825 (80M) [application/x-gzip]\n",
      "Saving to: ‘../data/aclImdb_v1.tar.gz’\n",
      "\n",
      "../data/aclImdb_v1. 100%[===================>]  80.23M  23.9MB/s    in 4.4s    \n",
      "\n",
      "2020-02-09 08:22:42 (18.1 MB/s) - ‘../data/aclImdb_v1.tar.gz’ saved [84125825/84125825]\n",
      "\n"
     ]
    }
   ],
   "source": [
    "%mkdir ../data\n",
    "!wget -O ../data/aclImdb_v1.tar.gz http://ai.stanford.edu/~amaas/data/sentiment/aclImdb_v1.tar.gz\n",
    "!tar -zxf ../data/aclImdb_v1.tar.gz -C ../data"
   ]
  },
  {
   "cell_type": "markdown",
   "metadata": {},
   "source": [
    "## Step 2: Preparing and Processing the data\n",
    "\n",
    "Also, as in the XGBoost notebook, we will be doing some initial data processing. The first few steps are the same as in the XGBoost example. To begin with, we will read in each of the reviews and combine them into a single input structure. Then, we will split the dataset into a training set and a testing set."
   ]
  },
  {
   "cell_type": "code",
   "execution_count": 2,
   "metadata": {},
   "outputs": [],
   "source": [
    "import os\n",
    "import glob\n",
    "\n",
    "def read_imdb_data(data_dir='../data/aclImdb'):\n",
    "    data = {}\n",
    "    labels = {}\n",
    "    \n",
    "    for data_type in ['train', 'test']:\n",
    "        data[data_type] = {}\n",
    "        labels[data_type] = {}\n",
    "        \n",
    "        for sentiment in ['pos', 'neg']:\n",
    "            data[data_type][sentiment] = []\n",
    "            labels[data_type][sentiment] = []\n",
    "            \n",
    "            path = os.path.join(data_dir, data_type, sentiment, '*.txt')\n",
    "            files = glob.glob(path)\n",
    "            \n",
    "            for f in files:\n",
    "                with open(f) as review:\n",
    "                    data[data_type][sentiment].append(review.read())\n",
    "                    # Here we represent a positive review by '1' and a negative review by '0'\n",
    "                    labels[data_type][sentiment].append(1 if sentiment == 'pos' else 0)\n",
    "                    \n",
    "            assert len(data[data_type][sentiment]) == len(labels[data_type][sentiment]), \\\n",
    "                    \"{}/{} data size does not match labels size\".format(data_type, sentiment)\n",
    "                \n",
    "    return data, labels"
   ]
  },
  {
   "cell_type": "code",
   "execution_count": 3,
   "metadata": {},
   "outputs": [
    {
     "name": "stdout",
     "output_type": "stream",
     "text": [
      "IMDB reviews: train = 12500 pos / 12500 neg, test = 12500 pos / 12500 neg\n"
     ]
    }
   ],
   "source": [
    "data, labels = read_imdb_data()\n",
    "print(\"IMDB reviews: train = {} pos / {} neg, test = {} pos / {} neg\".format(\n",
    "            len(data['train']['pos']), len(data['train']['neg']),\n",
    "            len(data['test']['pos']), len(data['test']['neg'])))"
   ]
  },
  {
   "cell_type": "markdown",
   "metadata": {},
   "source": [
    "Now that we've read the raw training and testing data from the downloaded dataset, we will combine the positive and negative reviews and shuffle the resulting records."
   ]
  },
  {
   "cell_type": "code",
   "execution_count": 4,
   "metadata": {},
   "outputs": [],
   "source": [
    "from sklearn.utils import shuffle\n",
    "\n",
    "def prepare_imdb_data(data, labels):\n",
    "    \"\"\"Prepare training and test sets from IMDb movie reviews.\"\"\"\n",
    "    \n",
    "    #Combine positive and negative reviews and labels\n",
    "    data_train = data['train']['pos'] + data['train']['neg']\n",
    "    data_test = data['test']['pos'] + data['test']['neg']\n",
    "    labels_train = labels['train']['pos'] + labels['train']['neg']\n",
    "    labels_test = labels['test']['pos'] + labels['test']['neg']\n",
    "    \n",
    "    #Shuffle reviews and corresponding labels within training and test sets\n",
    "    data_train, labels_train = shuffle(data_train, labels_train)\n",
    "    data_test, labels_test = shuffle(data_test, labels_test)\n",
    "    \n",
    "    # Return a unified training data, test data, training labels, test labets\n",
    "    return data_train, data_test, labels_train, labels_test"
   ]
  },
  {
   "cell_type": "code",
   "execution_count": 5,
   "metadata": {},
   "outputs": [
    {
     "name": "stdout",
     "output_type": "stream",
     "text": [
      "IMDb reviews (combined): train = 25000, test = 25000\n"
     ]
    }
   ],
   "source": [
    "train_X, test_X, train_y, test_y = prepare_imdb_data(data, labels)\n",
    "print(\"IMDb reviews (combined): train = {}, test = {}\".format(len(train_X), len(test_X)))"
   ]
  },
  {
   "cell_type": "markdown",
   "metadata": {},
   "source": [
    "Now that we have our training and testing sets unified and prepared, we should do a quick check and see an example of the data our model will be trained on. This is generally a good idea as it allows you to see how each of the further processing steps affects the reviews and it also ensures that the data has been loaded correctly."
   ]
  },
  {
   "cell_type": "code",
   "execution_count": 6,
   "metadata": {},
   "outputs": [
    {
     "name": "stdout",
     "output_type": "stream",
     "text": [
      "Weak plot, predictable violence, only semi interesting characters. Like the writer (also one of the stars?) was fictionalizing his own screw ups and added an incredulous fantasies of drugs and murder to make it \"hot\". From the predictable rap and house soundtrack, to the family conflicts, it's poorly acted, stereotypical, and ultimately terribly boring. Even the title has been done before - IMDb lists FIVE movies with the same name released in 2007-2008!! <br /><br />Note: Saw it on Showtime, which listed the synopsis for one of the other movies. Was halfway thru before I realized no one was an undercover cop. Even tho another stereotype, would have made it interesting if it happened.\n",
      "0\n"
     ]
    }
   ],
   "source": [
    "print(train_X[100])\n",
    "print(train_y[100])"
   ]
  },
  {
   "cell_type": "markdown",
   "metadata": {},
   "source": [
    "The first step in processing the reviews is to make sure that any html tags that appear should be removed. In addition we wish to tokenize our input, that way words such as *entertained* and *entertaining* are considered the same with regard to sentiment analysis."
   ]
  },
  {
   "cell_type": "code",
   "execution_count": 7,
   "metadata": {},
   "outputs": [],
   "source": [
    "import nltk\n",
    "from nltk.corpus import stopwords\n",
    "from nltk.stem.porter import *\n",
    "\n",
    "import re\n",
    "from bs4 import BeautifulSoup\n",
    "\n",
    "def review_to_words(review):\n",
    "    nltk.download(\"stopwords\", quiet=True)\n",
    "    stemmer = PorterStemmer()\n",
    "    \n",
    "    text = BeautifulSoup(review, \"html.parser\").get_text() # Remove HTML tags\n",
    "    text = re.sub(r\"[^a-zA-Z0-9]\", \" \", text.lower()) # Convert to lower case\n",
    "    words = text.split() # Split string into words\n",
    "    words = [w for w in words if w not in stopwords.words(\"english\")] # Remove stopwords\n",
    "    words = [PorterStemmer().stem(w) for w in words] # stem\n",
    "    \n",
    "    return words"
   ]
  },
  {
   "cell_type": "markdown",
   "metadata": {},
   "source": [
    "The `review_to_words` method defined above uses `BeautifulSoup` to remove any html tags that appear and uses the `nltk` package to tokenize the reviews. As a check to ensure we know how everything is working, try applying `review_to_words` to one of the reviews in the training set."
   ]
  },
  {
   "cell_type": "code",
   "execution_count": 8,
   "metadata": {},
   "outputs": [
    {
     "name": "stdout",
     "output_type": "stream",
     "text": [
      "I'm not great at writing reviews, so I'll just spout my opinions...<br /><br />I loved this series at first. The adventure, the action, the comedy, the drama... I thought it was all brilliant. Anderson, Tapping, Shanks, Judge, Davis... I loved them all. Davis, it seemed, was the fifth-most important person in the cast. Not a big deal. But when his character (General Hammond) left at the end of the seventh season, and Anderson's character (Colonel O'Neill) moved from the field to the office, the quality of the series suddenly fell off a cliff. I don't know whether it's because Hammond was more important that I realized or what, but for some reason, after the seventh season, the series turned to ****.<br /><br />The first seven seasons, though, were awesome. The movie Stargate seemed mediocre the first time I saw it, but it turned out to be, even if this wasn't the original intention, a brilliant setup to the series. I recommend that you watch the movie first, then watch the first season of the TV series, then watch the movie again (you'll have a whole new appreciation of it the second time around, believe me), and then watch the rest of the TV series.<br /><br />The last three seasons of the series aren't nearly as good as the first seven, but that doesn't mean they aren't good. It just means they're a letdown if you've gotten spoiled by the first seven seasons.<br /><br />After you have finished this series, be sure to watch the spin off series, Stargate: Atlantis. It is a worthy successor to this brilliant series.<br /><br />EDIT on 7-18-08: I just found out that Don S. Davis died a few weeks ago. It is a great loss. \n",
      "\n",
      "great write review spout opinion love seri first adventur action comedi drama thought brilliant anderson tap shank judg davi love davi seem fifth import person cast big deal charact gener hammond left end seventh season anderson charact colonel neill move field offic qualiti seri suddenli fell cliff know whether hammond import realiz reason seventh season seri turn first seven season though awesom movi stargat seem mediocr first time saw turn even origin intent brilliant setup seri recommend watch movi first watch first season tv seri watch movi whole new appreci second time around believ watch rest tv seri last three season seri nearli good first seven mean good mean letdown gotten spoil first seven season finish seri sure watch spin seri stargat atlanti worthi successor brilliant seri edit 7 18 08 found davi die week ago great loss\n"
     ]
    }
   ],
   "source": [
    "# TODO: Apply review_to_words to a review (train_X[100] or any other review)\n",
    "print(train_X[99], '\\n')\n",
    "processedText = review_to_words(train_X[99])\n",
    "processedText = \" \".join(processedText)\n",
    "print(processedText.strip())"
   ]
  },
  {
   "cell_type": "markdown",
   "metadata": {},
   "source": [
    "**Question:** Above we mentioned that `review_to_words` method removes html formatting and allows us to tokenize the words found in a review, for example, converting *entertained* and *entertaining* into *entertain* so that they are treated as though they are the same word. What else, if anything, does this method do to the input?"
   ]
  },
  {
   "cell_type": "markdown",
   "metadata": {},
   "source": [
    "**Answer:**\n",
    "Besides stemming the text, the method does the following:\n",
    "1. Removes HTML tags\n",
    "2. Converts to lower case\n",
    "3. Removes stopwords"
   ]
  },
  {
   "cell_type": "markdown",
   "metadata": {},
   "source": [
    "The method below applies the `review_to_words` method to each of the reviews in the training and testing datasets. In addition it caches the results. This is because performing this processing step can take a long time. This way if you are unable to complete the notebook in the current session, you can come back without needing to process the data a second time."
   ]
  },
  {
   "cell_type": "code",
   "execution_count": 9,
   "metadata": {},
   "outputs": [],
   "source": [
    "import pickle\n",
    "\n",
    "cache_dir = os.path.join(\"../cache\", \"sentiment_analysis\")  # where to store cache files\n",
    "os.makedirs(cache_dir, exist_ok=True)  # ensure cache directory exists\n",
    "\n",
    "def preprocess_data(data_train, data_test, labels_train, labels_test,\n",
    "                    cache_dir=cache_dir, cache_file=\"preprocessed_data.pkl\"):\n",
    "    \"\"\"Convert each review to words; read from cache if available.\"\"\"\n",
    "\n",
    "    # If cache_file is not None, try to read from it first\n",
    "    cache_data = None\n",
    "    if cache_file is not None:\n",
    "        try:\n",
    "            with open(os.path.join(cache_dir, cache_file), \"rb\") as f:\n",
    "                cache_data = pickle.load(f)\n",
    "            print(\"Read preprocessed data from cache file:\", cache_file)\n",
    "        except:\n",
    "            pass  # unable to read from cache, but that's okay\n",
    "    \n",
    "    # If cache is missing, then do the heavy lifting\n",
    "    if cache_data is None:\n",
    "        # Preprocess training and test data to obtain words for each review\n",
    "        #words_train = list(map(review_to_words, data_train))\n",
    "        #words_test = list(map(review_to_words, data_test))\n",
    "        words_train = [review_to_words(review) for review in data_train]\n",
    "        words_test = [review_to_words(review) for review in data_test]\n",
    "        \n",
    "        # Write to cache file for future runs\n",
    "        if cache_file is not None:\n",
    "            cache_data = dict(words_train=words_train, words_test=words_test,\n",
    "                              labels_train=labels_train, labels_test=labels_test)\n",
    "            with open(os.path.join(cache_dir, cache_file), \"wb\") as f:\n",
    "                pickle.dump(cache_data, f)\n",
    "            print(\"Wrote preprocessed data to cache file:\", cache_file)\n",
    "    else:\n",
    "        # Unpack data loaded from cache file\n",
    "        words_train, words_test, labels_train, labels_test = (cache_data['words_train'],\n",
    "                cache_data['words_test'], cache_data['labels_train'], cache_data['labels_test'])\n",
    "    \n",
    "    return words_train, words_test, labels_train, labels_test"
   ]
  },
  {
   "cell_type": "code",
   "execution_count": 10,
   "metadata": {},
   "outputs": [
    {
     "name": "stdout",
     "output_type": "stream",
     "text": [
      "Read preprocessed data from cache file: preprocessed_data.pkl\n"
     ]
    }
   ],
   "source": [
    "# Preprocess data\n",
    "train_X, test_X, train_y, test_y = preprocess_data(train_X, test_X, train_y, test_y)"
   ]
  },
  {
   "cell_type": "markdown",
   "metadata": {},
   "source": [
    "## Transform the data\n",
    "\n",
    "In the XGBoost notebook we transformed the data from its word representation to a bag-of-words feature representation. For the model we are going to construct in this notebook we will construct a feature representation which is very similar. To start, we will represent each word as an integer. Of course, some of the words that appear in the reviews occur very infrequently and so likely don't contain much information for the purposes of sentiment analysis. The way we will deal with this problem is that we will fix the size of our working vocabulary and we will only include the words that appear most frequently. We will then combine all of the infrequent words into a single category and, in our case, we will label it as `1`.\n",
    "\n",
    "Since we will be using a recurrent neural network, it will be convenient if the length of each review is the same. To do this, we will fix a size for our reviews and then pad short reviews with the category 'no word' (which we will label `0`) and truncate long reviews."
   ]
  },
  {
   "cell_type": "markdown",
   "metadata": {},
   "source": [
    "### (TODO) Create a word dictionary\n",
    "\n",
    "To begin with, we need to construct a way to map words that appear in the reviews to integers. Here we fix the size of our vocabulary (including the 'no word' and 'infrequent' categories) to be `5000` but you may wish to change this to see how it affects the model.\n",
    "\n",
    "> **TODO:** Complete the implementation for the `build_dict()` method below. Note that even though the vocab_size is set to `5000`, we only want to construct a mapping for the most frequently appearing `4998` words. This is because we want to reserve the special labels `0` for 'no word' and `1` for 'infrequent word'."
   ]
  },
  {
   "cell_type": "code",
   "execution_count": 11,
   "metadata": {},
   "outputs": [],
   "source": [
    "import numpy as np\n",
    "from collections import Counter\n",
    "\n",
    "def build_dict(data, vocab_size = 5000):\n",
    "    \"\"\"Construct and return a dictionary mapping each of the most frequently appearing words to a unique integer.\"\"\"\n",
    "    \n",
    "    # TODO: Determine how often each word appears in `data`. Note that `data` is a list of sentences and that a\n",
    "    #       sentence is a list of words.\n",
    "    \n",
    "    words = []\n",
    "    \n",
    "    for review in data:\n",
    "        words.extend(' '.join(review).split())\n",
    "        \n",
    "    word_count = Counter(words) # A dict storing the words that appear in the reviews along with how often they occur\n",
    "    \n",
    "    # TODO: Sort the words found in `data` so that sorted_words[0] is the most frequently appearing word and\n",
    "    #       sorted_words[-1] is the least frequently appearing word.\n",
    "    \n",
    "    sorted_words = sorted(word_count, key=word_count.get, reverse=True)\n",
    "    \n",
    "    word_dict = {} # This is what we are building, a dictionary that translates words into integers\n",
    "    for idx, word in enumerate(sorted_words[:vocab_size - 2]): # The -2 is so that we save room for the 'no word'\n",
    "        word_dict[word] = idx + 2                              # 'infrequent' labels\n",
    "        \n",
    "    return word_dict"
   ]
  },
  {
   "cell_type": "code",
   "execution_count": 12,
   "metadata": {},
   "outputs": [],
   "source": [
    "word_dict = build_dict(train_X)"
   ]
  },
  {
   "cell_type": "code",
   "execution_count": 13,
   "metadata": {},
   "outputs": [
    {
     "data": {
      "text/plain": [
       "dict_items([('movi', 2), ('film', 3), ('one', 4), ('like', 5), ('time', 6), ('good', 7), ('make', 8), ('charact', 9), ('get', 10), ('see', 11), ('watch', 12), ('stori', 13), ('even', 14), ('would', 15), ('realli', 16), ('well', 17), ('scene', 18), ('look', 19), ('show', 20), ('much', 21), ('end', 22), ('peopl', 23), ('bad', 24), ('go', 25), ('great', 26), ('also', 27), ('first', 28), ('love', 29), ('think', 30), ('way', 31), ('act', 32), ('play', 33), ('made', 34), ('thing', 35), ('could', 36), ('know', 37), ('say', 38), ('seem', 39), ('work', 40), ('plot', 41), ('two', 42), ('actor', 43), ('year', 44), ('come', 45), ('mani', 46), ('seen', 47), ('take', 48), ('life', 49), ('want', 50), ('never', 51), ('littl', 52), ('best', 53), ('tri', 54), ('man', 55), ('ever', 56), ('give', 57), ('better', 58), ('still', 59), ('perform', 60), ('find', 61), ('feel', 62), ('part', 63), ('back', 64), ('use', 65), ('someth', 66), ('director', 67), ('actual', 68), ('interest', 69), ('lot', 70), ('real', 71), ('old', 72), ('cast', 73), ('though', 74), ('live', 75), ('star', 76), ('enjoy', 77), ('guy', 78), ('anoth', 79), ('new', 80), ('role', 81), ('noth', 82), ('10', 83), ('funni', 84), ('music', 85), ('point', 86), ('start', 87), ('set', 88), ('girl', 89), ('origin', 90), ('day', 91), ('world', 92), ('everi', 93), ('believ', 94), ('turn', 95), ('quit', 96), ('direct', 97), ('us', 98), ('thought', 99), ('fact', 100), ('minut', 101), ('horror', 102), ('kill', 103), ('action', 104), ('comedi', 105), ('pretti', 106), ('young', 107), ('wonder', 108), ('happen', 109), ('around', 110), ('got', 111), ('effect', 112), ('right', 113), ('long', 114), ('howev', 115), ('big', 116), ('line', 117), ('famili', 118), ('enough', 119), ('seri', 120), ('may', 121), ('need', 122), ('fan', 123), ('bit', 124), ('script', 125), ('beauti', 126), ('person', 127), ('becom', 128), ('without', 129), ('must', 130), ('alway', 131), ('friend', 132), ('tell', 133), ('reason', 134), ('saw', 135), ('last', 136), ('final', 137), ('kid', 138), ('almost', 139), ('put', 140), ('least', 141), ('sure', 142), ('done', 143), ('whole', 144), ('place', 145), ('complet', 146), ('kind', 147), ('differ', 148), ('expect', 149), ('shot', 150), ('far', 151), ('mean', 152), ('anyth', 153), ('book', 154), ('laugh', 155), ('might', 156), ('name', 157), ('sinc', 158), ('begin', 159), ('2', 160), ('probabl', 161), ('woman', 162), ('help', 163), ('entertain', 164), ('let', 165), ('screen', 166), ('call', 167), ('tv', 168), ('moment', 169), ('away', 170), ('read', 171), ('yet', 172), ('rather', 173), ('worst', 174), ('run', 175), ('fun', 176), ('lead', 177), ('hard', 178), ('audienc', 179), ('idea', 180), ('anyon', 181), ('episod', 182), ('american', 183), ('found', 184), ('appear', 185), ('bore', 186), ('especi', 187), ('although', 188), ('hope', 189), ('keep', 190), ('cours', 191), ('anim', 192), ('job', 193), ('goe', 194), ('move', 195), ('sens', 196), ('version', 197), ('dvd', 198), ('war', 199), ('money', 200), ('someon', 201), ('mind', 202), ('mayb', 203), ('problem', 204), ('true', 205), ('hous', 206), ('everyth', 207), ('nice', 208), ('second', 209), ('rate', 210), ('three', 211), ('night', 212), ('face', 213), ('follow', 214), ('recommend', 215), ('main', 216), ('product', 217), ('worth', 218), ('leav', 219), ('human', 220), ('special', 221), ('excel', 222), ('togeth', 223), ('wast', 224), ('everyon', 225), ('sound', 226), ('john', 227), ('hand', 228), ('1', 229), ('father', 230), ('later', 231), ('eye', 232), ('said', 233), ('view', 234), ('instead', 235), ('review', 236), ('boy', 237), ('high', 238), ('hour', 239), ('miss', 240), ('talk', 241), ('classic', 242), ('wife', 243), ('understand', 244), ('left', 245), ('care', 246), ('black', 247), ('death', 248), ('open', 249), ('murder', 250), ('write', 251), ('half', 252), ('head', 253), ('rememb', 254), ('chang', 255), ('viewer', 256), ('fight', 257), ('gener', 258), ('surpris', 259), ('short', 260), ('includ', 261), ('die', 262), ('fall', 263), ('less', 264), ('els', 265), ('entir', 266), ('piec', 267), ('involv', 268), ('pictur', 269), ('simpli', 270), ('top', 271), ('power', 272), ('home', 273), ('total', 274), ('usual', 275), ('budget', 276), ('attempt', 277), ('suppos', 278), ('releas', 279), ('hollywood', 280), ('terribl', 281), ('song', 282), ('men', 283), ('possibl', 284), ('featur', 285), ('portray', 286), ('disappoint', 287), ('poor', 288), ('3', 289), ('coupl', 290), ('stupid', 291), ('camera', 292), ('dead', 293), ('wrong', 294), ('low', 295), ('produc', 296), ('video', 297), ('either', 298), ('aw', 299), ('definit', 300), ('except', 301), ('rest', 302), ('given', 303), ('absolut', 304), ('women', 305), ('lack', 306), ('word', 307), ('writer', 308), ('titl', 309), ('talent', 310), ('decid', 311), ('full', 312), ('perfect', 313), ('along', 314), ('style', 315), ('close', 316), ('truli', 317), ('school', 318), ('save', 319), ('emot', 320), ('age', 321), ('sex', 322), ('next', 323), ('bring', 324), ('mr', 325), ('case', 326), ('killer', 327), ('heart', 328), ('comment', 329), ('sort', 330), ('creat', 331), ('perhap', 332), ('came', 333), ('brother', 334), ('sever', 335), ('joke', 336), ('art', 337), ('dialogu', 338), ('game', 339), ('small', 340), ('base', 341), ('flick', 342), ('written', 343), ('sequenc', 344), ('meet', 345), ('earli', 346), ('often', 347), ('other', 348), ('mother', 349), ('develop', 350), ('humor', 351), ('actress', 352), ('consid', 353), ('dark', 354), ('guess', 355), ('amaz', 356), ('unfortun', 357), ('light', 358), ('lost', 359), ('exampl', 360), ('cinema', 361), ('drama', 362), ('white', 363), ('ye', 364), ('experi', 365), ('imagin', 366), ('mention', 367), ('stop', 368), ('natur', 369), ('forc', 370), ('manag', 371), ('felt', 372), ('present', 373), ('cut', 374), ('children', 375), ('fail', 376), ('son', 377), ('car', 378), ('qualiti', 379), ('support', 380), ('ask', 381), ('hit', 382), ('side', 383), ('voic', 384), ('extrem', 385), ('impress', 386), ('evil', 387), ('wors', 388), ('stand', 389), ('went', 390), ('certainli', 391), ('basic', 392), ('oh', 393), ('overal', 394), ('favorit', 395), ('horribl', 396), ('mysteri', 397), ('number', 398), ('type', 399), ('danc', 400), ('wait', 401), ('hero', 402), ('alreadi', 403), ('5', 404), ('learn', 405), ('matter', 406), ('4', 407), ('michael', 408), ('genr', 409), ('fine', 410), ('despit', 411), ('throughout', 412), ('walk', 413), ('success', 414), ('histori', 415), ('question', 416), ('zombi', 417), ('town', 418), ('realiz', 419), ('relationship', 420), ('past', 421), ('child', 422), ('daughter', 423), ('late', 424), ('b', 425), ('wish', 426), ('credit', 427), ('hate', 428), ('event', 429), ('theme', 430), ('touch', 431), ('citi', 432), ('today', 433), ('sometim', 434), ('behind', 435), ('god', 436), ('twist', 437), ('sit', 438), ('deal', 439), ('stay', 440), ('annoy', 441), ('abl', 442), ('rent', 443), ('pleas', 444), ('edit', 445), ('blood', 446), ('deserv', 447), ('comic', 448), ('anyway', 449), ('appar', 450), ('soon', 451), ('gave', 452), ('etc', 453), ('level', 454), ('slow', 455), ('chanc', 456), ('score', 457), ('bodi', 458), ('brilliant', 459), ('incred', 460), ('figur', 461), ('situat', 462), ('self', 463), ('major', 464), ('stuff', 465), ('decent', 466), ('element', 467), ('return', 468), ('dream', 469), ('obvious', 470), ('continu', 471), ('order', 472), ('pace', 473), ('ridicul', 474), ('happi', 475), ('add', 476), ('highli', 477), ('group', 478), ('thank', 479), ('ladi', 480), ('novel', 481), ('pain', 482), ('speak', 483), ('career', 484), ('shoot', 485), ('strang', 486), ('heard', 487), ('sad', 488), ('polic', 489), ('husband', 490), ('import', 491), ('break', 492), ('took', 493), ('strong', 494), ('cannot', 495), ('predict', 496), ('robert', 497), ('violenc', 498), ('hilari', 499), ('recent', 500), ('countri', 501), ('known', 502), ('particularli', 503), ('pick', 504), ('documentari', 505), ('season', 506), ('critic', 507), ('jame', 508), ('compar', 509), ('obviou', 510), ('alon', 511), ('told', 512), ('state', 513), ('rock', 514), ('visual', 515), ('exist', 516), ('offer', 517), ('theater', 518), ('opinion', 519), ('gore', 520), ('crap', 521), ('hold', 522), ('result', 523), ('room', 524), ('hear', 525), ('realiti', 526), ('clich', 527), ('effort', 528), ('thriller', 529), ('caus', 530), ('sequel', 531), ('serious', 532), ('explain', 533), ('king', 534), ('local', 535), ('ago', 536), ('none', 537), ('hell', 538), ('note', 539), ('allow', 540), ('sister', 541), ('david', 542), ('simpl', 543), ('femal', 544), ('deliv', 545), ('ok', 546), ('convinc', 547), ('class', 548), ('check', 549), ('suspens', 550), ('win', 551), ('buy', 552), ('oscar', 553), ('huge', 554), ('valu', 555), ('sexual', 556), ('scari', 557), ('cool', 558), ('similar', 559), ('excit', 560), ('provid', 561), ('exactli', 562), ('apart', 563), ('avoid', 564), ('shown', 565), ('seriou', 566), ('english', 567), ('taken', 568), ('whose', 569), ('cinematographi', 570), ('shock', 571), ('polit', 572), ('spoiler', 573), ('offic', 574), ('across', 575), ('middl', 576), ('street', 577), ('pass', 578), ('messag', 579), ('silli', 580), ('charm', 581), ('somewhat', 582), ('modern', 583), ('filmmak', 584), ('confus', 585), ('form', 586), ('tale', 587), ('singl', 588), ('jack', 589), ('mostli', 590), ('carri', 591), ('attent', 592), ('william', 593), ('sing', 594), ('five', 595), ('subject', 596), ('prove', 597), ('richard', 598), ('team', 599), ('stage', 600), ('unlik', 601), ('cop', 602), ('georg', 603), ('monster', 604), ('televis', 605), ('earth', 606), ('cover', 607), ('villain', 608), ('pay', 609), ('marri', 610), ('toward', 611), ('build', 612), ('parent', 613), ('pull', 614), ('due', 615), ('fill', 616), ('respect', 617), ('four', 618), ('dialog', 619), ('remind', 620), ('futur', 621), ('weak', 622), ('typic', 623), ('7', 624), ('cheap', 625), ('intellig', 626), ('atmospher', 627), ('british', 628), ('clearli', 629), ('80', 630), ('non', 631), ('dog', 632), ('paul', 633), ('8', 634), ('fast', 635), ('knew', 636), ('artist', 637), ('crime', 638), ('easili', 639), ('escap', 640), ('adult', 641), ('doubt', 642), ('detail', 643), ('date', 644), ('member', 645), ('fire', 646), ('romant', 647), ('gun', 648), ('drive', 649), ('straight', 650), ('beyond', 651), ('fit', 652), ('attack', 653), ('imag', 654), ('upon', 655), ('posit', 656), ('whether', 657), ('fantast', 658), ('peter', 659), ('captur', 660), ('aspect', 661), ('appreci', 662), ('ten', 663), ('plan', 664), ('discov', 665), ('remain', 666), ('period', 667), ('near', 668), ('air', 669), ('realist', 670), ('mark', 671), ('red', 672), ('dull', 673), ('adapt', 674), ('within', 675), ('spend', 676), ('lose', 677), ('color', 678), ('materi', 679), ('chase', 680), ('mari', 681), ('storylin', 682), ('forget', 683), ('bunch', 684), ('clear', 685), ('lee', 686), ('victim', 687), ('nearli', 688), ('box', 689), ('york', 690), ('inspir', 691), ('match', 692), ('mess', 693), ('finish', 694), ('standard', 695), ('easi', 696), ('truth', 697), ('suffer', 698), ('busi', 699), ('dramat', 700), ('bill', 701), ('space', 702), ('western', 703), ('e', 704), ('list', 705), ('battl', 706), ('notic', 707), ('de', 708), ('french', 709), ('ad', 710), ('9', 711), ('tom', 712), ('larg', 713), ('among', 714), ('eventu', 715), ('accept', 716), ('train', 717), ('agre', 718), ('soundtrack', 719), ('spirit', 720), ('third', 721), ('teenag', 722), ('soldier', 723), ('adventur', 724), ('drug', 725), ('suggest', 726), ('famou', 727), ('sorri', 728), ('babi', 729), ('normal', 730), ('cri', 731), ('ultim', 732), ('troubl', 733), ('contain', 734), ('certain', 735), ('cultur', 736), ('romanc', 737), ('rare', 738), ('lame', 739), ('somehow', 740), ('disney', 741), ('mix', 742), ('gone', 743), ('cartoon', 744), ('student', 745), ('fear', 746), ('reveal', 747), ('suck', 748), ('kept', 749), ('attract', 750), ('appeal', 751), ('premis', 752), ('design', 753), ('secret', 754), ('greatest', 755), ('shame', 756), ('throw', 757), ('copi', 758), ('scare', 759), ('wit', 760), ('america', 761), ('admit', 762), ('relat', 763), ('brought', 764), ('particular', 765), ('screenplay', 766), ('whatev', 767), ('pure', 768), ('70', 769), ('harri', 770), ('averag', 771), ('master', 772), ('describ', 773), ('treat', 774), ('male', 775), ('20', 776), ('issu', 777), ('fantasi', 778), ('warn', 779), ('inde', 780), ('background', 781), ('forward', 782), ('free', 783), ('project', 784), ('memor', 785), ('japanes', 786), ('poorli', 787), ('award', 788), ('locat', 789), ('amus', 790), ('potenti', 791), ('struggl', 792), ('weird', 793), ('magic', 794), ('societi', 795), ('okay', 796), ('imdb', 797), ('accent', 798), ('doctor', 799), ('hot', 800), ('water', 801), ('express', 802), ('dr', 803), ('alien', 804), ('30', 805), ('odd', 806), ('crazi', 807), ('choic', 808), ('studio', 809), ('fiction', 810), ('control', 811), ('becam', 812), ('masterpiec', 813), ('difficult', 814), ('fli', 815), ('joe', 816), ('scream', 817), ('costum', 818), ('lover', 819), ('refer', 820), ('uniqu', 821), ('remak', 822), ('vampir', 823), ('girlfriend', 824), ('prison', 825), ('execut', 826), ('wear', 827), ('jump', 828), ('wood', 829), ('unless', 830), ('creepi', 831), ('cheesi', 832), ('superb', 833), ('otherwis', 834), ('parti', 835), ('ghost', 836), ('roll', 837), ('public', 838), ('mad', 839), ('depict', 840), ('earlier', 841), ('badli', 842), ('week', 843), ('jane', 844), ('moral', 845), ('fi', 846), ('dumb', 847), ('grow', 848), ('flaw', 849), ('deep', 850), ('sci', 851), ('cat', 852), ('maker', 853), ('older', 854), ('connect', 855), ('footag', 856), ('plenti', 857), ('bother', 858), ('outsid', 859), ('stick', 860), ('gay', 861), ('catch', 862), ('plu', 863), ('co', 864), ('popular', 865), ('equal', 866), ('social', 867), ('disturb', 868), ('quickli', 869), ('perfectli', 870), ('dress', 871), ('90', 872), ('era', 873), ('mistak', 874), ('lie', 875), ('previou', 876), ('ride', 877), ('combin', 878), ('band', 879), ('concept', 880), ('rich', 881), ('answer', 882), ('surviv', 883), ('front', 884), ('sweet', 885), ('christma', 886), ('insid', 887), ('eat', 888), ('bare', 889), ('concern', 890), ('beat', 891), ('listen', 892), ('ben', 893), ('c', 894), ('term', 895), ('serv', 896), ('german', 897), ('la', 898), ('meant', 899), ('hardli', 900), ('stereotyp', 901), ('innoc', 902), ('law', 903), ('desper', 904), ('memori', 905), ('promis', 906), ('cute', 907), ('intent', 908), ('variou', 909), ('inform', 910), ('steal', 911), ('brain', 912), ('post', 913), ('tone', 914), ('island', 915), ('amount', 916), ('track', 917), ('nuditi', 918), ('compani', 919), ('store', 920), ('claim', 921), ('50', 922), ('flat', 923), ('hair', 924), ('land', 925), ('univers', 926), ('kick', 927), ('scott', 928), ('danger', 929), ('fairli', 930), ('player', 931), ('crew', 932), ('plain', 933), ('step', 934), ('toni', 935), ('share', 936), ('tast', 937), ('centuri', 938), ('achiev', 939), ('engag', 940), ('travel', 941), ('cold', 942), ('rip', 943), ('suit', 944), ('record', 945), ('manner', 946), ('sadli', 947), ('spot', 948), ('tension', 949), ('wrote', 950), ('fascin', 951), ('intens', 952), ('familiar', 953), ('burn', 954), ('depth', 955), ('remark', 956), ('destroy', 957), ('histor', 958), ('sleep', 959), ('purpos', 960), ('languag', 961), ('ignor', 962), ('ruin', 963), ('delight', 964), ('unbeliev', 965), ('italian', 966), ('collect', 967), ('abil', 968), ('soul', 969), ('clever', 970), ('detect', 971), ('violent', 972), ('rape', 973), ('reach', 974), ('door', 975), ('scienc', 976), ('trash', 977), ('liter', 978), ('caught', 979), ('commun', 980), ('reveng', 981), ('creatur', 982), ('trip', 983), ('approach', 984), ('fashion', 985), ('intrigu', 986), ('introduc', 987), ('paint', 988), ('skill', 989), ('channel', 990), ('complex', 991), ('camp', 992), ('christian', 993), ('extra', 994), ('hole', 995), ('immedi', 996), ('mental', 997), ('ann', 998), ('limit', 999), ('comput', 1000), ('6', 1001), ('mere', 1002), ('slightli', 1003), ('million', 1004), ('conclus', 1005), ('slasher', 1006), ('imposs', 1007), ('suddenli', 1008), ('crimin', 1009), ('neither', 1010), ('teen', 1011), ('nation', 1012), ('spent', 1013), ('physic', 1014), ('respons', 1015), ('planet', 1016), ('fake', 1017), ('receiv', 1018), ('sick', 1019), ('blue', 1020), ('bizarr', 1021), ('embarrass', 1022), ('indian', 1023), ('ring', 1024), ('15', 1025), ('pop', 1026), ('drop', 1027), ('drag', 1028), ('haunt', 1029), ('pointless', 1030), ('suspect', 1031), ('edg', 1032), ('search', 1033), ('handl', 1034), ('common', 1035), ('biggest', 1036), ('faith', 1037), ('arriv', 1038), ('hurt', 1039), ('technic', 1040), ('angel', 1041), ('dad', 1042), ('genuin', 1043), ('solid', 1044), ('f', 1045), ('awesom', 1046), ('focu', 1047), ('van', 1048), ('former', 1049), ('colleg', 1050), ('count', 1051), ('tear', 1052), ('heavi', 1053), ('wall', 1054), ('rais', 1055), ('laughabl', 1056), ('younger', 1057), ('visit', 1058), ('excus', 1059), ('fair', 1060), ('sign', 1061), ('cult', 1062), ('motion', 1063), ('key', 1064), ('tough', 1065), ('desir', 1066), ('super', 1067), ('stun', 1068), ('addit', 1069), ('cloth', 1070), ('exploit', 1071), ('tortur', 1072), ('smith', 1073), ('race', 1074), ('davi', 1075), ('cross', 1076), ('author', 1077), ('jim', 1078), ('minor', 1079), ('compel', 1080), ('focus', 1081), ('consist', 1082), ('chemistri', 1083), ('commit', 1084), ('pathet', 1085), ('park', 1086), ('obsess', 1087), ('frank', 1088), ('tradit', 1089), ('grade', 1090), ('60', 1091), ('asid', 1092), ('brutal', 1093), ('steve', 1094), ('somewher', 1095), ('rule', 1096), ('u', 1097), ('depress', 1098), ('opportun', 1099), ('explor', 1100), ('grant', 1101), ('honest', 1102), ('besid', 1103), ('anti', 1104), ('dub', 1105), ('intend', 1106), ('trailer', 1107), ('bar', 1108), ('longer', 1109), ('scientist', 1110), ('regard', 1111), ('west', 1112), ('judg', 1113), ('decad', 1114), ('silent', 1115), ('armi', 1116), ('creativ', 1117), ('wild', 1118), ('south', 1119), ('g', 1120), ('stewart', 1121), ('draw', 1122), ('road', 1123), ('govern', 1124), ('ex', 1125), ('boss', 1126), ('practic', 1127), ('surprisingli', 1128), ('gang', 1129), ('festiv', 1130), ('motiv', 1131), ('club', 1132), ('redeem', 1133), ('london', 1134), ('page', 1135), ('green', 1136), ('idiot', 1137), ('display', 1138), ('machin', 1139), ('aliv', 1140), ('militari', 1141), ('thrill', 1142), ('repeat', 1143), ('folk', 1144), ('nobodi', 1145), ('yeah', 1146), ('100', 1147), ('40', 1148), ('journey', 1149), ('garbag', 1150), ('tire', 1151), ('smile', 1152), ('ground', 1153), ('bought', 1154), ('mood', 1155), ('cost', 1156), ('sam', 1157), ('stone', 1158), ('noir', 1159), ('mouth', 1160), ('terrif', 1161), ('agent', 1162), ('utterli', 1163), ('requir', 1164), ('honestli', 1165), ('sexi', 1166), ('area', 1167), ('geniu', 1168), ('report', 1169), ('investig', 1170), ('humour', 1171), ('enter', 1172), ('glad', 1173), ('serial', 1174), ('passion', 1175), ('occasion', 1176), ('narr', 1177), ('marriag', 1178), ('climax', 1179), ('industri', 1180), ('studi', 1181), ('ship', 1182), ('charli', 1183), ('nowher', 1184), ('center', 1185), ('demon', 1186), ('hors', 1187), ('bear', 1188), ('loos', 1189), ('wow', 1190), ('hang', 1191), ('graphic', 1192), ('admir', 1193), ('giant', 1194), ('send', 1195), ('loud', 1196), ('damn', 1197), ('rel', 1198), ('subtl', 1199), ('profession', 1200), ('nake', 1201), ('blow', 1202), ('bottom', 1203), ('batman', 1204), ('insult', 1205), ('r', 1206), ('doubl', 1207), ('boyfriend', 1208), ('kelli', 1209), ('initi', 1210), ('frame', 1211), ('gem', 1212), ('opera', 1213), ('affect', 1214), ('church', 1215), ('challeng', 1216), ('cinemat', 1217), ('drawn', 1218), ('seek', 1219), ('nightmar', 1220), ('l', 1221), ('fulli', 1222), ('evid', 1223), ('j', 1224), ('conflict', 1225), ('arm', 1226), ('essenti', 1227), ('henri', 1228), ('wind', 1229), ('grace', 1230), ('christoph', 1231), ('narrat', 1232), ('witch', 1233), ('assum', 1234), ('hunt', 1235), ('push', 1236), ('wise', 1237), ('chri', 1238), ('repres', 1239), ('nomin', 1240), ('month', 1241), ('affair', 1242), ('avail', 1243), ('hide', 1244), ('sceneri', 1245), ('bond', 1246), ('smart', 1247), ('thu', 1248), ('justic', 1249), ('flashback', 1250), ('interview', 1251), ('outstand', 1252), ('presenc', 1253), ('constantli', 1254), ('satisfi', 1255), ('central', 1256), ('bed', 1257), ('iron', 1258), ('content', 1259), ('sell', 1260), ('gag', 1261), ('everybodi', 1262), ('slowli', 1263), ('hotel', 1264), ('hire', 1265), ('system', 1266), ('charl', 1267), ('hey', 1268), ('adam', 1269), ('individu', 1270), ('thrown', 1271), ('mediocr', 1272), ('allen', 1273), ('jone', 1274), ('ray', 1275), ('lesson', 1276), ('billi', 1277), ('cameo', 1278), ('photographi', 1279), ('fellow', 1280), ('pari', 1281), ('strike', 1282), ('independ', 1283), ('brief', 1284), ('rise', 1285), ('absurd', 1286), ('neg', 1287), ('phone', 1288), ('impact', 1289), ('model', 1290), ('ill', 1291), ('born', 1292), ('fresh', 1293), ('spoil', 1294), ('angl', 1295), ('abus', 1296), ('likabl', 1297), ('discuss', 1298), ('hill', 1299), ('ahead', 1300), ('sight', 1301), ('sent', 1302), ('photograph', 1303), ('shine', 1304), ('occur', 1305), ('logic', 1306), ('blame', 1307), ('mainli', 1308), ('bruce', 1309), ('commerci', 1310), ('skip', 1311), ('forev', 1312), ('teacher', 1313), ('surround', 1314), ('held', 1315), ('segment', 1316), ('blond', 1317), ('zero', 1318), ('resembl', 1319), ('trap', 1320), ('satir', 1321), ('summer', 1322), ('queen', 1323), ('ball', 1324), ('six', 1325), ('fool', 1326), ('twice', 1327), ('sub', 1328), ('tragedi', 1329), ('pack', 1330), ('reaction', 1331), ('bomb', 1332), ('hospit', 1333), ('protagonist', 1334), ('will', 1335), ('sport', 1336), ('mile', 1337), ('mom', 1338), ('drink', 1339), ('vote', 1340), ('trust', 1341), ('jerri', 1342), ('encount', 1343), ('plane', 1344), ('current', 1345), ('program', 1346), ('station', 1347), ('al', 1348), ('martin', 1349), ('celebr', 1350), ('choos', 1351), ('join', 1352), ('favourit', 1353), ('field', 1354), ('tragic', 1355), ('lord', 1356), ('round', 1357), ('jean', 1358), ('robot', 1359), ('vision', 1360), ('arthur', 1361), ('tie', 1362), ('fortun', 1363), ('random', 1364), ('roger', 1365), ('dread', 1366), ('psycholog', 1367), ('intern', 1368), ('nonsens', 1369), ('prefer', 1370), ('epic', 1371), ('improv', 1372), ('formula', 1373), ('pleasur', 1374), ('legend', 1375), ('highlight', 1376), ('11', 1377), ('tape', 1378), ('dollar', 1379), ('fox', 1380), ('thin', 1381), ('porn', 1382), ('gorgeou', 1383), ('wide', 1384), ('object', 1385), ('buddi', 1386), ('influenc', 1387), ('ugli', 1388), ('nasti', 1389), ('prepar', 1390), ('ii', 1391), ('supposedli', 1392), ('warm', 1393), ('progress', 1394), ('reflect', 1395), ('youth', 1396), ('worthi', 1397), ('unusu', 1398), ('length', 1399), ('latter', 1400), ('crash', 1401), ('shop', 1402), ('childhood', 1403), ('superior', 1404), ('seven', 1405), ('theatr', 1406), ('remot', 1407), ('disgust', 1408), ('pilot', 1409), ('paid', 1410), ('funniest', 1411), ('fell', 1412), ('convers', 1413), ('trick', 1414), ('castl', 1415), ('establish', 1416), ('gangster', 1417), ('disast', 1418), ('rob', 1419), ('disappear', 1420), ('mine', 1421), ('suicid', 1422), ('heaven', 1423), ('ident', 1424), ('heroin', 1425), ('mask', 1426), ('decis', 1427), ('tend', 1428), ('forgotten', 1429), ('singer', 1430), ('partner', 1431), ('brian', 1432), ('alan', 1433), ('desert', 1434), ('recogn', 1435), ('stuck', 1436), ('thoroughli', 1437), ('ms', 1438), ('sky', 1439), ('p', 1440), ('replac', 1441), ('accur', 1442), ('market', 1443), ('commentari', 1444), ('andi', 1445), ('seemingli', 1446), ('danni', 1447), ('clue', 1448), ('uncl', 1449), ('eddi', 1450), ('jackson', 1451), ('devil', 1452), ('pair', 1453), ('therefor', 1454), ('refus', 1455), ('that', 1456), ('unit', 1457), ('fault', 1458), ('accid', 1459), ('river', 1460), ('ed', 1461), ('fate', 1462), ('afraid', 1463), ('tune', 1464), ('stephen', 1465), ('russian', 1466), ('clean', 1467), ('hidden', 1468), ('readi', 1469), ('captain', 1470), ('irrit', 1471), ('convey', 1472), ('quick', 1473), ('instanc', 1474), ('test', 1475), ('european', 1476), ('frustrat', 1477), ('insan', 1478), ('daniel', 1479), ('food', 1480), ('rescu', 1481), ('wed', 1482), ('1950', 1483), ('chines', 1484), ('lock', 1485), ('dirti', 1486), ('angri', 1487), ('joy', 1488), ('steven', 1489), ('price', 1490), ('cage', 1491), ('bland', 1492), ('rang', 1493), ('anymor', 1494), ('wooden', 1495), ('news', 1496), ('rush', 1497), ('jason', 1498), ('n', 1499), ('worri', 1500), ('led', 1501), ('board', 1502), ('twenti', 1503), ('martial', 1504), ('12', 1505), ('cgi', 1506), ('hunter', 1507), ('transform', 1508), ('symbol', 1509), ('onto', 1510), ('invent', 1511), ('x', 1512), ('piti', 1513), ('johnni', 1514), ('sentiment', 1515), ('attitud', 1516), ('process', 1517), ('explan', 1518), ('awar', 1519), ('owner', 1520), ('aim', 1521), ('target', 1522), ('floor', 1523), ('energi', 1524), ('favor', 1525), ('necessari', 1526), ('opposit', 1527), ('religi', 1528), ('window', 1529), ('chick', 1530), ('insight', 1531), ('blind', 1532), ('movement', 1533), ('comparison', 1534), ('deepli', 1535), ('possess', 1536), ('mountain', 1537), ('research', 1538), ('comed', 1539), ('grand', 1540), ('rain', 1541), ('whatsoev', 1542), ('began', 1543), ('mid', 1544), ('shadow', 1545), ('bank', 1546), ('parodi', 1547), ('princ', 1548), ('weapon', 1549), ('friendship', 1550), ('taylor', 1551), ('pre', 1552), ('credibl', 1553), ('teach', 1554), ('flesh', 1555), ('dougla', 1556), ('hint', 1557), ('protect', 1558), ('terror', 1559), ('bloodi', 1560), ('marvel', 1561), ('anybodi', 1562), ('load', 1563), ('accord', 1564), ('leader', 1565), ('drunk', 1566), ('watchabl', 1567), ('superman', 1568), ('brown', 1569), ('freddi', 1570), ('hitler', 1571), ('seat', 1572), ('appropri', 1573), ('jeff', 1574), ('tim', 1575), ('unknown', 1576), ('villag', 1577), ('charg', 1578), ('knock', 1579), ('keaton', 1580), ('england', 1581), ('enemi', 1582), ('empti', 1583), ('unnecessari', 1584), ('media', 1585), ('buck', 1586), ('utter', 1587), ('dare', 1588), ('wave', 1589), ('craft', 1590), ('strength', 1591), ('perspect', 1592), ('contrast', 1593), ('kiss', 1594), ('correct', 1595), ('nativ', 1596), ('ford', 1597), ('chill', 1598), ('distract', 1599), ('nazi', 1600), ('anywher', 1601), ('knowledg', 1602), ('speed', 1603), ('magnific', 1604), ('soap', 1605), ('mission', 1606), ('ice', 1607), ('1980', 1608), ('breath', 1609), ('fred', 1610), ('jr', 1611), ('crowd', 1612), ('joan', 1613), ('moon', 1614), ('soft', 1615), ('kate', 1616), ('frighten', 1617), ('000', 1618), ('nick', 1619), ('hundr', 1620), ('dick', 1621), ('dan', 1622), ('somebodi', 1623), ('radio', 1624), ('simon', 1625), ('dozen', 1626), ('andrew', 1627), ('loss', 1628), ('thousand', 1629), ('academi', 1630), ('shakespear', 1631), ('account', 1632), ('sum', 1633), ('vehicl', 1634), ('root', 1635), ('quot', 1636), ('1970', 1637), ('leg', 1638), ('convent', 1639), ('behavior', 1640), ('gold', 1641), ('regular', 1642), ('demand', 1643), ('worker', 1644), ('compet', 1645), ('pretenti', 1646), ('japan', 1647), ('interpret', 1648), ('notabl', 1649), ('privat', 1650), ('explos', 1651), ('stretch', 1652), ('candi', 1653), ('lynch', 1654), ('tarzan', 1655), ('constant', 1656), ('debut', 1657), ('translat', 1658), ('prais', 1659), ('spi', 1660), ('revolv', 1661), ('sea', 1662), ('sat', 1663), ('quiet', 1664), ('threaten', 1665), ('technolog', 1666), ('jesu', 1667), ('ass', 1668), ('franc', 1669), ('failur', 1670), ('punch', 1671), ('aid', 1672), ('met', 1673), ('kevin', 1674), ('higher', 1675), ('toy', 1676), ('abandon', 1677), ('interact', 1678), ('mike', 1679), ('vh', 1680), ('command', 1681), ('bet', 1682), ('confront', 1683), ('separ', 1684), ('recal', 1685), ('site', 1686), ('belong', 1687), ('stunt', 1688), ('gotten', 1689), ('techniqu', 1690), ('servic', 1691), ('bug', 1692), ('foot', 1693), ('cabl', 1694), ('freak', 1695), ('bright', 1696), ('jimmi', 1697), ('african', 1698), ('capabl', 1699), ('fu', 1700), ('stock', 1701), ('boat', 1702), ('succeed', 1703), ('fat', 1704), ('presid', 1705), ('clark', 1706), ('gene', 1707), ('structur', 1708), ('spanish', 1709), ('paper', 1710), ('kidnap', 1711), ('whilst', 1712), ('belief', 1713), ('factor', 1714), ('tree', 1715), ('bob', 1716), ('realism', 1717), ('witti', 1718), ('educ', 1719), ('realis', 1720), ('attend', 1721), ('complic', 1722), ('assist', 1723), ('finest', 1724), ('santa', 1725), ('broken', 1726), ('smoke', 1727), ('determin', 1728), ('observ', 1729), ('v', 1730), ('depart', 1731), ('up', 1732), ('routin', 1733), ('fame', 1734), ('domin', 1735), ('hat', 1736), ('lewi', 1737), ('oper', 1738), ('rubbish', 1739), ('advanc', 1740), ('safe', 1741), ('kinda', 1742), ('hook', 1743), ('foreign', 1744), ('morgan', 1745), ('lone', 1746), ('rank', 1747), ('numer', 1748), ('werewolf', 1749), ('vs', 1750), ('civil', 1751), ('washington', 1752), ('shape', 1753), ('shallow', 1754), ('rose', 1755), ('gari', 1756), ('morn', 1757), ('kong', 1758), ('accomplish', 1759), ('ordinari', 1760), ('winner', 1761), ('virtual', 1762), ('peac', 1763), ('whenev', 1764), ('grab', 1765), ('h', 1766), ('luck', 1767), ('offens', 1768), ('welcom', 1769), ('complain', 1770), ('patient', 1771), ('contriv', 1772), ('activ', 1773), ('bigger', 1774), ('unfunni', 1775), ('con', 1776), ('dimension', 1777), ('trek', 1778), ('pretend', 1779), ('lesbian', 1780), ('dri', 1781), ('wake', 1782), ('eric', 1783), ('code', 1784), ('flash', 1785), ('cain', 1786), ('statu', 1787), ('dancer', 1788), ('guard', 1789), ('manipul', 1790), ('albert', 1791), ('corrupt', 1792), ('gain', 1793), ('context', 1794), ('awkward', 1795), ('sourc', 1796), ('signific', 1797), ('speech', 1798), ('psycho', 1799), ('13', 1800), ('corni', 1801), ('clip', 1802), ('anthoni', 1803), ('sean', 1804), ('curiou', 1805), ('w', 1806), ('theatric', 1807), ('reli', 1808), ('priest', 1809), ('religion', 1810), ('advic', 1811), ('flow', 1812), ('addict', 1813), ('asian', 1814), ('skin', 1815), ('specif', 1816), ('secur', 1817), ('jennif', 1818), ('howard', 1819), ('core', 1820), ('comfort', 1821), ('luke', 1822), ('promot', 1823), ('organ', 1824), ('golden', 1825), ('cheat', 1826), ('cash', 1827), ('lucki', 1828), ('dislik', 1829), ('associ', 1830), ('lower', 1831), ('contribut', 1832), ('frequent', 1833), ('wing', 1834), ('devic', 1835), ('balanc', 1836), ('degre', 1837), ('spell', 1838), ('regret', 1839), ('frankli', 1840), ('lake', 1841), ('forgiv', 1842), ('print', 1843), ('sake', 1844), ('thoma', 1845), ('mass', 1846), ('betti', 1847), ('unexpect', 1848), ('gordon', 1849), ('crack', 1850), ('categori', 1851), ('unfold', 1852), ('depend', 1853), ('invit', 1854), ('construct', 1855), ('amateur', 1856), ('grown', 1857), ('grew', 1858), ('matur', 1859), ('honor', 1860), ('anna', 1861), ('intellectu', 1862), ('walter', 1863), ('condit', 1864), ('veteran', 1865), ('spectacular', 1866), ('sudden', 1867), ('sole', 1868), ('mirror', 1869), ('liner', 1870), ('experienc', 1871), ('robin', 1872), ('grip', 1873), ('meanwhil', 1874), ('overli', 1875), ('card', 1876), ('freedom', 1877), ('gift', 1878), ('demonstr', 1879), ('theori', 1880), ('circumst', 1881), ('crappi', 1882), ('sheriff', 1883), ('subtitl', 1884), ('drew', 1885), ('oliv', 1886), ('brilliantli', 1887), ('unabl', 1888), ('section', 1889), ('colour', 1890), ('cook', 1891), ('laughter', 1892), ('matt', 1893), ('altern', 1894), ('path', 1895), ('parker', 1896), ('pile', 1897), ('sheer', 1898), ('treatment', 1899), ('wander', 1900), ('accident', 1901), ('lawyer', 1902), ('defin', 1903), ('relief', 1904), ('hall', 1905), ('sinatra', 1906), ('dragon', 1907), ('hank', 1908), ('captiv', 1909), ('halloween', 1910), ('moor', 1911), ('gratuit', 1912), ('unintent', 1913), ('wound', 1914), ('barbara', 1915), ('broadway', 1916), ('k', 1917), ('wayn', 1918), ('cowboy', 1919), ('kung', 1920), ('jacki', 1921), ('statement', 1922), ('winter', 1923), ('spoof', 1924), ('canadian', 1925), ('surreal', 1926), ('treasur', 1927), ('fare', 1928), ('gonna', 1929), ('compos', 1930), ('fish', 1931), ('cheer', 1932), ('victor', 1933), ('emerg', 1934), ('sensit', 1935), ('woodi', 1936), ('unrealist', 1937), ('driven', 1938), ('neighbor', 1939), ('ran', 1940), ('sympathet', 1941), ('expos', 1942), ('menac', 1943), ('glass', 1944), ('authent', 1945), ('topic', 1946), ('overlook', 1947), ('handsom', 1948), ('michel', 1949), ('gross', 1950), ('chief', 1951), ('ancient', 1952), ('comedian', 1953), ('nevertheless', 1954), ('pleasant', 1955), ('stranger', 1956), ('contemporari', 1957), ('feet', 1958), ('network', 1959), ('built', 1960), ('cinderella', 1961), ('russel', 1962), ('blockbust', 1963), ('earn', 1964), ('letter', 1965), ('underr', 1966), ('endless', 1967), ('consider', 1968), ('miser', 1969), ('gori', 1970), ('brook', 1971), ('solv', 1972), ('switch', 1973), ('virgin', 1974), ('edward', 1975), ('convict', 1976), ('bullet', 1977), ('joseph', 1978), ('victoria', 1979), ('scenario', 1980), ('scale', 1981), ('cynic', 1982), ('chosen', 1983), ('alex', 1984), ('0', 1985), ('com', 1986), ('gut', 1987), ('outrag', 1988), ('curs', 1989), ('sword', 1990), ('juli', 1991), ('driver', 1992), ('monkey', 1993), ('screenwrit', 1994), ('uk', 1995), ('wrap', 1996), ('substanc', 1997), ('proper', 1998), ('par', 1999), ('remov', 2000), ('bird', 2001), ('indic', 2002), ('court', 2003), ('loser', 2004), ('roy', 2005), ('grave', 2006), ('inevit', 2007), ('advertis', 2008), ('rental', 2009), ('nanci', 2010), ('consequ', 2011), ('naiv', 2012), ('germani', 2013), ('fatal', 2014), ('le', 2015), ('invis', 2016), ('slap', 2017), ('brave', 2018), ('bridg', 2019), ('provok', 2020), ('ador', 2021), ('loui', 2022), ('anger', 2023), ('footbal', 2024), ('chan', 2025), ('alcohol', 2026), ('anderson', 2027), ('willi', 2028), ('professor', 2029), ('stumbl', 2030), ('ryan', 2031), ('assassin', 2032), ('sharp', 2033), ('bat', 2034), ('1930', 2035), ('patrick', 2036), ('australian', 2037), ('trilog', 2038), ('deni', 2039), ('saturday', 2040), ('amateurish', 2041), ('refresh', 2042), ('heck', 2043), ('lousi', 2044), ('ape', 2045), ('strongli', 2046), ('cell', 2047), ('liber', 2048), ('eight', 2049), ('sin', 2050), ('resid', 2051), ('justifi', 2052), ('san', 2053), ('vagu', 2054), ('terrifi', 2055), ('creator', 2056), ('defeat', 2057), ('indi', 2058), ('sympathi', 2059), ('mini', 2060), ('reput', 2061), ('prevent', 2062), ('expert', 2063), ('endur', 2064), ('tediou', 2065), ('tabl', 2066), ('task', 2067), ('rival', 2068), ('trial', 2069), ('imit', 2070), ('basebal', 2071), ('employ', 2072), ('offend', 2073), ('che', 2074), ('pitch', 2075), ('complaint', 2076), ('weekend', 2077), ('fairi', 2078), ('europ', 2079), ('beach', 2080), ('max', 2081), ('dig', 2082), ('format', 2083), ('purchas', 2084), ('risk', 2085), ('murphi', 2086), ('bite', 2087), ('harsh', 2088), ('tini', 2089), ('hype', 2090), ('reminisc', 2091), ('nois', 2092), ('glimps', 2093), ('powel', 2094), ('titan', 2095), ('till', 2096), ('prime', 2097), ('14', 2098), ('fals', 2099), ('asleep', 2100), ('strip', 2101), ('north', 2102), ('texa', 2103), ('revel', 2104), ('descript', 2105), ('destruct', 2106), ('africa', 2107), ('excess', 2108), ('semi', 2109), ('inner', 2110), ('uninterest', 2111), ('surfac', 2112), ('spin', 2113), ('sitcom', 2114), ('arrest', 2115), ('maintain', 2116), ('makeup', 2117), ('argu', 2118), ('massiv', 2119), ('controversi', 2120), ('hitchcock', 2121), ('dinosaur', 2122), ('twin', 2123), ('expens', 2124), ('melodrama', 2125), ('ideal', 2126), ('insist', 2127), ('reject', 2128), ('kim', 2129), ('ludicr', 2130), ('stare', 2131), ('host', 2132), ('subplot', 2133), ('ga', 2134), ('nail', 2135), ('supernatur', 2136), ('erot', 2137), ('atroci', 2138), ('columbo', 2139), ('ala', 2140), ('forest', 2141), ('press', 2142), ('notch', 2143), ('identifi', 2144), ('dude', 2145), ('presum', 2146), ('cant', 2147), ('forgett', 2148), ('guest', 2149), ('method', 2150), ('crude', 2151), ('character', 2152), ('closer', 2153), ('plagu', 2154), ('beast', 2155), ('lion', 2156), ('ear', 2157), ('foster', 2158), ('border', 2159), ('princess', 2160), ('landscap', 2161), ('previous', 2162), ('birth', 2163), ('urban', 2164), ('bound', 2165), ('jungl', 2166), ('storytel', 2167), ('aunt', 2168), ('pacino', 2169), ('damag', 2170), ('accus', 2171), ('jess', 2172), ('thirti', 2173), ('nude', 2174), ('doll', 2175), ('emma', 2176), ('propaganda', 2177), ('guid', 2178), ('chose', 2179), ('mainstream', 2180), ('25', 2181), ('mate', 2182), ('pet', 2183), ('whoever', 2184), ('warrior', 2185), ('merit', 2186), ('size', 2187), ('gritti', 2188), ('friday', 2189), ('cooper', 2190), ('upset', 2191), ('deadli', 2192), ('latest', 2193), ('exact', 2194), ('poster', 2195), ('buff', 2196), ('corps', 2197), ('sun', 2198), ('contest', 2199), ('wilson', 2200), ('ton', 2201), ('citizen', 2202), ('popul', 2203), ('contact', 2204), ('1990', 2205), ('settl', 2206), ('blend', 2207), ('warner', 2208), ('rough', 2209), ('alic', 2210), ('mgm', 2211), ('bu', 2212), ('overcom', 2213), ('widow', 2214), ('environ', 2215), ('pitt', 2216), ('metal', 2217), ('rat', 2218), ('select', 2219), ('link', 2220), ('guilti', 2221), ('lift', 2222), ('revolut', 2223), ('ted', 2224), ('particip', 2225), ('johnson', 2226), ('1960', 2227), ('exagger', 2228), ('afternoon', 2229), ('corpor', 2230), ('moron', 2231), ('accompani', 2232), ('prostitut', 2233), ('matrix', 2234), ('corner', 2235), ('doom', 2236), ('clair', 2237), ('friendli', 2238), ('sincer', 2239), ('hood', 2240), ('leagu', 2241), ('multipl', 2242), ('instal', 2243), ('holm', 2244), ('campi', 2245), ('irish', 2246), ('defend', 2247), ('junk', 2248), ('aka', 2249), ('lugosi', 2250), ('sunday', 2251), ('hip', 2252), ('grim', 2253), ('advis', 2254), ('examin', 2255), ('string', 2256), ('blah', 2257), ('shake', 2258), ('confid', 2259), ('shut', 2260), ('pro', 2261), ('varieti', 2262), ('rachel', 2263), ('icon', 2264), ('tight', 2265), ('jaw', 2266), ('goal', 2267), ('medic', 2268), ('attach', 2269), ('mexican', 2270), ('sullivan', 2271), ('denni', 2272), ('directli', 2273), ('legendari', 2274), ('prior', 2275), ('sentenc', 2276), ('truck', 2277), ('courag', 2278), ('bourn', 2279), ('dean', 2280), ('vietnam', 2281), ('breast', 2282), ('terrorist', 2283), ('sarah', 2284), ('duke', 2285), ('hong', 2286), ('donald', 2287), ('proceed', 2288), ('behav', 2289), ('entri', 2290), ('un', 2291), ('split', 2292), ('nose', 2293), ('yell', 2294), ('jerk', 2295), ('concentr', 2296), ('everywher', 2297), ('buri', 2298), ('gather', 2299), ('crush', 2300), ('unconvinc', 2301), ('lifetim', 2302), ('stolen', 2303), ('confess', 2304), ('forth', 2305), ('swim', 2306), ('borrow', 2307), ('deliveri', 2308), ('spite', 2309), ('pan', 2310), ('lip', 2311), ('julia', 2312), ('turkey', 2313), ('california', 2314), ('flight', 2315), ('offici', 2316), ('quest', 2317), ('china', 2318), ('downright', 2319), ('freeman', 2320), ('hoffman', 2321), ('proud', 2322), ('reward', 2323), ('lazi', 2324), ('betray', 2325), ('jon', 2326), ('worthwhil', 2327), ('jail', 2328), ('sir', 2329), ('fabul', 2330), ('encourag', 2331), ('sink', 2332), ('fade', 2333), ('inept', 2334), ('notori', 2335), ('cousin', 2336), ('survivor', 2337), ('storm', 2338), ('susan', 2339), ('branagh', 2340), ('lisa', 2341), ('teeth', 2342), ('relev', 2343), ('retard', 2344), ('imageri', 2345), ('shower', 2346), ('bell', 2347), ('bag', 2348), ('hugh', 2349), ('shark', 2350), ('facial', 2351), ('stab', 2352), ('trade', 2353), ('alright', 2354), ('mexico', 2355), ('bride', 2356), ('tremend', 2357), ('summari', 2358), ('toler', 2359), ('finger', 2360), ('quirki', 2361), ('blown', 2362), ('hyster', 2363), ('ha', 2364), ('pose', 2365), ('bitter', 2366), ('von', 2367), ('cruel', 2368), ('ron', 2369), ('afterward', 2370), ('address', 2371), ('larri', 2372), ('christ', 2373), ('scheme', 2374), ('ned', 2375), ('bone', 2376), ('feed', 2377), ('beg', 2378), ('screw', 2379), ('thumb', 2380), ('swear', 2381), ('traci', 2382), ('distinct', 2383), ('snake', 2384), ('tour', 2385), ('pursu', 2386), ('stomach', 2387), ('occas', 2388), ('photo', 2389), ('raw', 2390), ('obscur', 2391), ('mechan', 2392), ('chair', 2393), ('necessarili', 2394), ('chain', 2395), ('cabin', 2396), ('argument', 2397), ('southern', 2398), ('heavili', 2399), ('gruesom', 2400), ('holiday', 2401), ('sidney', 2402), ('resist', 2403), ('render', 2404), ('hardi', 2405), ('philip', 2406), ('india', 2407), ('indulg', 2408), ('understood', 2409), ('racist', 2410), ('satan', 2411), ('pregnant', 2412), ('tongu', 2413), ('stalk', 2414), ('integr', 2415), ('forgot', 2416), ('lay', 2417), ('outfit', 2418), ('obnoxi', 2419), ('fourth', 2420), ('belov', 2421), ('midnight', 2422), ('restor', 2423), ('17', 2424), ('slapstick', 2425), ('ticket', 2426), ('magazin', 2427), ('deeper', 2428), ('inhabit', 2429), ('carol', 2430), ('garden', 2431), ('devot', 2432), ('brad', 2433), ('incid', 2434), ('lincoln', 2435), ('shoe', 2436), ('maria', 2437), ('benefit', 2438), ('divorc', 2439), ('underground', 2440), ('sandler', 2441), ('guarante', 2442), ('lili', 2443), ('disbelief', 2444), ('elizabeth', 2445), ('anticip', 2446), ('capit', 2447), ('cring', 2448), ('mildli', 2449), ('explod', 2450), ('greater', 2451), ('princip', 2452), ('amazingli', 2453), ('creation', 2454), ('bbc', 2455), ('slave', 2456), ('funnier', 2457), ('extraordinari', 2458), ('introduct', 2459), ('halfway', 2460), ('lesli', 2461), ('transfer', 2462), ('text', 2463), ('wreck', 2464), ('extent', 2465), ('overwhelm', 2466), ('tap', 2467), ('advantag', 2468), ('enhanc', 2469), ('punish', 2470), ('lo', 2471), ('preview', 2472), ('dynam', 2473), ('deliber', 2474), ('jessica', 2475), ('lane', 2476), ('error', 2477), ('horrif', 2478), ('plant', 2479), ('east', 2480), ('vacat', 2481), ('miller', 2482), ('ensu', 2483), ('appli', 2484), ('sophist', 2485), ('vincent', 2486), ('2000', 2487), ('basi', 2488), ('homosexu', 2489), ('miscast', 2490), ('sleazi', 2491), ('spoken', 2492), ('elev', 2493), ('extend', 2494), ('via', 2495), ('bollywood', 2496), ('measur', 2497), ('mansion', 2498), ('uncomfort', 2499), ('steel', 2500), ('reed', 2501), ('melt', 2502), ('alter', 2503), ('conceiv', 2504), ('mous', 2505), ('hippi', 2506), ('overact', 2507), ('breathtak', 2508), ('fix', 2509), ('goofi', 2510), ('savag', 2511), ('cathol', 2512), ('beer', 2513), ('dentist', 2514), ('daili', 2515), ('assign', 2516), ('stanley', 2517), ('blair', 2518), ('properli', 2519), ('sacrific', 2520), ('burt', 2521), ('oppos', 2522), ('carpent', 2523), ('succe', 2524), ('nowaday', 2525), ('everyday', 2526), ('subsequ', 2527), ('inspector', 2528), ('neck', 2529), ('block', 2530), ('circl', 2531), ('massacr', 2532), ('laura', 2533), ('seagal', 2534), ('fallen', 2535), ('access', 2536), ('portrait', 2537), ('mob', 2538), ('lesser', 2539), ('concert', 2540), ('pool', 2541), ('grey', 2542), ('fay', 2543), ('christi', 2544), ('competit', 2545), ('jake', 2546), ('isol', 2547), ('sinist', 2548), ('relax', 2549), ('usa', 2550), ('react', 2551), ('chees', 2552), ('jewish', 2553), ('nine', 2554), ('stink', 2555), ('spiritu', 2556), ('ironi', 2557), ('chop', 2558), ('immens', 2559), ('2006', 2560), ('appal', 2561), ('nonetheless', 2562), ('lyric', 2563), ('creep', 2564), ('suitabl', 2565), ('reduc', 2566), ('shirt', 2567), ('needless', 2568), ('adopt', 2569), ('retir', 2570), ('luci', 2571), ('user', 2572), ('franchis', 2573), ('sold', 2574), ('spring', 2575), ('showcas', 2576), ('nut', 2577), ('navi', 2578), ('rage', 2579), ('jay', 2580), ('nurs', 2581), ('zone', 2582), ('per', 2583), ('bath', 2584), ('uninspir', 2585), ('bulli', 2586), ('stanwyck', 2587), ('asham', 2588), ('digit', 2589), ('sutherland', 2590), ('laid', 2591), ('upper', 2592), ('broadcast', 2593), ('illustr', 2594), ('1940', 2595), ('2001', 2596), ('amongst', 2597), ('oddli', 2598), ('stylish', 2599), ('baker', 2600), ('aspir', 2601), ('throat', 2602), ('disguis', 2603), ('brando', 2604), ('fulfil', 2605), ('em', 2606), ('18', 2607), ('wanna', 2608), ('neighborhood', 2609), ('pride', 2610), ('wwii', 2611), ('thief', 2612), ('pound', 2613), ('impli', 2614), ('endear', 2615), ('nobl', 2616), ('16', 2617), ('prop', 2618), ('coher', 2619), ('dinner', 2620), ('shift', 2621), ('diseas', 2622), ('albeit', 2623), ('tens', 2624), ('distribut', 2625), ('shoulder', 2626), ('cinematograph', 2627), ('bo', 2628), ('dawn', 2629), ('rochest', 2630), ('bett', 2631), ('surf', 2632), ('forti', 2633), ('contract', 2634), ('snow', 2635), ('shout', 2636), ('knife', 2637), ('function', 2638), ('poignant', 2639), ('rebel', 2640), ('matthau', 2641), ('silenc', 2642), ('wash', 2643), ('reunion', 2644), ('horrend', 2645), ('heat', 2646), ('cancel', 2647), ('duti', 2648), ('chuck', 2649), ('instinct', 2650), ('henc', 2651), ('height', 2652), ('mindless', 2653), ('silver', 2654), ('internet', 2655), ('eeri', 2656), ('proof', 2657), ('cannib', 2658), ('derek', 2659), ('elvira', 2660), ('widmark', 2661), ('glori', 2662), ('alik', 2663), ('musician', 2664), ('innov', 2665), ('premier', 2666), ('etern', 2667), ('absorb', 2668), ('incoher', 2669), ('mill', 2670), ('repetit', 2671), ('pie', 2672), ('elvi', 2673), ('neat', 2674), ('torn', 2675), ('spielberg', 2676), ('greatli', 2677), ('homag', 2678), ('horrifi', 2679), ('bang', 2680), ('wealthi', 2681), ('crisi', 2682), ('blank', 2683), ('infam', 2684), ('lovabl', 2685), ('precis', 2686), ('fbi', 2687), ('racism', 2688), ('burton', 2689), ('redempt', 2690), ('announc', 2691), ('britain', 2692), ('diamond', 2693), ('itali', 2694), ('trite', 2695), ('nelson', 2696), ('ensembl', 2697), ('hammer', 2698), ('chaplin', 2699), ('flop', 2700), ('resolut', 2701), ('parallel', 2702), ('helen', 2703), ('happili', 2704), ('wilder', 2705), ('streisand', 2706), ('pat', 2707), ('dedic', 2708), ('broke', 2709), ('mar', 2710), ('st', 2711), ('carter', 2712), ('oil', 2713), ('conclud', 2714), ('plastic', 2715), ('disagre', 2716), ('triumph', 2717), ('factori', 2718), ('cube', 2719), ('weight', 2720), ('fighter', 2721), ('march', 2722), ('chuckl', 2723), ('own', 2724), ('vega', 2725), ('row', 2726), ('bush', 2727), ('rocket', 2728), ('climb', 2729), ('meaning', 2730), ('kurt', 2731), ('dane', 2732), ('wherea', 2733), ('lust', 2734), ('boot', 2735), ('mst3k', 2736), ('sensibl', 2737), ('dump', 2738), ('unforgett', 2739), ('enorm', 2740), ('spare', 2741), ('thug', 2742), ('luca', 2743), ('butt', 2744), ('engin', 2745), ('difficulti', 2746), ('rap', 2747), ('arnold', 2748), ('adequ', 2749), ('brand', 2750), ('karloff', 2751), ('bobbi', 2752), ('threat', 2753), ('caricatur', 2754), ('stress', 2755), ('dear', 2756), ('fifti', 2757), ('fest', 2758), ('swing', 2759), ('secretari', 2760), ('arrog', 2761), ('ralph', 2762), ('barri', 2763), ('flynn', 2764), ('polish', 2765), ('journalist', 2766), ('homeless', 2767), ('ego', 2768), ('elabor', 2769), ('hamlet', 2770), ('fanci', 2771), ('induc', 2772), ('arrang', 2773), ('tool', 2774), ('unbear', 2775), ('puppet', 2776), ('grate', 2777), ('float', 2778), ('simpson', 2779), ('conspiraci', 2780), ('spike', 2781), ('resort', 2782), ('guilt', 2783), ('phillip', 2784), ('cruis', 2785), ('tribut', 2786), ('choreograph', 2787), ('exercis', 2788), ('boll', 2789), ('basement', 2790), ('pig', 2791), ('muppet', 2792), ('tower', 2793), ('editor', 2794), ('document', 2795), ('fianc', 2796), ('slip', 2797), ('scarecrow', 2798), ('ham', 2799), ('babe', 2800), ('toilet', 2801), ('file', 2802), ('ward', 2803), ('puzzl', 2804), ('medium', 2805), ('layer', 2806), ('24', 2807), ('item', 2808), ('korean', 2809), ('stan', 2810), ('larger', 2811), ('slaughter', 2812), ('spark', 2813), ('portion', 2814), ('glover', 2815), ('catherin', 2816), ('assur', 2817), ('minim', 2818), ('denzel', 2819), ('superfici', 2820), ('inexplic', 2821), ('persona', 2822), ('doc', 2823), ('territori', 2824), ('librari', 2825), ('orient', 2826), ('transit', 2827), ('philosoph', 2828), ('curti', 2829), ('shi', 2830), ('wolf', 2831), ('jeremi', 2832), ('financi', 2833), ('ban', 2834), ('pg', 2835), ('sneak', 2836), ('boredom', 2837), ('walken', 2838), ('jet', 2839), ('dorothi', 2840), ('owe', 2841), ('ambigu', 2842), ('whale', 2843), ('backdrop', 2844), ('cusack', 2845), ('eleph', 2846), ('metaphor', 2847), ('profound', 2848), ('multi', 2849), ('hudson', 2850), ('union', 2851), ('notion', 2852), ('elsewher', 2853), ('hack', 2854), ('2005', 2855), ('ultra', 2856), ('stiff', 2857), ('viru', 2858), ('birthday', 2859), ('rave', 2860), ('gadget', 2861), ('implaus', 2862), ('deriv', 2863), ('urg', 2864), ('squar', 2865), ('disc', 2866), ('canada', 2867), ('distanc', 2868), ('1st', 2869), ('eva', 2870), ('superhero', 2871), ('afford', 2872), ('hawk', 2873), ('lloyd', 2874), ('newspap', 2875), ('reader', 2876), ('slight', 2877), ('poison', 2878), ('eastwood', 2879), ('pad', 2880), ('bibl', 2881), ('heston', 2882), ('skit', 2883), ('drown', 2884), ('health', 2885), ('charisma', 2886), ('huh', 2887), ('sadist', 2888), ('essenc', 2889), ('restaur', 2890), ('cure', 2891), ('spread', 2892), ('montag', 2893), ('button', 2894), ('maniac', 2895), ('gradual', 2896), ('companion', 2897), ('dealt', 2898), ('peak', 2899), ('invest', 2900), ('estat', 2901), ('fetch', 2902), ('godfath', 2903), ('lab', 2904), ('muslim', 2905), ('scoobi', 2906), ('ritter', 2907), ('alli', 2908), ('subtleti', 2909), ('cup', 2910), ('tea', 2911), ('kane', 2912), ('countless', 2913), ('gothic', 2914), ('miik', 2915), ('servant', 2916), ('iii', 2917), ('briefli', 2918), ('heroic', 2919), ('electr', 2920), ('charismat', 2921), ('salli', 2922), ('elect', 2923), ('grandmoth', 2924), ('neil', 2925), ('nuanc', 2926), ('admittedli', 2927), ('wannab', 2928), ('toss', 2929), ('resourc', 2930), ('ingredi', 2931), ('reel', 2932), ('bud', 2933), ('cole', 2934), ('tender', 2935), ('mild', 2936), ('label', 2937), ('dawson', 2938), ('kubrick', 2939), ('stronger', 2940), ('gate', 2941), ('shall', 2942), ('mafia', 2943), ('pit', 2944), ('stood', 2945), ('poverti', 2946), ('carrey', 2947), ('punk', 2948), ('reev', 2949), ('pauli', 2950), ('fond', 2951), ('cardboard', 2952), ('smash', 2953), ('bakshi', 2954), ('tag', 2955), ('burst', 2956), ('smooth', 2957), ('cox', 2958), ('outcom', 2959), ('assault', 2960), ('easier', 2961), ('updat', 2962), ('useless', 2963), ('terri', 2964), ('ian', 2965), ('astair', 2966), ('resolv', 2967), ('qualifi', 2968), ('vulner', 2969), ('divers', 2970), ('melodramat', 2971), ('coincid', 2972), ('rex', 2973), ('fist', 2974), ('increasingli', 2975), ('2002', 2976), ('exchang', 2977), ('sketch', 2978), ('vari', 2979), ('samurai', 2980), ('tame', 2981), ('blast', 2982), ('scratch', 2983), ('conveni', 2984), ('suspend', 2985), ('be', 2986), ('brillianc', 2987), ('insert', 2988), ('reynold', 2989), ('luckili', 2990), ('templ', 2991), ('jami', 2992), ('strictli', 2993), ('gotta', 2994), ('fisher', 2995), ('meat', 2996), ('walker', 2997), ('pin', 2998), ('seventi', 2999), ('hamilton', 3000), ('soprano', 3001), ('farm', 3002), ('ambiti', 3003), ('matthew', 3004), ('nuclear', 3005), ('coach', 3006), ('instantli', 3007), ('discoveri', 3008), ('worthless', 3009), ('closet', 3010), ('recreat', 3011), ('kudo', 3012), ('clock', 3013), ('brosnan', 3014), ('grasp', 3015), ('butcher', 3016), ('spooki', 3017), ('monk', 3018), ('eccentr', 3019), ('struck', 3020), ('cave', 3021), ('timeless', 3022), ('convolut', 3023), ('ninja', 3024), ('revers', 3025), ('empir', 3026), ('joey', 3027), ('seller', 3028), ('eighti', 3029), ('cliff', 3030), ('importantli', 3031), ('sidekick', 3032), ('sloppi', 3033), ('mitchel', 3034), ('clown', 3035), ('declar', 3036), ('gray', 3037), ('pal', 3038), ('communist', 3039), ('evok', 3040), ('selfish', 3041), ('inconsist', 3042), ('norman', 3043), ('miracl', 3044), ('bleak', 3045), ('wipe', 3046), ('fifteen', 3047), ('partli', 3048), ('aforement', 3049), ('destin', 3050), ('websit', 3051), ('australia', 3052), ('chew', 3053), ('lifestyl', 3054), ('psychiatrist', 3055), ('superbl', 3056), ('farc', 3057), ('45', 3058), ('debat', 3059), ('cheek', 3060), ('stoog', 3061), ('piano', 3062), ('seed', 3063), ('flawless', 3064), ('ho', 3065), ('enthusiast', 3066), ('slice', 3067), ('kitchen', 3068), ('wrestl', 3069), ('soviet', 3070), ('bash', 3071), ('wick', 3072), ('akshay', 3073), ('anni', 3074), ('abc', 3075), ('splatter', 3076), ('incompet', 3077), ('drivel', 3078), ('dash', 3079), ('directori', 3080), ('dire', 3081), ('emili', 3082), ('pressur', 3083), ('regardless', 3084), ('prize', 3085), ('flower', 3086), ('distant', 3087), ('cia', 3088), ('helicopt', 3089), ('chapter', 3090), ('suppli', 3091), ('artifici', 3092), ('boil', 3093), ('duo', 3094), ('recov', 3095), ('lou', 3096), ('ken', 3097), ('mann', 3098), ('seduc', 3099), ('cameron', 3100), ('judi', 3101), ('curios', 3102), ('pleasantli', 3103), ('jar', 3104), ('doo', 3105), ('cagney', 3106), ('dave', 3107), ('blob', 3108), ('increas', 3109), ('beaten', 3110), ('glow', 3111), ('drunken', 3112), ('perri', 3113), ('panic', 3114), ('ellen', 3115), ('psychot', 3116), ('glenn', 3117), ('francisco', 3118), ('favour', 3119), ('eleg', 3120), ('hop', 3121), ('craven', 3122), ('combat', 3123), ('laurel', 3124), ('ranger', 3125), ('turner', 3126), ('goldberg', 3127), ('web', 3128), ('craig', 3129), ('splendid', 3130), ('fx', 3131), ('graduat', 3132), ('flip', 3133), ('plausibl', 3134), ('hatr', 3135), ('rid', 3136), ('greek', 3137), ('shortli', 3138), ('ruth', 3139), ('falk', 3140), ('gandhi', 3141), ('alexand', 3142), ('20th', 3143), ('gentl', 3144), ('slightest', 3145), ('philosophi', 3146), ('min', 3147), ('wizard', 3148), ('modesti', 3149), ('tall', 3150), ('lend', 3151), ('harm', 3152), ('futurist', 3153), ('jealou', 3154), ('fund', 3155), ('we', 3156), ('legal', 3157), ('preciou', 3158), ('felix', 3159), ('knight', 3160), ('ocean', 3161), ('unpleas', 3162), ('holi', 3163), ('dracula', 3164), ('manhattan', 3165), ('bless', 3166), ('overdon', 3167), ('nod', 3168), ('childish', 3169), ('forbidden', 3170), ('digniti', 3171), ('thread', 3172), ('reviv', 3173), ('scientif', 3174), ('ami', 3175), ('explicit', 3176), ('giallo', 3177), ('mock', 3178), ('tank', 3179), ('pirat', 3180), ('awe', 3181), ('unwatch', 3182), ('fever', 3183), ('torment', 3184), ('broad', 3185), ('thick', 3186), ('margaret', 3187), ('verhoeven', 3188), ('repeatedli', 3189), ('elderli', 3190), ('99', 3191), ('yesterday', 3192), ('awaken', 3193), ('nerv', 3194), ('2004', 3195), ('mel', 3196), ('eve', 3197), ('griffith', 3198), ('uniform', 3199), ('custom', 3200), ('automat', 3201), ('absenc', 3202), ('lean', 3203), ('royal', 3204), ('publish', 3205), ('ah', 3206), ('rivet', 3207), ('stiller', 3208), ('roman', 3209), ('ambit', 3210), ('timothi', 3211), ('acclaim', 3212), ('bin', 3213), ('launch', 3214), ('kay', 3215), ('politician', 3216), ('romero', 3217), ('eas', 3218), ('pierc', 3219), ('wallac', 3220), ('pulp', 3221), ('bathroom', 3222), ('transport', 3223), ('darker', 3224), ('antic', 3225), ('sunshin', 3226), ('stinker', 3227), ('homicid', 3228), ('foul', 3229), ('gabriel', 3230), ('tomato', 3231), ('warren', 3232), ('crook', 3233), ('purpl', 3234), ('phrase', 3235), ('termin', 3236), ('q', 3237), ('marin', 3238), ('viciou', 3239), ('rambo', 3240), ('packag', 3241), ('coloni', 3242), ('awak', 3243), ('pray', 3244), ('choreographi', 3245), ('evolv', 3246), ('kenneth', 3247), ('ought', 3248), ('juvenil', 3249), ('saint', 3250), ('2003', 3251), ('li', 3252), ('brazil', 3253), ('album', 3254), ('horrid', 3255), ('contrari', 3256), ('donna', 3257), ('hollow', 3258), ('revolutionari', 3259), ('karen', 3260), ('prom', 3261), ('eyr', 3262), ('sixti', 3263), ('stole', 3264), ('defi', 3265), ('blade', 3266), ('kapoor', 3267), ('conserv', 3268), ('boast', 3269), ('twelv', 3270), ('dose', 3271), ('candid', 3272), ('overr', 3273), ('ireland', 3274), ('nerd', 3275), ('beatti', 3276), ('option', 3277), ('mummi', 3278), ('mildr', 3279), ('ramon', 3280), ('detract', 3281), ('jazz', 3282), ('funer', 3283), ('flame', 3284), ('confirm', 3285), ('collabor', 3286), ('global', 3287), ('trio', 3288), ('kirk', 3289), ('natali', 3290), ('protest', 3291), ('altman', 3292), ('fulci', 3293), ('astonish', 3294), ('nicholson', 3295), ('destini', 3296), ('leap', 3297), ('tommi', 3298), ('racial', 3299), ('shade', 3300), ('mystic', 3301), ('delici', 3302), ('blake', 3303), ('bottl', 3304), ('bull', 3305), ('yellow', 3306), ('spit', 3307), ('whip', 3308), ('enterpris', 3309), ('audio', 3310), ('visibl', 3311), ('staff', 3312), ('reunit', 3313), ('threw', 3314), ('bedroom', 3315), ('fonda', 3316), ('adolesc', 3317), ('pseudo', 3318), ('merci', 3319), ('harder', 3320), ('swedish', 3321), ('popcorn', 3322), ('neo', 3323), ('todd', 3324), ('meaningless', 3325), ('enchant', 3326), ('altogeth', 3327), ('vivid', 3328), ('inherit', 3329), ('uneven', 3330), ('crocodil', 3331), ('ruthless', 3332), ('reserv', 3333), ('synopsi', 3334), ('await', 3335), ('jew', 3336), ('suspici', 3337), ('leonard', 3338), ('lawrenc', 3339), ('tip', 3340), ('bust', 3341), ('exhibit', 3342), ('roommat', 3343), ('decor', 3344), ('moodi', 3345), ('kennedi', 3346), ('respond', 3347), ('befriend', 3348), ('voight', 3349), ('wire', 3350), ('fanat', 3351), ('atlanti', 3352), ('madonna', 3353), ('lemmon', 3354), ('edi', 3355), ('bold', 3356), ('unsettl', 3357), ('dimens', 3358), ('holli', 3359), ('abysm', 3360), ('rural', 3361), ('2007', 3362), ('ventur', 3363), ('voyag', 3364), ('carl', 3365), ('chao', 3366), ('centr', 3367), ('clumsi', 3368), ('bargain', 3369), ('clint', 3370), ('garner', 3371), ('incident', 3372), ('audit', 3373), ('bradi', 3374), ('palma', 3375), ('2nd', 3376), ('immigr', 3377), ('trail', 3378), ('tiger', 3379), ('wealth', 3380), ('imperson', 3381), ('characterist', 3382), ('neglect', 3383), ('poetic', 3384), ('daddi', 3385), ('lit', 3386), ('troop', 3387), ('cd', 3388), ('elimin', 3389), ('ant', 3390), ('cuba', 3391), ('echo', 3392), ('acknowledg', 3393), ('nearbi', 3394), ('cari', 3395), ('mall', 3396), ('hart', 3397), ('versu', 3398), ('timon', 3399), ('humili', 3400), ('pun', 3401), ('collaps', 3402), ('mistaken', 3403), ('infect', 3404), ('domest', 3405), ('mickey', 3406), ('celluloid', 3407), ('jeffrey', 3408), ('marshal', 3409), ('prejudic', 3410), ('saga', 3411), ('solo', 3412), ('paus', 3413), ('homer', 3414), ('repuls', 3415), ('inappropri', 3416), ('undoubtedli', 3417), ('milk', 3418), ('harvey', 3419), ('equip', 3420), ('chest', 3421), ('tribe', 3422), ('coffe', 3423), ('assembl', 3424), ('hbo', 3425), ('apolog', 3426), ('inan', 3427), ('leon', 3428), ('sore', 3429), ('cake', 3430), ('1996', 3431), ('promin', 3432), ('pant', 3433), ('interrupt', 3434), ('coat', 3435), ('olivi', 3436), ('gear', 3437), ('ginger', 3438), ('pen', 3439), ('institut', 3440), ('colonel', 3441), ('colleagu', 3442), ('retain', 3443), ('vulgar', 3444), ('jenni', 3445), ('exot', 3446), ('aveng', 3447), ('solut', 3448), ('instant', 3449), ('highest', 3450), ('trace', 3451), ('florida', 3452), ('devast', 3453), ('maggi', 3454), ('embrac', 3455), ('brooklyn', 3456), ('consum', 3457), ('airplan', 3458), ('primari', 3459), ('furthermor', 3460), ('humbl', 3461), ('pot', 3462), ('polanski', 3463), ('smaller', 3464), ('gender', 3465), ('rick', 3466), ('principl', 3467), ('wive', 3468), ('3rd', 3469), ('sale', 3470), ('godzilla', 3471), ('poke', 3472), ('illog', 3473), ('bowl', 3474), ('disabl', 3475), ('ya', 3476), ('dutch', 3477), ('1999', 3478), ('seduct', 3479), ('outer', 3480), ('dian', 3481), ('strain', 3482), ('cope', 3483), ('linda', 3484), ('descend', 3485), ('bubbl', 3486), ('gloriou', 3487), ('rabbit', 3488), ('dud', 3489), ('yard', 3490), ('predecessor', 3491), ('glamor', 3492), ('inferior', 3493), ('blatant', 3494), ('secondli', 3495), ('dive', 3496), ('devoid', 3497), ('cue', 3498), ('hal', 3499), ('primarili', 3500), ('lol', 3501), ('beneath', 3502), ('mixtur', 3503), ('vast', 3504), ('scope', 3505), ('gundam', 3506), ('myer', 3507), ('talki', 3508), ('et', 3509), ('breed', 3510), ('trademark', 3511), ('invas', 3512), ('shelf', 3513), ('alfr', 3514), ('disjoint', 3515), ('museum', 3516), ('senseless', 3517), ('pearl', 3518), ('shirley', 3519), ('domino', 3520), ('simplist', 3521), ('countrysid', 3522), ('april', 3523), ('arab', 3524), ('grinch', 3525), ('aggress', 3526), ('hideou', 3527), ('streep', 3528), ('casual', 3529), ('z', 3530), ('alert', 3531), ('garbo', 3532), ('obtain', 3533), ('illeg', 3534), ('unhappi', 3535), ('maci', 3536), ('defens', 3537), ('khan', 3538), ('acid', 3539), ('experiment', 3540), ('hopeless', 3541), ('robberi', 3542), ('loyal', 3543), ('stellar', 3544), ('stir', 3545), ('rendit', 3546), ('applaud', 3547), ('disgrac', 3548), ('slide', 3549), ('uwe', 3550), ('mail', 3551), ('stack', 3552), ('vanish', 3553), ('mayor', 3554), ('hardcor', 3555), ('oz', 3556), ('robinson', 3557), ('sh', 3558), ('boom', 3559), ('tempt', 3560), ('craze', 3561), ('dismiss', 3562), ('blew', 3563), ('counter', 3564), ('spider', 3565), ('recruit', 3566), ('scroog', 3567), ('fri', 3568), ('berlin', 3569), ('emphasi', 3570), ('amanda', 3571), ('psychic', 3572), ('grandfath', 3573), ('incomprehens', 3574), ('wont', 3575), ('hartley', 3576), ('rifl', 3577), ('soccer', 3578), ('diana', 3579), ('span', 3580), ('tenant', 3581), ('dicken', 3582), ('declin', 3583), ('topless', 3584), ('porno', 3585), ('wet', 3586), ('woo', 3587), ('niro', 3588), ('goer', 3589), ('intim', 3590), ('riot', 3591), ('sympath', 3592), ('resurrect', 3593), ('trashi', 3594), ('justin', 3595), ('lumet', 3596), ('revolt', 3597), ('ration', 3598), ('ethnic', 3599), ('faster', 3600), ('bitch', 3601), ('shed', 3602), ('parad', 3603), ('shaw', 3604), ('sibl', 3605), ('ensur', 3606), ('feminist', 3607), ('rider', 3608), ('hesit', 3609), ('enlighten', 3610), ('andr', 3611), ('hopper', 3612), ('jonathan', 3613), ('honesti', 3614), ('nephew', 3615), ('wheel', 3616), ('biographi', 3617), ('region', 3618), ('gap', 3619), ('unreal', 3620), ('slick', 3621), ('ballet', 3622), ('mario', 3623), ('wendi', 3624), ('partial', 3625), ('worm', 3626), ('lena', 3627), ('patriot', 3628), ('00', 3629), ('eager', 3630), ('steam', 3631), ('immort', 3632), ('farmer', 3633), ('weakest', 3634), ('commend', 3635), ('choru', 3636), ('dealer', 3637), ('properti', 3638), ('psychopath', 3639), ('kingdom', 3640), ('victori', 3641), ('wore', 3642), ('similarli', 3643), ('sappi', 3644), ('skull', 3645), ('vice', 3646), ('repress', 3647), ('safeti', 3648), ('morri', 3649), ('leo', 3650), ('mutant', 3651), ('hung', 3652), ('prequel', 3653), ('nostalg', 3654), ('confin', 3655), ('snap', 3656), ('sandra', 3657), ('composit', 3658), ('charlott', 3659), ('util', 3660), ('blunt', 3661), ('owen', 3662), ('franco', 3663), ('macarthur', 3664), ('campbel', 3665), ('deed', 3666), ('rambl', 3667), ('strand', 3668), ('dust', 3669), ('repli', 3670), ('del', 3671), ('miseri', 3672), ('compens', 3673), ('montana', 3674), ('snl', 3675), ('exit', 3676), ('bonu', 3677), ('nervou', 3678), ('1972', 3679), ('recycl', 3680), ('kyle', 3681), ('rocki', 3682), ('valuabl', 3683), ('farrel', 3684), ('bumbl', 3685), ('heartbreak', 3686), ('rope', 3687), ('acquir', 3688), ('thru', 3689), ('compass', 3690), ('latin', 3691), ('whoopi', 3692), ('drain', 3693), ('tail', 3694), ('pattern', 3695), ('bergman', 3696), ('bow', 3697), ('hyde', 3698), ('despair', 3699), ('speci', 3700), ('cg', 3701), ('tad', 3702), ('dalton', 3703), ('drum', 3704), ('emperor', 3705), ('wacki', 3706), ('gal', 3707), ('tonight', 3708), ('oppress', 3709), ('rotten', 3710), ('percept', 3711), ('gimmick', 3712), ('airport', 3713), ('rapist', 3714), ('pour', 3715), ('romp', 3716), ('martian', 3717), ('contempl', 3718), ('downhil', 3719), ('da', 3720), ('bleed', 3721), ('chess', 3722), ('slug', 3723), ('35', 3724), ('orson', 3725), ('roth', 3726), ('mistress', 3727), ('olli', 3728), ('radic', 3729), ('carradin', 3730), ('stilt', 3731), ('banal', 3732), ('shelley', 3733), ('pervert', 3734), ('dazzl', 3735), ('belt', 3736), ('pursuit', 3737), ('unpredict', 3738), ('programm', 3739), ('champion', 3740), ('attorney', 3741), ('tackl', 3742), ('mislead', 3743), ('arc', 3744), ('heal', 3745), ('paltrow', 3746), ('pervers', 3747), ('tooth', 3748), ('preach', 3749), ('slash', 3750), ('edgar', 3751), ('taught', 3752), ('1983', 3753), ('arguabl', 3754), ('melodi', 3755), ('graham', 3756), ('marti', 3757), ('vengeanc', 3758), ('raymond', 3759), ('conneri', 3760), ('mesmer', 3761), ('passeng', 3762), ('chicken', 3763), ('duval', 3764), ('closest', 3765), ('plight', 3766), ('gambl', 3767), ('vocal', 3768), ('maid', 3769), ('employe', 3770), ('rubi', 3771), ('cleverli', 3772), ('orang', 3773), ('virginia', 3774), ('dixon', 3775), ('tiresom', 3776), ('sensat', 3777), ('bela', 3778), ('franki', 3779), ('poem', 3780), ('uplift', 3781), ('outing', 3782), ('habit', 3783), ('extens', 3784), ('tube', 3785), ('inject', 3786), ('monologu', 3787), ('mute', 3788), ('secretli', 3789), ('climact', 3790), ('calm', 3791), ('gerard', 3792), ('quarter', 3793), ('bay', 3794), ('yawn', 3795), ('swallow', 3796), ('clone', 3797), ('numb', 3798), ('lundgren', 3799), ('whine', 3800), ('convincingli', 3801), ('amitabh', 3802), ('scottish', 3803), ('abraham', 3804), ('1968', 3805), ('crystal', 3806), ('paranoia', 3807), ('giggl', 3808), ('sirk', 3809), ('engross', 3810), ('profan', 3811), ('volum', 3812), ('suffic', 3813), ('pokemon', 3814), ('iran', 3815), ('linger', 3816), ('grotesqu', 3817), ('junior', 3818), ('im', 3819), ('meander', 3820), ('fed', 3821), ('abort', 3822), ('taxi', 3823), ('bend', 3824), ('profess', 3825), ('earl', 3826), ('ethan', 3827), ('backward', 3828), ('dispos', 3829), ('austen', 3830), ('frankenstein', 3831), ('plod', 3832), ('chicago', 3833), ('septemb', 3834), ('lowest', 3835), ('spock', 3836), ('poetri', 3837), ('underst', 3838), ('expand', 3839), ('surpass', 3840), ('nichola', 3841), ('trend', 3842), ('franci', 3843), ('richardson', 3844), ('compliment', 3845), ('tourist', 3846), ('instrument', 3847), ('household', 3848), ('der', 3849), ('stallon', 3850), ('mundan', 3851), ('spoke', 3852), ('rubber', 3853), ('literatur', 3854), ('descent', 3855), ('dysfunct', 3856), ('sue', 3857), ('rant', 3858), ('simplic', 3859), ('eugen', 3860), ('hum', 3861), ('catchi', 3862), ('waitress', 3863), ('econom', 3864), ('myth', 3865), ('lure', 3866), ('muddl', 3867), ('nostalgia', 3868), ('greedi', 3869), ('cannon', 3870), ('recognis', 3871), ('eaten', 3872), ('dictat', 3873), ('mortal', 3874), ('crucial', 3875), ('phantom', 3876), ('cent', 3877), ('hello', 3878), ('june', 3879), ('mankind', 3880), ('dement', 3881), ('molli', 3882), ('irrelev', 3883), ('deaf', 3884), ('furi', 3885), ('damon', 3886), ('randi', 3887), ('insur', 3888), ('recognit', 3889), ('firstli', 3890), ('stale', 3891), ('occupi', 3892), ('sissi', 3893), ('carel', 3894), ('alongsid', 3895), ('duck', 3896), ('phoni', 3897), ('flee', 3898), ('lang', 3899), ('bacal', 3900), ('equival', 3901), ('map', 3902), ('louis', 3903), ('omen', 3904), ('coast', 3905), ('onlin', 3906), ('1973', 3907), ('daisi', 3908), ('cyborg', 3909), ('damm', 3910), ('blackmail', 3911), ('freez', 3912), ('rude', 3913), ('buffalo', 3914), ('likewis', 3915), ('loyalti', 3916), ('distinguish', 3917), ('bike', 3918), ('reign', 3919), ('twilight', 3920), ('wisdom', 3921), ('bump', 3922), ('labor', 3923), ('lengthi', 3924), ('dreari', 3925), ('ashley', 3926), ('heel', 3927), ('grayson', 3928), ('antwon', 3929), ('newli', 3930), ('rooney', 3931), ('drake', 3932), ('biko', 3933), ('pink', 3934), ('emphas', 3935), ('baddi', 3936), ('nineti', 3937), ('exposur', 3938), ('prey', 3939), ('approv', 3940), ('barrymor', 3941), ('basketbal', 3942), ('ridden', 3943), ('boxer', 3944), ('startl', 3945), ('incorpor', 3946), ('analysi', 3947), ('worn', 3948), ('keith', 3949), ('butler', 3950), ('chronicl', 3951), ('tunnel', 3952), ('inher', 3953), ('interior', 3954), ('proce', 3955), ('vein', 3956), ('provoc', 3957), ('sailor', 3958), ('attribut', 3959), ('unorigin', 3960), ('stalker', 3961), ('fleet', 3962), ('substitut', 3963), ('millionair', 3964), ('predat', 3965), ('condemn', 3966), ('undeni', 3967), ('degrad', 3968), ('simmon', 3969), ('er', 3970), ('meg', 3971), ('robbin', 3972), ('hypnot', 3973), ('meyer', 3974), ('elm', 3975), ('bunni', 3976), ('indiffer', 3977), ('unrel', 3978), ('improvis', 3979), ('nicol', 3980), ('walsh', 3981), ('drift', 3982), ('belushi', 3983), ('mighti', 3984), ('carla', 3985), ('julian', 3986), ('underli', 3987), ('barrel', 3988), ('othello', 3989), ('mormon', 3990), ('lampoon', 3991), ('alarm', 3992), ('palac', 3993), ('marion', 3994), ('hay', 3995), ('edgi', 3996), ('shove', 3997), ('warmth', 3998), ('watson', 3999), ('errol', 4000), ('agenda', 4001), ('3d', 4002), ('nyc', 4003), ('dolph', 4004), ('firm', 4005), ('roof', 4006), ('reid', 4007), ('disord', 4008), ('vital', 4009), ('mtv', 4010), ('priceless', 4011), ('enthusiasm', 4012), ('novak', 4013), ('unawar', 4014), ('rukh', 4015), ('exquisit', 4016), ('greed', 4017), ('alison', 4018), ('ponder', 4019), ('1933', 4020), ('thompson', 4021), ('session', 4022), ('petti', 4023), ('glanc', 4024), ('eastern', 4025), ('championship', 4026), ('what', 4027), ('testament', 4028), ('showdown', 4029), ('nun', 4030), ('randomli', 4031), ('distort', 4032), ('iraq', 4033), ('crown', 4034), ('drip', 4035), ('coup', 4036), ('gestur', 4037), ('spain', 4038), ('angela', 4039), ('minimum', 4040), ('13th', 4041), ('simultan', 4042), ('unleash', 4043), ('pamela', 4044), ('beatl', 4045), ('sergeant', 4046), ('cassidi', 4047), ('profit', 4048), ('campaign', 4049), ('peck', 4050), ('orlean', 4051), ('zizek', 4052), ('preserv', 4053), ('peril', 4054), ('israel', 4055), ('valentin', 4056), ('climat', 4057), ('represent', 4058), ('rout', 4059), ('calib', 4060), ('miyazaki', 4061), ('regist', 4062), ('scotland', 4063), ('han', 4064), ('jan', 4065), ('stroke', 4066), ('bro', 4067), ('buster', 4068), ('reson', 4069), ('gentleman', 4070), ('1984', 4071), ('cream', 4072), ('cooki', 4073), ('valley', 4074), ('unimagin', 4075), ('exposit', 4076), ('quinn', 4077), ('realm', 4078), ('wig', 4079), ('shootout', 4080), ('crawl', 4081), ('travesti', 4082), ('mon', 4083), ('contradict', 4084), ('sabrina', 4085), ('kurosawa', 4086), ('brenda', 4087), ('perpetu', 4088), ('restrain', 4089), ('din', 4090), ('empathi', 4091), ('crow', 4092), ('stake', 4093), ('fido', 4094), ('sucker', 4095), ('sammi', 4096), ('distress', 4097), ('greg', 4098), ('pretens', 4099), ('fuller', 4100), ('demis', 4101), ('absent', 4102), ('censor', 4103), ('abomin', 4104), ('tacki', 4105), ('painter', 4106), ('darren', 4107), ('josh', 4108), ('monoton', 4109), ('femm', 4110), ('shaki', 4111), ('stargat', 4112), ('passabl', 4113), ('ross', 4114), ('unsatisfi', 4115), ('1997', 4116), ('1987', 4117), ('delic', 4118), ('derang', 4119), ('cloud', 4120), ('compromis', 4121), ('pole', 4122), ('wax', 4123), ('businessman', 4124), ('baldwin', 4125), ('shoddi', 4126), ('dana', 4127), ('spacey', 4128), ('perceiv', 4129), ('crawford', 4130), ('traumat', 4131), ('mclaglen', 4132), ('warrant', 4133), ('meryl', 4134), ('soderbergh', 4135), ('geek', 4136), ('unseen', 4137), ('ustinov', 4138), ('uncov', 4139), ('clash', 4140), ('accuraci', 4141), ('wholli', 4142), ('polici', 4143), ('unravel', 4144), ('reluct', 4145), ('kumar', 4146), ('correctli', 4147), ('nathan', 4148), ('expedit', 4149), ('valid', 4150), ('jewel', 4151), ('furiou', 4152), ('click', 4153), ('judgment', 4154), ('tarantino', 4155), ('norm', 4156), ('tech', 4157), ('fog', 4158), ('primit', 4159), ('seal', 4160), ('antonioni', 4161), ('sid', 4162), ('austin', 4163), ('verbal', 4164), ('deniro', 4165), ('anchor', 4166), ('exclus', 4167), ('deceas', 4168), ('1993', 4169), ('fenc', 4170), ('dee', 4171), ('darn', 4172), ('fought', 4173), ('fabric', 4174), ('nicola', 4175), ('ritual', 4176), ('hallucin', 4177), ('slam', 4178), ('1995', 4179), ('enforc', 4180), ('roller', 4181), ('conduct', 4182), ('debt', 4183), ('clerk', 4184), ('mode', 4185), ('tax', 4186), ('bake', 4187), ('temper', 4188), ('murray', 4189), ('unfair', 4190), ('wretch', 4191), ('fart', 4192), ('1971', 4193), ('trait', 4194), ('sand', 4195), ('patienc', 4196), ('alec', 4197), ('dreck', 4198), ('malon', 4199), ('2008', 4200), ('3000', 4201), ('sustain', 4202), ('sunni', 4203), ('sheet', 4204), ('joel', 4205), ('crippl', 4206), ('seldom', 4207), ('wang', 4208), ('shanghai', 4209), ('logan', 4210), ('vanc', 4211), ('behold', 4212), ('pocket', 4213), ('despis', 4214), ('helpless', 4215), ('bridget', 4216), ('isabel', 4217), ('exhaust', 4218), ('runner', 4219), ('bias', 4220), ('divid', 4221), ('guitar', 4222), ('clau', 4223), ('penni', 4224), ('phil', 4225), ('outlin', 4226), ('preposter', 4227), ('fundament', 4228), ('shell', 4229), ('legaci', 4230), ('soup', 4231), ('critiqu', 4232), ('conscious', 4233), ('squad', 4234), ('sweep', 4235), ('canyon', 4236), ('stuart', 4237), ('rita', 4238), ('preston', 4239), ('robber', 4240), ('technicolor', 4241), ('scriptwrit', 4242), ('stark', 4243), ('grief', 4244), ('tactic', 4245), ('pete', 4246), ('schedul', 4247), ('sugar', 4248), ('restrict', 4249), ('unexpectedli', 4250), ('bloom', 4251), ('flair', 4252), ('rear', 4253), ('culmin', 4254), ('alley', 4255), ('consciou', 4256), ('jodi', 4257), ('russia', 4258), ('sniper', 4259), ('delv', 4260), ('agenc', 4261), ('kansa', 4262), ('inabl', 4263), ('marc', 4264), ('connor', 4265), ('vomit', 4266), ('rehash', 4267), ('jacket', 4268), ('invad', 4269), ('drove', 4270), ('sentinel', 4271), ('propos', 4272), ('alicia', 4273), ('passag', 4274), ('downey', 4275), ('cigarett', 4276), ('implic', 4277), ('lacklust', 4278), ('gregori', 4279), ('newman', 4280), ('boyl', 4281), ('palanc', 4282), ('liberti', 4283), ('tripe', 4284), ('wrench', 4285), ('22', 4286), ('arrow', 4287), ('sharon', 4288), ('lush', 4289), ('1936', 4290), ('improb', 4291), ('pale', 4292), ('ladder', 4293), ('kolchak', 4294), ('bacon', 4295), ('rehears', 4296), ('horn', 4297), ('feat', 4298), ('rampag', 4299), ('asylum', 4300), ('chainsaw', 4301), ('aesthet', 4302), ('delet', 4303), ('tendenc', 4304), ('cap', 4305), ('awhil', 4306), ('rod', 4307), ('karl', 4308), ('behaviour', 4309), ('mccoy', 4310), ('vet', 4311), ('yeti', 4312), ('foxx', 4313), ('sung', 4314), ('fright', 4315), ('filler', 4316), ('wildli', 4317), ('lurk', 4318), ('newcom', 4319), ('weav', 4320), ('prank', 4321), ('minu', 4322), ('wagner', 4323), ('elit', 4324), ('coaster', 4325), ('aristocrat', 4326), ('thunderbird', 4327), ('basing', 4328), ('conscienc', 4329), ('visitor', 4330), ('el', 4331), ('rhythm', 4332), ('globe', 4333), ('loneli', 4334), ('amazon', 4335), ('tasteless', 4336), ('spice', 4337), ('1978', 4338), ('shortcom', 4339), ('hungri', 4340), ('paradis', 4341), ('hackney', 4342), ('1988', 4343), ('suspicion', 4344), ('tomorrow', 4345), ('hulk', 4346), ('suffici', 4347), ('financ', 4348), ('paramount', 4349), ('scoop', 4350), ('19th', 4351), ('underneath', 4352), ('rumor', 4353), ('1920', 4354), ('stream', 4355), ('teas', 4356), ('leigh', 4357), ('1939', 4358), ('penn', 4359), ('ingeni', 4360), ('recogniz', 4361), ('secondari', 4362), ('smell', 4363), ('dirt', 4364), ('impos', 4365), ('paxton', 4366), ('rub', 4367), ('choppi', 4368), ('worship', 4369), ('en', 4370), ('lectur', 4371), ('counterpart', 4372), ('iv', 4373), ('quietli', 4374), ('straightforward', 4375), ('brit', 4376), ('heist', 4377), ('hopkin', 4378), ('atroc', 4379), ('beverli', 4380), ('naughti', 4381), ('75', 4382), ('couch', 4383), ('1989', 4384), ('posey', 4385), ('curli', 4386), ('entranc', 4387), ('abrupt', 4388), ('minist', 4389), ('ram', 4390), ('standout', 4391), ('wwe', 4392), ('tierney', 4393), ('immers', 4394), ('grudg', 4395), ('literari', 4396), ('chamberlain', 4397), ('springer', 4398), ('bread', 4399), ('cancer', 4400), ('inmat', 4401), ('chavez', 4402), ('injuri', 4403), ('sublim', 4404), ('watcher', 4405), ('morbid', 4406), ('policeman', 4407), ('skeptic', 4408), ('lindsay', 4409), ('nemesi', 4410), ('nolan', 4411), ('bernard', 4412), ('cattl', 4413), ('variat', 4414), ('convert', 4415), ('enthral', 4416), ('esther', 4417), ('quaid', 4418), ('transcend', 4419), ('moreov', 4420), ('net', 4421), ('yearn', 4422), ('1986', 4423), ('duel', 4424), ('clan', 4425), ('ratso', 4426), ('sassi', 4427), ('ace', 4428), ('geni', 4429), ('laurenc', 4430), ('attenborough', 4431), ('misguid', 4432), ('entitl', 4433), ('heartfelt', 4434), ('missil', 4435), ('grin', 4436), ('1979', 4437), ('unexplain', 4438), ('spiral', 4439), ('reliabl', 4440), ('out', 4441), ('steadi', 4442), ('cruelti', 4443), ('characteris', 4444), ('mytholog', 4445), ('puppi', 4446), ('tyler', 4447), ('buzz', 4448), ('enabl', 4449), ('youngest', 4450), ('hk', 4451), ('setup', 4452), ('bye', 4453), ('carlito', 4454), ('facil', 4455), ('graini', 4456), ('obstacl', 4457), ('diari', 4458), ('kidman', 4459), ('artsi', 4460), ('egg', 4461), ('moder', 4462), ('rosemari', 4463), ('dont', 4464), ('brood', 4465), ('hopelessli', 4466), ('bean', 4467), ('uncut', 4468), ('poe', 4469), ('kitti', 4470), ('vader', 4471), ('despic', 4472), ('sweat', 4473), ('hain', 4474), ('patricia', 4475), ('bronson', 4476), ('decept', 4477), ('bounc', 4478), ('acquaint', 4479), ('1969', 4480), ('spontan', 4481), ('niec', 4482), ('narrow', 4483), ('kline', 4484), ('christin', 4485), ('disastr', 4486), ('hammi', 4487), ('clueless', 4488), ('brendan', 4489), ('fuel', 4490), ('bewar', 4491), ('athlet', 4492), ('oblig', 4493), ('underworld', 4494), ('baffl', 4495), ('preming', 4496), ('martha', 4497), ('effici', 4498), ('exterior', 4499), ('gina', 4500), ('gillian', 4501), ('heap', 4502), ('weather', 4503), ('sleepwalk', 4504), ('mayhem', 4505), ('19', 4506), ('injur', 4507), ('headach', 4508), ('suprem', 4509), ('outlaw', 4510), ('goof', 4511), ('taboo', 4512), ('insipid', 4513), ('mermaid', 4514), ('tick', 4515), ('scar', 4516), ('dilemma', 4517), ('biker', 4518), ('harmless', 4519), ('renaiss', 4520), ('sooner', 4521), ('shatter', 4522), ('73', 4523), ('loath', 4524), ('angst', 4525), ('fontain', 4526), ('loi', 4527), ('dandi', 4528), ('preachi', 4529), ('viewpoint', 4530), ('analyz', 4531), ('housewif', 4532), ('rome', 4533), ('circu', 4534), ('virtu', 4535), ('enlist', 4536), ('astound', 4537), ('trigger', 4538), ('lester', 4539), ('candl', 4540), ('uh', 4541), ('hepburn', 4542), ('salt', 4543), ('stimul', 4544), ('bent', 4545), ('filth', 4546), ('zoom', 4547), ('hooker', 4548), ('immatur', 4549), ('scorses', 4550), ('overlong', 4551), ('boston', 4552), ('sox', 4553), ('hokey', 4554), ('corbett', 4555), ('slimi', 4556), ('glorifi', 4557), ('idol', 4558), ('phenomenon', 4559), ('claustrophob', 4560), ('oldest', 4561), ('dish', 4562), ('ebert', 4563), ('hostag', 4564), ('surgeri', 4565), ('stair', 4566), ('amor', 4567), ('macho', 4568), ('spade', 4569), ('foolish', 4570), ('redund', 4571), ('contempt', 4572), ('dismal', 4573), ('gere', 4574), ('whore', 4575), ('tripl', 4576), ('fluff', 4577), ('steer', 4578), ('intric', 4579), ('guin', 4580), ('cassavet', 4581), ('camcord', 4582), ('ariel', 4583), ('down', 4584), ('remad', 4585), ('keen', 4586), ('spree', 4587), ('flashi', 4588), ('faint', 4589), ('antagonist', 4590), ('conquer', 4591), ('transplant', 4592), ('shred', 4593), ('spinal', 4594), ('flirt', 4595), ('strongest', 4596), ('radiat', 4597), ('1981', 4598), ('cohen', 4599), ('1976', 4600), ('dwarf', 4601), ('shield', 4602), ('widescreen', 4603), ('gasp', 4604), ('fascist', 4605), ('cow', 4606), ('joker', 4607), ('zane', 4608), ('harold', 4609), ('flag', 4610), ('rhyme', 4611), ('corman', 4612), ('mount', 4613), ('alvin', 4614), ('cush', 4615), ('assert', 4616), ('obligatori', 4617), ('margin', 4618), ('perman', 4619), ('naschi', 4620), ('schlock', 4621), ('frantic', 4622), ('proport', 4623), ('trivia', 4624), ('astronaut', 4625), ('messi', 4626), ('muscl', 4627), ('preced', 4628), ('mutual', 4629), ('gabl', 4630), ('beard', 4631), ('nolt', 4632), ('www', 4633), ('someday', 4634), ('carey', 4635), ('sensual', 4636), ('scandal', 4637), ('departur', 4638), ('info', 4639), ('flock', 4640), ('claud', 4641), ('boob', 4642), ('ritchi', 4643), ('repris', 4644), ('bitten', 4645), ('wield', 4646), ('1945', 4647), ('barn', 4648), ('discern', 4649), ('inflict', 4650), ('bachelor', 4651), ('28', 4652), ('hara', 4653), ('brush', 4654), ('danish', 4655), ('instruct', 4656), ('triangl', 4657), ('resum', 4658), ('interestingli', 4659), ('strive', 4660), ('fishburn', 4661), ('95', 4662), ('raj', 4663), ('neurot', 4664), ('divin', 4665), ('archiv', 4666), ('mobil', 4667), ('persuad', 4668), ('off', 4669), ('vaniti', 4670), ('mol', 4671), ('deer', 4672), ('aborigin', 4673), ('artwork', 4674), ('miracul', 4675), ('undermin', 4676), ('earnest', 4677), ('axe', 4678), ('cycl', 4679), ('harrison', 4680), ('wendigo', 4681), ('luka', 4682), ('heartwarm', 4683), ('pacif', 4684), ('dim', 4685), ('colin', 4686), ('cb', 4687), ('fragil', 4688), ('neill', 4689), ('traffic', 4690), ('clad', 4691), ('pixar', 4692), ('cliffhang', 4693), ('recit', 4694), ('jade', 4695), ('melissa', 4696), ('kathryn', 4697), ('mobster', 4698), ('bate', 4699), ('vibrant', 4700), ('dame', 4701), ('loretta', 4702), ('senior', 4703), ('proclaim', 4704), ('frontier', 4705), ('carlo', 4706), ('parson', 4707), ('casino', 4708), ('hapless', 4709), ('dylan', 4710), ('anton', 4711), ('banter', 4712), ('ish', 4713), ('hug', 4714), ('rot', 4715), ('europa', 4716), ('pickford', 4717), ('hilar', 4718), ('submit', 4719), ('biblic', 4720), ('helm', 4721), ('prophet', 4722), ('timberlak', 4723), ('cher', 4724), ('northern', 4725), ('rooki', 4726), ('wardrob', 4727), ('akin', 4728), ('static', 4729), ('lui', 4730), ('legitim', 4731), ('toronto', 4732), ('razor', 4733), ('sicken', 4734), ('uma', 4735), ('illus', 4736), ('pc', 4737), ('articl', 4738), ('marlon', 4739), ('vanessa', 4740), ('breakfast', 4741), ('feast', 4742), ('alexandr', 4743), ('estrang', 4744), ('shepherd', 4745), ('cerebr', 4746), ('misfortun', 4747), ('orphan', 4748), ('eli', 4749), ('http', 4750), ('foil', 4751), ('electron', 4752), ('mason', 4753), ('milo', 4754), ('jo', 4755), ('token', 4756), ('bondag', 4757), ('antholog', 4758), ('blatantli', 4759), ('trier', 4760), ('flavor', 4761), ('vile', 4762), ('mathieu', 4763), ('bikini', 4764), ('choke', 4765), ('aris', 4766), ('venom', 4767), ('isra', 4768), ('lucil', 4769), ('winchest', 4770), ('redneck', 4771), ('holocaust', 4772), ('seedi', 4773), ('jordan', 4774), ('nope', 4775), ('charlton', 4776), ('peer', 4777), ('retriev', 4778), ('abund', 4779), ('highway', 4780), ('outdat', 4781), ('deem', 4782), ('gilbert', 4783), ('dudley', 4784), ('styliz', 4785), ('oppon', 4786), ('cartoonish', 4787), ('psych', 4788), ('feminin', 4789), ('nightclub', 4790), ('wrestler', 4791), ('ideolog', 4792), ('huston', 4793), ('turd', 4794), ('tack', 4795), ('howl', 4796), ('smack', 4797), ('swept', 4798), ('affleck', 4799), ('comprehend', 4800), ('leather', 4801), ('shorter', 4802), ('magician', 4803), ('boyer', 4804), ('ceremoni', 4805), ('frog', 4806), ('audrey', 4807), ('knightley', 4808), ('linear', 4809), ('gunga', 4810), ('disregard', 4811), ('fifth', 4812), ('glare', 4813), ('clinic', 4814), ('energet', 4815), ('collector', 4816), ('phenomen', 4817), ('spawn', 4818), ('corn', 4819), ('bastard', 4820), ('potter', 4821), ('durat', 4822), ('client', 4823), ('evolut', 4824), ('breakdown', 4825), ('snatch', 4826), ('conrad', 4827), ('4th', 4828), ('cemeteri', 4829), ('spine', 4830), ('1994', 4831), ('compris', 4832), ('lighter', 4833), ('lavish', 4834), ('boo', 4835), ('tara', 4836), ('chip', 4837), ('sleaz', 4838), ('moe', 4839), ('lifeless', 4840), ('greet', 4841), ('btw', 4842), ('plate', 4843), ('bogu', 4844), ('summar', 4845), ('mitch', 4846), ('newer', 4847), ('whack', 4848), ('braveheart', 4849), ('uniformli', 4850), ('toe', 4851), ('1991', 4852), ('monument', 4853), ('einstein', 4854), ('cuban', 4855), ('goldsworthi', 4856), ('salman', 4857), ('senat', 4858), ('deliver', 4859), ('1977', 4860), ('inaccuraci', 4861), ('belli', 4862), ('healthi', 4863), ('signal', 4864), ('1974', 4865), ('spectacl', 4866), ('embark', 4867), ('pronounc', 4868), ('fluid', 4869), ('historian', 4870), ('constitut', 4871), ('jule', 4872), ('occup', 4873), ('liu', 4874), ('firmli', 4875), ('judd', 4876), ('kent', 4877), ('replay', 4878), ('bulk', 4879), ('kazan', 4880), ('gilliam', 4881), ('sorrow', 4882), ('ol', 4883), ('appl', 4884), ('nina', 4885), ('jare', 4886), ('ie', 4887), ('neatli', 4888), ('undertak', 4889), ('jam', 4890), ('clara', 4891), ('outright', 4892), ('mcqueen', 4893), ('alleg', 4894), ('wtf', 4895), ('bori', 4896), ('undead', 4897), ('luxuri', 4898), ('randolph', 4899), ('jedi', 4900), ('creek', 4901), ('eleven', 4902), ('capot', 4903), ('cecil', 4904), ('lex', 4905), ('evelyn', 4906), ('armstrong', 4907), ('trauma', 4908), ('miniseri', 4909), ('inaccur', 4910), ('pioneer', 4911), ('knee', 4912), ('mum', 4913), ('bait', 4914), ('carmen', 4915), ('miami', 4916), ('forgiven', 4917), ('vain', 4918), ('pepper', 4919), ('spray', 4920), ('paula', 4921), ('meal', 4922), ('unattract', 4923), ('sidewalk', 4924), ('sacrif', 4925), ('subtli', 4926), ('comprehens', 4927), ('curtain', 4928), ('galaxi', 4929), ('congratul', 4930), ('truman', 4931), ('kiddi', 4932), ('genet', 4933), ('poker', 4934), ('unsuspect', 4935), ('goldblum', 4936), ('blur', 4937), ('walt', 4938), ('relentless', 4939), ('rosario', 4940), ('inclus', 4941), ('roar', 4942), ('porter', 4943), ('palm', 4944), ('lauren', 4945), ('decapit', 4946), ('conan', 4947), ('propheci', 4948), ('tokyo', 4949), ('ash', 4950), ('abound', 4951), ('vignett', 4952), ('cape', 4953), ('comb', 4954), ('antonio', 4955), ('aussi', 4956), ('lanc', 4957), ('1985', 4958), ('fruit', 4959), ('basket', 4960), ('bsg', 4961), ('groan', 4962), ('id', 4963), ('scariest', 4964), ('victorian', 4965), ('optimist', 4966), ('sparkl', 4967), ('drone', 4968), ('verg', 4969), ('substanti', 4970), ('omin', 4971), ('bravo', 4972), ('epitom', 4973), ('growth', 4974), ('profil', 4975), ('masterson', 4976), ('asset', 4977), ('macabr', 4978), ('evan', 4979), ('orchestr', 4980), ('ghetto', 4981), ('vastli', 4982), ('spill', 4983), ('motorcycl', 4984), ('handicap', 4985), ('cypher', 4986), ('mice', 4987), ('monti', 4988), ('casper', 4989), ('ingrid', 4990), ('21st', 4991), ('rapidli', 4992), ('frontal', 4993), ('incorrect', 4994), ('jill', 4995), ('weaker', 4996), ('weari', 4997), ('assort', 4998), ('reincarn', 4999)])"
      ]
     },
     "execution_count": 13,
     "metadata": {},
     "output_type": "execute_result"
    }
   ],
   "source": [
    "word_dict.items()"
   ]
  },
  {
   "cell_type": "markdown",
   "metadata": {},
   "source": [
    "**Question:** What are the five most frequently appearing (tokenized) words in the training set? Does it makes sense that these words appear frequently in the training set?"
   ]
  },
  {
   "cell_type": "markdown",
   "metadata": {},
   "source": [
    "**Answer:**\n",
    "Since the text corresponds to movie reviews, it does make sense to see frequently appears words such as movi, film, like etc."
   ]
  },
  {
   "cell_type": "code",
   "execution_count": 14,
   "metadata": {},
   "outputs": [
    {
     "data": {
      "text/plain": [
       "['movi', 'film', 'one', 'like', 'time']"
      ]
     },
     "execution_count": 14,
     "metadata": {},
     "output_type": "execute_result"
    }
   ],
   "source": [
    "# TODO: Use this space to determine the five most frequently appearing words in the training set.\n",
    "sorted(word_dict, key = word_dict.get)[:5]"
   ]
  },
  {
   "cell_type": "markdown",
   "metadata": {},
   "source": [
    "### Save `word_dict`\n",
    "\n",
    "Later on when we construct an endpoint which processes a submitted review we will need to make use of the `word_dict` which we have created. As such, we will save it to a file now for future use."
   ]
  },
  {
   "cell_type": "code",
   "execution_count": 15,
   "metadata": {},
   "outputs": [],
   "source": [
    "data_dir = '../data/pytorch' # The folder we will use for storing data\n",
    "if not os.path.exists(data_dir): # Make sure that the folder exists\n",
    "    os.makedirs(data_dir)"
   ]
  },
  {
   "cell_type": "code",
   "execution_count": 16,
   "metadata": {},
   "outputs": [],
   "source": [
    "with open(os.path.join(data_dir, 'word_dict.pkl'), \"wb\") as f:\n",
    "    pickle.dump(word_dict, f)"
   ]
  },
  {
   "cell_type": "markdown",
   "metadata": {},
   "source": [
    "### Transform the reviews\n",
    "\n",
    "Now that we have our word dictionary which allows us to transform the words appearing in the reviews into integers, it is time to make use of it and convert our reviews to their integer sequence representation, making sure to pad or truncate to a fixed length, which in our case is `500`."
   ]
  },
  {
   "cell_type": "code",
   "execution_count": 17,
   "metadata": {},
   "outputs": [],
   "source": [
    "def convert_and_pad(word_dict, sentence, pad=500):\n",
    "    NOWORD = 0 # We will use 0 to represent the 'no word' category\n",
    "    INFREQ = 1 # and we use 1 to represent the infrequent words, i.e., words not appearing in word_dict\n",
    "    \n",
    "    working_sentence = [NOWORD] * pad\n",
    "    \n",
    "    for word_index, word in enumerate(sentence[:pad]):\n",
    "        if word in word_dict:\n",
    "            working_sentence[word_index] = word_dict[word]\n",
    "        else:\n",
    "            working_sentence[word_index] = INFREQ\n",
    "            \n",
    "    return working_sentence, min(len(sentence), pad)\n",
    "\n",
    "def convert_and_pad_data(word_dict, data, pad=500):\n",
    "    result = []\n",
    "    lengths = []\n",
    "    \n",
    "    for sentence in data:\n",
    "        converted, leng = convert_and_pad(word_dict, sentence, pad)\n",
    "        result.append(converted)\n",
    "        lengths.append(leng)\n",
    "        \n",
    "    return np.array(result), np.array(lengths)"
   ]
  },
  {
   "cell_type": "code",
   "execution_count": 18,
   "metadata": {},
   "outputs": [],
   "source": [
    "train_X, train_X_len = convert_and_pad_data(word_dict, train_X)\n",
    "test_X, test_X_len = convert_and_pad_data(word_dict, test_X)"
   ]
  },
  {
   "cell_type": "markdown",
   "metadata": {},
   "source": [
    "As a quick check to make sure that things are working as intended, check to see what one of the reviews in the training set looks like after having been processeed. Does this look reasonable? What is the length of a review in the training set?"
   ]
  },
  {
   "cell_type": "markdown",
   "metadata": {},
   "source": [
    "**Answer:**\n",
    "It does look reasonable. The values inside the array range from 0-4999 as 5000 is the vocabulary size. Also, the length of a review is 500 after being appropriately padded with zeros"
   ]
  },
  {
   "cell_type": "code",
   "execution_count": 19,
   "metadata": {},
   "outputs": [
    {
     "name": "stdout",
     "output_type": "stream",
     "text": [
      "[  50    1  167 2581  119  119  111    1    1  159  262  444 2000 1919\n",
      " 1736  253   31  426  254  108  351  347 1531    1  581  347 1531    3\n",
      " 4784 1911  581 2685  881 2329  227    1 4326  581   29  288   42  631\n",
      "  230  230  377  420 1903   55 1361  128  214  328  969 3380 1503  595\n",
      "   44  468    2    1  790 1488    2  468    6    6  254  491   49  260\n",
      " 1113 2482    0    0    0    0    0    0    0    0    0    0    0    0\n",
      "    0    0    0    0    0    0    0    0    0    0    0    0    0    0\n",
      "    0    0    0    0    0    0    0    0    0    0    0    0    0    0\n",
      "    0    0    0    0    0    0    0    0    0    0    0    0    0    0\n",
      "    0    0    0    0    0    0    0    0    0    0    0    0    0    0\n",
      "    0    0    0    0    0    0    0    0    0    0    0    0    0    0\n",
      "    0    0    0    0    0    0    0    0    0    0    0    0    0    0\n",
      "    0    0    0    0    0    0    0    0    0    0    0    0    0    0\n",
      "    0    0    0    0    0    0    0    0    0    0    0    0    0    0\n",
      "    0    0    0    0    0    0    0    0    0    0    0    0    0    0\n",
      "    0    0    0    0    0    0    0    0    0    0    0    0    0    0\n",
      "    0    0    0    0    0    0    0    0    0    0    0    0    0    0\n",
      "    0    0    0    0    0    0    0    0    0    0    0    0    0    0\n",
      "    0    0    0    0    0    0    0    0    0    0    0    0    0    0\n",
      "    0    0    0    0    0    0    0    0    0    0    0    0    0    0\n",
      "    0    0    0    0    0    0    0    0    0    0    0    0    0    0\n",
      "    0    0    0    0    0    0    0    0    0    0    0    0    0    0\n",
      "    0    0    0    0    0    0    0    0    0    0    0    0    0    0\n",
      "    0    0    0    0    0    0    0    0    0    0    0    0    0    0\n",
      "    0    0    0    0    0    0    0    0    0    0    0    0    0    0\n",
      "    0    0    0    0    0    0    0    0    0    0    0    0    0    0\n",
      "    0    0    0    0    0    0    0    0    0    0    0    0    0    0\n",
      "    0    0    0    0    0    0    0    0    0    0    0    0    0    0\n",
      "    0    0    0    0    0    0    0    0    0    0    0    0    0    0\n",
      "    0    0    0    0    0    0    0    0    0    0    0    0    0    0\n",
      "    0    0    0    0    0    0    0    0    0    0    0    0    0    0\n",
      "    0    0    0    0    0    0    0    0    0    0    0    0    0    0\n",
      "    0    0    0    0    0    0    0    0    0    0    0    0    0    0\n",
      "    0    0    0    0    0    0    0    0    0    0    0    0    0    0\n",
      "    0    0    0    0    0    0    0    0    0    0    0    0    0    0\n",
      "    0    0    0    0    0    0    0    0    0    0]\n",
      "500\n",
      "72\n"
     ]
    }
   ],
   "source": [
    "# Use this cell to examine one of the processed reviews to make sure everything is working as intended.\n",
    "print(train_X[100])\n",
    "print(len(train_X[100]))\n",
    "print(train_X_len[100])"
   ]
  },
  {
   "cell_type": "markdown",
   "metadata": {},
   "source": [
    "**Question:** In the cells above we use the `preprocess_data` and `convert_and_pad_data` methods to process both the training and testing set. Why or why not might this be a problem?"
   ]
  },
  {
   "cell_type": "markdown",
   "metadata": {},
   "source": [
    "**Answer:**\n",
    "word_dict / vocabulary, which is used for tokenization of both training as well as test data, is prepared using the only training data. If the vocabulary of test data is drastically different from that of training data, then the test reviews will end up with lots of 1 valued tokens (INFREQ). This will impair the ability of the model to correctly predict the sentiment of the test data."
   ]
  },
  {
   "cell_type": "markdown",
   "metadata": {},
   "source": [
    "## Step 3: Upload the data to S3\n",
    "\n",
    "As in the XGBoost notebook, we will need to upload the training dataset to S3 in order for our training code to access it. For now we will save it locally and we will upload to S3 later on.\n",
    "\n",
    "### Save the processed training dataset locally\n",
    "\n",
    "It is important to note the format of the data that we are saving as we will need to know it when we write the training code. In our case, each row of the dataset has the form `label`, `length`, `review[500]` where `review[500]` is a sequence of `500` integers representing the words in the review."
   ]
  },
  {
   "cell_type": "code",
   "execution_count": 20,
   "metadata": {},
   "outputs": [],
   "source": [
    "import pandas as pd\n",
    "    \n",
    "pd.concat([pd.DataFrame(train_y), pd.DataFrame(train_X_len), pd.DataFrame(train_X)], axis=1) \\\n",
    "        .to_csv(os.path.join(data_dir, 'train.csv'), header=False, index=False)"
   ]
  },
  {
   "cell_type": "markdown",
   "metadata": {},
   "source": [
    "### Uploading the training data\n",
    "\n",
    "\n",
    "Next, we need to upload the training data to the SageMaker default S3 bucket so that we can provide access to it while training our model."
   ]
  },
  {
   "cell_type": "code",
   "execution_count": 21,
   "metadata": {},
   "outputs": [],
   "source": [
    "import sagemaker\n",
    "\n",
    "sagemaker_session = sagemaker.Session()\n",
    "\n",
    "bucket = sagemaker_session.default_bucket()\n",
    "prefix = 'sagemaker/sentiment_rnn'\n",
    "\n",
    "role = sagemaker.get_execution_role()"
   ]
  },
  {
   "cell_type": "code",
   "execution_count": 22,
   "metadata": {},
   "outputs": [],
   "source": [
    "input_data = sagemaker_session.upload_data(path=data_dir, bucket=bucket, key_prefix=prefix)"
   ]
  },
  {
   "cell_type": "markdown",
   "metadata": {},
   "source": [
    "**NOTE:** The cell above uploads the entire contents of our data directory. This includes the `word_dict.pkl` file. This is fortunate as we will need this later on when we create an endpoint that accepts an arbitrary review. For now, we will just take note of the fact that it resides in the data directory (and so also in the S3 training bucket) and that we will need to make sure it gets saved in the model directory."
   ]
  },
  {
   "cell_type": "markdown",
   "metadata": {},
   "source": [
    "## Step 4: Build and Train the PyTorch Model\n",
    "\n",
    "In the XGBoost notebook we discussed what a model is in the SageMaker framework. In particular, a model comprises three objects\n",
    "\n",
    " - Model Artifacts,\n",
    " - Training Code, and\n",
    " - Inference Code,\n",
    " \n",
    "each of which interact with one another. In the XGBoost example we used training and inference code that was provided by Amazon. Here we will still be using containers provided by Amazon with the added benefit of being able to include our own custom code.\n",
    "\n",
    "We will start by implementing our own neural network in PyTorch along with a training script. For the purposes of this project we have provided the necessary model object in the `model.py` file, inside of the `train` folder. You can see the provided implementation by running the cell below."
   ]
  },
  {
   "cell_type": "code",
   "execution_count": 23,
   "metadata": {},
   "outputs": [
    {
     "name": "stdout",
     "output_type": "stream",
     "text": [
      "\u001b[34mimport\u001b[39;49;00m \u001b[04m\u001b[36mtorch.nn\u001b[39;49;00m \u001b[34mas\u001b[39;49;00m \u001b[04m\u001b[36mnn\u001b[39;49;00m\r\n",
      "\r\n",
      "\u001b[34mclass\u001b[39;49;00m \u001b[04m\u001b[32mLSTMClassifier\u001b[39;49;00m(nn.Module):\r\n",
      "    \u001b[33m\"\"\"\u001b[39;49;00m\r\n",
      "\u001b[33m    This is the simple RNN model we will be using to perform Sentiment Analysis.\u001b[39;49;00m\r\n",
      "\u001b[33m    \"\"\"\u001b[39;49;00m\r\n",
      "\r\n",
      "    \u001b[34mdef\u001b[39;49;00m \u001b[32m__init__\u001b[39;49;00m(\u001b[36mself\u001b[39;49;00m, embedding_dim, hidden_dim, vocab_size):\r\n",
      "        \u001b[33m\"\"\"\u001b[39;49;00m\r\n",
      "\u001b[33m        Initialize the model by settingg up the various layers.\u001b[39;49;00m\r\n",
      "\u001b[33m        \"\"\"\u001b[39;49;00m\r\n",
      "        \u001b[36msuper\u001b[39;49;00m(LSTMClassifier, \u001b[36mself\u001b[39;49;00m).\u001b[32m__init__\u001b[39;49;00m()\r\n",
      "\r\n",
      "        \u001b[36mself\u001b[39;49;00m.embedding = nn.Embedding(vocab_size, embedding_dim, padding_idx=\u001b[34m0\u001b[39;49;00m)\r\n",
      "        \u001b[36mself\u001b[39;49;00m.lstm = nn.LSTM(embedding_dim, hidden_dim)\r\n",
      "        \u001b[36mself\u001b[39;49;00m.dense = nn.Linear(in_features=hidden_dim, out_features=\u001b[34m1\u001b[39;49;00m)\r\n",
      "        \u001b[36mself\u001b[39;49;00m.sig = nn.Sigmoid()\r\n",
      "        \r\n",
      "        \u001b[36mself\u001b[39;49;00m.word_dict = \u001b[36mNone\u001b[39;49;00m\r\n",
      "\r\n",
      "    \u001b[34mdef\u001b[39;49;00m \u001b[32mforward\u001b[39;49;00m(\u001b[36mself\u001b[39;49;00m, x):\r\n",
      "        \u001b[33m\"\"\"\u001b[39;49;00m\r\n",
      "\u001b[33m        Perform a forward pass of our model on some input.\u001b[39;49;00m\r\n",
      "\u001b[33m        \"\"\"\u001b[39;49;00m\r\n",
      "        x = x.t()\r\n",
      "        lengths = x[\u001b[34m0\u001b[39;49;00m,:]\r\n",
      "        reviews = x[\u001b[34m1\u001b[39;49;00m:,:]\r\n",
      "        embeds = \u001b[36mself\u001b[39;49;00m.embedding(reviews)\r\n",
      "        lstm_out, _ = \u001b[36mself\u001b[39;49;00m.lstm(embeds)\r\n",
      "        out = \u001b[36mself\u001b[39;49;00m.dense(lstm_out)\r\n",
      "        out = out[lengths - \u001b[34m1\u001b[39;49;00m, \u001b[36mrange\u001b[39;49;00m(\u001b[36mlen\u001b[39;49;00m(lengths))]\r\n",
      "        \u001b[34mreturn\u001b[39;49;00m \u001b[36mself\u001b[39;49;00m.sig(out.squeeze())\r\n"
     ]
    }
   ],
   "source": [
    "!pygmentize train/model.py"
   ]
  },
  {
   "cell_type": "markdown",
   "metadata": {},
   "source": [
    "The important takeaway from the implementation provided is that there are three parameters that we may wish to tweak to improve the performance of our model. These are the embedding dimension, the hidden dimension and the size of the vocabulary. We will likely want to make these parameters configurable in the training script so that if we wish to modify them we do not need to modify the script itself. We will see how to do this later on. To start we will write some of the training code in the notebook so that we can more easily diagnose any issues that arise.\n",
    "\n",
    "First we will load a small portion of the training data set to use as a sample. It would be very time consuming to try and train the model completely in the notebook as we do not have access to a gpu and the compute instance that we are using is not particularly powerful. However, we can work on a small bit of the data to get a feel for how our training script is behaving."
   ]
  },
  {
   "cell_type": "code",
   "execution_count": 24,
   "metadata": {},
   "outputs": [],
   "source": [
    "import torch\n",
    "import torch.utils.data\n",
    "\n",
    "# Read in only the first 250 rows\n",
    "train_sample = pd.read_csv(os.path.join(data_dir, 'train.csv'), header=None, names=None, nrows=250)\n",
    "\n",
    "# Turn the input pandas dataframe into tensors\n",
    "train_sample_y = torch.from_numpy(train_sample[[0]].values).float().squeeze()\n",
    "train_sample_X = torch.from_numpy(train_sample.drop([0], axis=1).values).long()\n",
    "\n",
    "# Build the dataset\n",
    "train_sample_ds = torch.utils.data.TensorDataset(train_sample_X, train_sample_y)\n",
    "# Build the dataloader\n",
    "train_sample_dl = torch.utils.data.DataLoader(train_sample_ds, batch_size=50)"
   ]
  },
  {
   "cell_type": "markdown",
   "metadata": {},
   "source": [
    "### (TODO) Writing the training method\n",
    "\n",
    "Next we need to write the training code itself. This should be very similar to training methods that you have written before to train PyTorch models. We will leave any difficult aspects such as model saving / loading and parameter loading until a little later."
   ]
  },
  {
   "cell_type": "code",
   "execution_count": 25,
   "metadata": {},
   "outputs": [],
   "source": [
    "def train(model, train_loader, epochs, optimizer, loss_fn, device):\n",
    "    for epoch in range(1, epochs + 1):\n",
    "        model.train()\n",
    "        total_loss = 0\n",
    "        for batch in train_loader:         \n",
    "            batch_X, batch_y = batch\n",
    "            \n",
    "            batch_X = batch_X.to(device)\n",
    "            batch_y = batch_y.to(device)\n",
    "            \n",
    "            # TODO: Complete this train method to train the model provided.\n",
    "            optimizer.zero_grad()\n",
    "            out = model(batch_X)\n",
    "            loss = loss_fn(out, batch_y)\n",
    "            loss.backward()\n",
    "            optimizer.step()\n",
    "            \n",
    "            total_loss += loss.data.item()\n",
    "        print(\"Epoch: {}, BCELoss: {}\".format(epoch, total_loss / len(train_loader)))"
   ]
  },
  {
   "cell_type": "markdown",
   "metadata": {},
   "source": [
    "Supposing we have the training method above, we will test that it is working by writing a bit of code in the notebook that executes our training method on the small sample training set that we loaded earlier. The reason for doing this in the notebook is so that we have an opportunity to fix any errors that arise early when they are easier to diagnose."
   ]
  },
  {
   "cell_type": "code",
   "execution_count": 26,
   "metadata": {},
   "outputs": [
    {
     "name": "stdout",
     "output_type": "stream",
     "text": [
      "Epoch: 1, BCELoss: 0.6919834613800049\n",
      "Epoch: 2, BCELoss: 0.6828421950340271\n",
      "Epoch: 3, BCELoss: 0.675089693069458\n",
      "Epoch: 4, BCELoss: 0.666425085067749\n",
      "Epoch: 5, BCELoss: 0.6557107210159302\n"
     ]
    }
   ],
   "source": [
    "import torch.optim as optim\n",
    "from train.model import LSTMClassifier\n",
    "\n",
    "device = torch.device(\"cuda\" if torch.cuda.is_available() else \"cpu\")\n",
    "model = LSTMClassifier(32, 100, 5000).to(device)\n",
    "optimizer = optim.Adam(model.parameters())\n",
    "loss_fn = torch.nn.BCELoss()\n",
    "\n",
    "train(model, train_sample_dl, 5, optimizer, loss_fn, device)"
   ]
  },
  {
   "cell_type": "markdown",
   "metadata": {},
   "source": [
    "In order to construct a PyTorch model using SageMaker we must provide SageMaker with a training script. We may optionally include a directory which will be copied to the container and from which our training code will be run. When the training container is executed it will check the uploaded directory (if there is one) for a `requirements.txt` file and install any required Python libraries, after which the training script will be run."
   ]
  },
  {
   "cell_type": "markdown",
   "metadata": {},
   "source": [
    "### (TODO) Training the model\n",
    "\n",
    "When a PyTorch model is constructed in SageMaker, an entry point must be specified. This is the Python file which will be executed when the model is trained. Inside of the `train` directory is a file called `train.py` which has been provided and which contains most of the necessary code to train our model. The only thing that is missing is the implementation of the `train()` method which you wrote earlier in this notebook.\n",
    "\n",
    "**TODO**: Copy the `train()` method written above and paste it into the `train/train.py` file where required.\n",
    "\n",
    "The way that SageMaker passes hyperparameters to the training script is by way of arguments. These arguments can then be parsed and used in the training script. To see how this is done take a look at the provided `train/train.py` file."
   ]
  },
  {
   "cell_type": "code",
   "execution_count": 27,
   "metadata": {},
   "outputs": [],
   "source": [
    "from sagemaker.pytorch import PyTorch\n",
    "\n",
    "estimator = PyTorch(entry_point=\"train.py\",\n",
    "                    source_dir=\"train\",\n",
    "                    role=role,\n",
    "                    framework_version='0.4.0',\n",
    "                    train_instance_count=1,\n",
    "                    train_instance_type='ml.p2.xlarge',\n",
    "                    hyperparameters={\n",
    "                        'epochs': 10,\n",
    "                        'hidden_dim': 200,\n",
    "                    })"
   ]
  },
  {
   "cell_type": "code",
   "execution_count": 28,
   "metadata": {},
   "outputs": [
    {
     "name": "stdout",
     "output_type": "stream",
     "text": [
      "2020-02-09 08:24:12 Starting - Starting the training job...\n",
      "2020-02-09 08:24:13 Starting - Launching requested ML instances...\n",
      "2020-02-09 08:25:10 Starting - Preparing the instances for training.........\n",
      "2020-02-09 08:26:17 Downloading - Downloading input data...\n",
      "2020-02-09 08:26:50 Training - Downloading the training image..\u001b[34mbash: cannot set terminal process group (-1): Inappropriate ioctl for device\u001b[0m\n",
      "\u001b[34mbash: no job control in this shell\u001b[0m\n",
      "\u001b[34m2020-02-09 08:27:21,054 sagemaker-containers INFO     Imported framework sagemaker_pytorch_container.training\u001b[0m\n",
      "\u001b[34m2020-02-09 08:27:21,077 sagemaker_pytorch_container.training INFO     Block until all host DNS lookups succeed.\u001b[0m\n",
      "\u001b[34m2020-02-09 08:27:22,594 sagemaker_pytorch_container.training INFO     Invoking user training script.\u001b[0m\n",
      "\u001b[34m2020-02-09 08:27:22,818 sagemaker-containers INFO     Module train does not provide a setup.py. \u001b[0m\n",
      "\u001b[34mGenerating setup.py\u001b[0m\n",
      "\u001b[34m2020-02-09 08:27:22,818 sagemaker-containers INFO     Generating setup.cfg\u001b[0m\n",
      "\u001b[34m2020-02-09 08:27:22,818 sagemaker-containers INFO     Generating MANIFEST.in\u001b[0m\n",
      "\u001b[34m2020-02-09 08:27:22,818 sagemaker-containers INFO     Installing module with the following command:\u001b[0m\n",
      "\u001b[34m/usr/bin/python -m pip install -U . -r requirements.txt\u001b[0m\n",
      "\u001b[34mProcessing /opt/ml/code\u001b[0m\n",
      "\u001b[34mCollecting pandas (from -r requirements.txt (line 1))\n",
      "  Downloading https://files.pythonhosted.org/packages/74/24/0cdbf8907e1e3bc5a8da03345c23cbed7044330bb8f73bb12e711a640a00/pandas-0.24.2-cp35-cp35m-manylinux1_x86_64.whl (10.0MB)\u001b[0m\n",
      "\u001b[34mCollecting numpy (from -r requirements.txt (line 2))\n",
      "  Downloading https://files.pythonhosted.org/packages/52/e6/1715e592ef47f28f3f50065322423bb75619ed2f7c24be86380ecc93503c/numpy-1.18.1-cp35-cp35m-manylinux1_x86_64.whl (19.9MB)\u001b[0m\n",
      "\u001b[34mCollecting nltk (from -r requirements.txt (line 3))\n",
      "  Downloading https://files.pythonhosted.org/packages/f6/1d/d925cfb4f324ede997f6d47bea4d9babba51b49e87a767c170b77005889d/nltk-3.4.5.zip (1.5MB)\u001b[0m\n",
      "\u001b[34mCollecting beautifulsoup4 (from -r requirements.txt (line 4))\n",
      "  Downloading https://files.pythonhosted.org/packages/cb/a1/c698cf319e9cfed6b17376281bd0efc6bfc8465698f54170ef60a485ab5d/beautifulsoup4-4.8.2-py3-none-any.whl (106kB)\u001b[0m\n",
      "\u001b[34mCollecting html5lib (from -r requirements.txt (line 5))\n",
      "  Downloading https://files.pythonhosted.org/packages/a5/62/bbd2be0e7943ec8504b517e62bab011b4946e1258842bc159e5dfde15b96/html5lib-1.0.1-py2.py3-none-any.whl (117kB)\u001b[0m\n",
      "\u001b[34mCollecting pytz>=2011k (from pandas->-r requirements.txt (line 1))\n",
      "  Downloading https://files.pythonhosted.org/packages/e7/f9/f0b53f88060247251bf481fa6ea62cd0d25bf1b11a87888e53ce5b7c8ad2/pytz-2019.3-py2.py3-none-any.whl (509kB)\u001b[0m\n",
      "\u001b[34mRequirement already satisfied, skipping upgrade: python-dateutil>=2.5.0 in /usr/local/lib/python3.5/dist-packages (from pandas->-r requirements.txt (line 1)) (2.7.5)\u001b[0m\n",
      "\u001b[34mRequirement already satisfied, skipping upgrade: six in /usr/local/lib/python3.5/dist-packages (from nltk->-r requirements.txt (line 3)) (1.11.0)\u001b[0m\n",
      "\u001b[34mCollecting soupsieve>=1.2 (from beautifulsoup4->-r requirements.txt (line 4))\n",
      "  Downloading https://files.pythonhosted.org/packages/81/94/03c0f04471fc245d08d0a99f7946ac228ca98da4fa75796c507f61e688c2/soupsieve-1.9.5-py2.py3-none-any.whl\u001b[0m\n",
      "\u001b[34mCollecting webencodings (from html5lib->-r requirements.txt (line 5))\n",
      "  Downloading https://files.pythonhosted.org/packages/f4/24/2a3e3df732393fed8b3ebf2ec078f05546de641fe1b667ee316ec1dcf3b7/webencodings-0.5.1-py2.py3-none-any.whl\u001b[0m\n",
      "\u001b[34mBuilding wheels for collected packages: nltk, train\n",
      "  Running setup.py bdist_wheel for nltk: started\u001b[0m\n",
      "\n",
      "2020-02-09 08:27:20 Training - Training image download completed. Training in progress.\u001b[34m  Running setup.py bdist_wheel for nltk: finished with status 'done'\n",
      "  Stored in directory: /root/.cache/pip/wheels/96/86/f6/68ab24c23f207c0077381a5e3904b2815136b879538a24b483\n",
      "  Running setup.py bdist_wheel for train: started\n",
      "  Running setup.py bdist_wheel for train: finished with status 'done'\n",
      "  Stored in directory: /tmp/pip-ephem-wheel-cache-4hq750iz/wheels/35/24/16/37574d11bf9bde50616c67372a334f94fa8356bc7164af8ca3\u001b[0m\n",
      "\u001b[34mSuccessfully built nltk train\u001b[0m\n",
      "\u001b[34mInstalling collected packages: numpy, pytz, pandas, nltk, soupsieve, beautifulsoup4, webencodings, html5lib, train\n",
      "  Found existing installation: numpy 1.15.4\u001b[0m\n",
      "\u001b[34m    Uninstalling numpy-1.15.4:\n",
      "      Successfully uninstalled numpy-1.15.4\u001b[0m\n",
      "\u001b[34mSuccessfully installed beautifulsoup4-4.8.2 html5lib-1.0.1 nltk-3.4.5 numpy-1.18.1 pandas-0.24.2 pytz-2019.3 soupsieve-1.9.5 train-1.0.0 webencodings-0.5.1\u001b[0m\n",
      "\u001b[34mYou are using pip version 18.1, however version 20.0.2 is available.\u001b[0m\n",
      "\u001b[34mYou should consider upgrading via the 'pip install --upgrade pip' command.\u001b[0m\n",
      "\u001b[34m2020-02-09 08:27:34,500 sagemaker-containers INFO     Invoking user script\n",
      "\u001b[0m\n",
      "\u001b[34mTraining Env:\n",
      "\u001b[0m\n",
      "\u001b[34m{\n",
      "    \"output_dir\": \"/opt/ml/output\",\n",
      "    \"channel_input_dirs\": {\n",
      "        \"training\": \"/opt/ml/input/data/training\"\n",
      "    },\n",
      "    \"num_gpus\": 1,\n",
      "    \"user_entry_point\": \"train.py\",\n",
      "    \"hosts\": [\n",
      "        \"algo-1\"\n",
      "    ],\n",
      "    \"input_data_config\": {\n",
      "        \"training\": {\n",
      "            \"S3DistributionType\": \"FullyReplicated\",\n",
      "            \"TrainingInputMode\": \"File\",\n",
      "            \"RecordWrapperType\": \"None\"\n",
      "        }\n",
      "    },\n",
      "    \"current_host\": \"algo-1\",\n",
      "    \"module_name\": \"train\",\n",
      "    \"log_level\": 20,\n",
      "    \"output_data_dir\": \"/opt/ml/output/data\",\n",
      "    \"job_name\": \"sagemaker-pytorch-2020-02-09-08-24-11-771\",\n",
      "    \"model_dir\": \"/opt/ml/model\",\n",
      "    \"resource_config\": {\n",
      "        \"hosts\": [\n",
      "            \"algo-1\"\n",
      "        ],\n",
      "        \"network_interface_name\": \"eth0\",\n",
      "        \"current_host\": \"algo-1\"\n",
      "    },\n",
      "    \"num_cpus\": 4,\n",
      "    \"input_config_dir\": \"/opt/ml/input/config\",\n",
      "    \"framework_module\": \"sagemaker_pytorch_container.training:main\",\n",
      "    \"output_intermediate_dir\": \"/opt/ml/output/intermediate\",\n",
      "    \"module_dir\": \"s3://sagemaker-us-east-2-722614949794/sagemaker-pytorch-2020-02-09-08-24-11-771/source/sourcedir.tar.gz\",\n",
      "    \"additional_framework_parameters\": {},\n",
      "    \"hyperparameters\": {\n",
      "        \"epochs\": 10,\n",
      "        \"hidden_dim\": 200\n",
      "    },\n",
      "    \"network_interface_name\": \"eth0\",\n",
      "    \"input_dir\": \"/opt/ml/input\"\u001b[0m\n",
      "\u001b[34m}\n",
      "\u001b[0m\n",
      "\u001b[34mEnvironment variables:\n",
      "\u001b[0m\n",
      "\u001b[34mSM_NETWORK_INTERFACE_NAME=eth0\u001b[0m\n",
      "\u001b[34mSM_RESOURCE_CONFIG={\"current_host\":\"algo-1\",\"hosts\":[\"algo-1\"],\"network_interface_name\":\"eth0\"}\u001b[0m\n",
      "\u001b[34mSM_FRAMEWORK_PARAMS={}\u001b[0m\n",
      "\u001b[34mSM_NUM_GPUS=1\u001b[0m\n",
      "\u001b[34mSM_LOG_LEVEL=20\u001b[0m\n",
      "\u001b[34mSM_TRAINING_ENV={\"additional_framework_parameters\":{},\"channel_input_dirs\":{\"training\":\"/opt/ml/input/data/training\"},\"current_host\":\"algo-1\",\"framework_module\":\"sagemaker_pytorch_container.training:main\",\"hosts\":[\"algo-1\"],\"hyperparameters\":{\"epochs\":10,\"hidden_dim\":200},\"input_config_dir\":\"/opt/ml/input/config\",\"input_data_config\":{\"training\":{\"RecordWrapperType\":\"None\",\"S3DistributionType\":\"FullyReplicated\",\"TrainingInputMode\":\"File\"}},\"input_dir\":\"/opt/ml/input\",\"job_name\":\"sagemaker-pytorch-2020-02-09-08-24-11-771\",\"log_level\":20,\"model_dir\":\"/opt/ml/model\",\"module_dir\":\"s3://sagemaker-us-east-2-722614949794/sagemaker-pytorch-2020-02-09-08-24-11-771/source/sourcedir.tar.gz\",\"module_name\":\"train\",\"network_interface_name\":\"eth0\",\"num_cpus\":4,\"num_gpus\":1,\"output_data_dir\":\"/opt/ml/output/data\",\"output_dir\":\"/opt/ml/output\",\"output_intermediate_dir\":\"/opt/ml/output/intermediate\",\"resource_config\":{\"current_host\":\"algo-1\",\"hosts\":[\"algo-1\"],\"network_interface_name\":\"eth0\"},\"user_entry_point\":\"train.py\"}\u001b[0m\n",
      "\u001b[34mSM_MODULE_NAME=train\u001b[0m\n",
      "\u001b[34mSM_HPS={\"epochs\":10,\"hidden_dim\":200}\u001b[0m\n",
      "\u001b[34mSM_HP_EPOCHS=10\u001b[0m\n",
      "\u001b[34mSM_USER_ARGS=[\"--epochs\",\"10\",\"--hidden_dim\",\"200\"]\u001b[0m\n",
      "\u001b[34mSM_OUTPUT_DIR=/opt/ml/output\u001b[0m\n",
      "\u001b[34mSM_FRAMEWORK_MODULE=sagemaker_pytorch_container.training:main\u001b[0m\n",
      "\u001b[34mSM_NUM_CPUS=4\u001b[0m\n",
      "\u001b[34mSM_OUTPUT_DATA_DIR=/opt/ml/output/data\u001b[0m\n",
      "\u001b[34mSM_CHANNEL_TRAINING=/opt/ml/input/data/training\u001b[0m\n",
      "\u001b[34mSM_HOSTS=[\"algo-1\"]\u001b[0m\n",
      "\u001b[34mSM_OUTPUT_INTERMEDIATE_DIR=/opt/ml/output/intermediate\u001b[0m\n",
      "\u001b[34mSM_INPUT_DIR=/opt/ml/input\u001b[0m\n",
      "\u001b[34mSM_MODULE_DIR=s3://sagemaker-us-east-2-722614949794/sagemaker-pytorch-2020-02-09-08-24-11-771/source/sourcedir.tar.gz\u001b[0m\n",
      "\u001b[34mSM_CHANNELS=[\"training\"]\u001b[0m\n",
      "\u001b[34mSM_HP_HIDDEN_DIM=200\u001b[0m\n",
      "\u001b[34mPYTHONPATH=/usr/local/bin:/usr/lib/python35.zip:/usr/lib/python3.5:/usr/lib/python3.5/plat-x86_64-linux-gnu:/usr/lib/python3.5/lib-dynload:/usr/local/lib/python3.5/dist-packages:/usr/lib/python3/dist-packages\u001b[0m\n",
      "\u001b[34mSM_INPUT_CONFIG_DIR=/opt/ml/input/config\u001b[0m\n",
      "\u001b[34mSM_MODEL_DIR=/opt/ml/model\u001b[0m\n",
      "\u001b[34mSM_USER_ENTRY_POINT=train.py\u001b[0m\n",
      "\u001b[34mSM_INPUT_DATA_CONFIG={\"training\":{\"RecordWrapperType\":\"None\",\"S3DistributionType\":\"FullyReplicated\",\"TrainingInputMode\":\"File\"}}\u001b[0m\n",
      "\u001b[34mSM_CURRENT_HOST=algo-1\n",
      "\u001b[0m\n",
      "\u001b[34mInvoking script with the following command:\n",
      "\u001b[0m\n",
      "\u001b[34m/usr/bin/python -m train --epochs 10 --hidden_dim 200\n",
      "\n",
      "\u001b[0m\n",
      "\u001b[34mUsing device cuda.\u001b[0m\n",
      "\u001b[34mGet train data loader.\u001b[0m\n"
     ]
    },
    {
     "name": "stdout",
     "output_type": "stream",
     "text": [
      "\u001b[34mModel loaded with embedding_dim 32, hidden_dim 200, vocab_size 5000.\u001b[0m\n",
      "\u001b[34mEpoch: 1, BCELoss: 0.6707396847861153\u001b[0m\n",
      "\u001b[34mEpoch: 2, BCELoss: 0.5922883104304878\u001b[0m\n",
      "\u001b[34mEpoch: 3, BCELoss: 0.5275682466370719\u001b[0m\n",
      "\u001b[34mEpoch: 4, BCELoss: 0.5471280314484421\u001b[0m\n",
      "\u001b[34mEpoch: 5, BCELoss: 0.4266285513128553\u001b[0m\n",
      "\u001b[34mEpoch: 6, BCELoss: 0.3816550574740585\u001b[0m\n",
      "\u001b[34mEpoch: 7, BCELoss: 0.36631947816634663\u001b[0m\n",
      "\u001b[34mEpoch: 8, BCELoss: 0.3434592996324812\u001b[0m\n",
      "\u001b[34mEpoch: 9, BCELoss: 0.3222660443612507\u001b[0m\n",
      "\n",
      "2020-02-09 08:30:44 Uploading - Uploading generated training model\n",
      "2020-02-09 08:30:44 Completed - Training job completed\n",
      "\u001b[34mEpoch: 10, BCELoss: 0.3007818156359147\u001b[0m\n",
      "\u001b[34m2020-02-09 08:30:32,931 sagemaker-containers INFO     Reporting training SUCCESS\u001b[0m\n",
      "Training seconds: 267\n",
      "Billable seconds: 267\n"
     ]
    }
   ],
   "source": [
    "estimator.fit({'training': input_data})"
   ]
  },
  {
   "cell_type": "markdown",
   "metadata": {},
   "source": [
    "## Step 5: Testing the model\n",
    "\n",
    "As mentioned at the top of this notebook, we will be testing this model by first deploying it and then sending the testing data to the deployed endpoint. We will do this so that we can make sure that the deployed model is working correctly.\n",
    "\n",
    "## Step 6: Deploy the model for testing\n",
    "\n",
    "Now that we have trained our model, we would like to test it to see how it performs. Currently our model takes input of the form `review_length, review[500]` where `review[500]` is a sequence of `500` integers which describe the words present in the review, encoded using `word_dict`. Fortunately for us, SageMaker provides built-in inference code for models with simple inputs such as this.\n",
    "\n",
    "There is one thing that we need to provide, however, and that is a function which loads the saved model. This function must be called `model_fn()` and takes as its only parameter a path to the directory where the model artifacts are stored. This function must also be present in the python file which we specified as the entry point. In our case the model loading function has been provided and so no changes need to be made.\n",
    "\n",
    "**NOTE**: When the built-in inference code is run it must import the `model_fn()` method from the `train.py` file. This is why the training code is wrapped in a main guard ( ie, `if __name__ == '__main__':` )\n",
    "\n",
    "Since we don't need to change anything in the code that was uploaded during training, we can simply deploy the current model as-is.\n",
    "\n",
    "**NOTE:** When deploying a model you are asking SageMaker to launch an compute instance that will wait for data to be sent to it. As a result, this compute instance will continue to run until *you* shut it down. This is important to know since the cost of a deployed endpoint depends on how long it has been running for.\n",
    "\n",
    "In other words **If you are no longer using a deployed endpoint, shut it down!**\n",
    "\n",
    "**TODO:** Deploy the trained model."
   ]
  },
  {
   "cell_type": "code",
   "execution_count": 29,
   "metadata": {
    "scrolled": true
   },
   "outputs": [
    {
     "name": "stdout",
     "output_type": "stream",
     "text": [
      "-------------!"
     ]
    }
   ],
   "source": [
    "# TODO: Deploy the trained model\n",
    "predictor = estimator.deploy(initial_instance_count=1, instance_type='ml.p2.xlarge')"
   ]
  },
  {
   "cell_type": "markdown",
   "metadata": {},
   "source": [
    "## Step 7 - Use the model for testing\n",
    "\n",
    "Once deployed, we can read in the test data and send it off to our deployed model to get some results. Once we collect all of the results we can determine how accurate our model is."
   ]
  },
  {
   "cell_type": "code",
   "execution_count": 30,
   "metadata": {},
   "outputs": [],
   "source": [
    "test_X = pd.concat([pd.DataFrame(test_X_len), pd.DataFrame(test_X)], axis=1)"
   ]
  },
  {
   "cell_type": "code",
   "execution_count": 31,
   "metadata": {},
   "outputs": [],
   "source": [
    "# We split the data into chunks and send each chunk seperately, accumulating the results.\n",
    "\n",
    "def predict(data, rows=512):\n",
    "    split_array = np.array_split(data, int(data.shape[0] / float(rows) + 1))\n",
    "    predictions = np.array([])\n",
    "    for array in split_array:\n",
    "        predictions = np.append(predictions, predictor.predict(array))\n",
    "    \n",
    "    return predictions"
   ]
  },
  {
   "cell_type": "code",
   "execution_count": 32,
   "metadata": {},
   "outputs": [],
   "source": [
    "predictions = predict(test_X.values)\n",
    "predictions = [round(num) for num in predictions]"
   ]
  },
  {
   "cell_type": "code",
   "execution_count": 33,
   "metadata": {},
   "outputs": [
    {
     "data": {
      "text/plain": [
       "0.851"
      ]
     },
     "execution_count": 33,
     "metadata": {},
     "output_type": "execute_result"
    }
   ],
   "source": [
    "from sklearn.metrics import accuracy_score\n",
    "accuracy_score(test_y, predictions)"
   ]
  },
  {
   "cell_type": "markdown",
   "metadata": {},
   "source": [
    "**Question:** How does this model compare to the XGBoost model you created earlier? Why might these two models perform differently on this dataset? Which do *you* think is better for sentiment analysis?"
   ]
  },
  {
   "cell_type": "markdown",
   "metadata": {},
   "source": [
    "**Answer:**\n",
    "Accuracy of XGBoost was slightly better than LSTM (neural network). LSTM models work the best when there is lot of training data. On the other hand XGBoost is known to work efficiently even with smaller datasets. However, for sentiment analysis, LSTM would be better suited in general as it takes into consideration the order of words in the review as well. XGBoost was based on BOW vectors which disregards any order of words."
   ]
  },
  {
   "cell_type": "markdown",
   "metadata": {},
   "source": [
    "### (TODO) More testing\n",
    "\n",
    "We now have a trained model which has been deployed and which we can send processed reviews to and which returns the predicted sentiment. However, ultimately we would like to be able to send our model an unprocessed review. That is, we would like to send the review itself as a string. For example, suppose we wish to send the following review to our model."
   ]
  },
  {
   "cell_type": "code",
   "execution_count": 34,
   "metadata": {},
   "outputs": [],
   "source": [
    "test_review = 'The simplest pleasures in life are the best, and this film is one of them. Combining a rather basic storyline of love and adventure this movie transcends the usual weekend fair with wit and unmitigated charm.'"
   ]
  },
  {
   "cell_type": "markdown",
   "metadata": {},
   "source": [
    "The question we now need to answer is, how do we send this review to our model?\n",
    "\n",
    "Recall in the first section of this notebook we did a bunch of data processing to the IMDb dataset. In particular, we did two specific things to the provided reviews.\n",
    " - Removed any html tags and stemmed the input\n",
    " - Encoded the review as a sequence of integers using `word_dict`\n",
    " \n",
    "In order process the review we will need to repeat these two steps.\n",
    "\n",
    "**TODO**: Using the `review_to_words` and `convert_and_pad` methods from section one, convert `test_review` into a numpy array `test_data` suitable to send to our model. Remember that our model expects input of the form `review_length, review[500]`."
   ]
  },
  {
   "cell_type": "code",
   "execution_count": 35,
   "metadata": {},
   "outputs": [
    {
     "data": {
      "text/html": [
       "<div>\n",
       "<style scoped>\n",
       "    .dataframe tbody tr th:only-of-type {\n",
       "        vertical-align: middle;\n",
       "    }\n",
       "\n",
       "    .dataframe tbody tr th {\n",
       "        vertical-align: top;\n",
       "    }\n",
       "\n",
       "    .dataframe thead th {\n",
       "        text-align: right;\n",
       "    }\n",
       "</style>\n",
       "<table border=\"1\" class=\"dataframe\">\n",
       "  <thead>\n",
       "    <tr style=\"text-align: right;\">\n",
       "      <th></th>\n",
       "      <th>0</th>\n",
       "      <th>0</th>\n",
       "      <th>1</th>\n",
       "      <th>2</th>\n",
       "      <th>3</th>\n",
       "      <th>4</th>\n",
       "      <th>5</th>\n",
       "      <th>6</th>\n",
       "      <th>7</th>\n",
       "      <th>8</th>\n",
       "      <th>...</th>\n",
       "      <th>490</th>\n",
       "      <th>491</th>\n",
       "      <th>492</th>\n",
       "      <th>493</th>\n",
       "      <th>494</th>\n",
       "      <th>495</th>\n",
       "      <th>496</th>\n",
       "      <th>497</th>\n",
       "      <th>498</th>\n",
       "      <th>499</th>\n",
       "    </tr>\n",
       "  </thead>\n",
       "  <tbody>\n",
       "    <tr>\n",
       "      <th>0</th>\n",
       "      <td>20</td>\n",
       "      <td>1</td>\n",
       "      <td>1374</td>\n",
       "      <td>49</td>\n",
       "      <td>53</td>\n",
       "      <td>3</td>\n",
       "      <td>4</td>\n",
       "      <td>878</td>\n",
       "      <td>173</td>\n",
       "      <td>392</td>\n",
       "      <td>...</td>\n",
       "      <td>0</td>\n",
       "      <td>0</td>\n",
       "      <td>0</td>\n",
       "      <td>0</td>\n",
       "      <td>0</td>\n",
       "      <td>0</td>\n",
       "      <td>0</td>\n",
       "      <td>0</td>\n",
       "      <td>0</td>\n",
       "      <td>0</td>\n",
       "    </tr>\n",
       "  </tbody>\n",
       "</table>\n",
       "<p>1 rows × 501 columns</p>\n",
       "</div>"
      ],
      "text/plain": [
       "   0    0     1    2    3    4    5    6    7    8    ...  490  491  492  493  \\\n",
       "0   20    1  1374   49   53    3    4  878  173  392  ...    0    0    0    0   \n",
       "\n",
       "   494  495  496  497  498  499  \n",
       "0    0    0    0    0    0    0  \n",
       "\n",
       "[1 rows x 501 columns]"
      ]
     },
     "execution_count": 35,
     "metadata": {},
     "output_type": "execute_result"
    }
   ],
   "source": [
    "# TODO: Convert test_review into a form usable by the model and save the results in test_data\n",
    "test_words = review_to_words(test_review)\n",
    "test_data, test_data_len = convert_and_pad(word_dict, test_words)\n",
    "test_data = pd.concat([pd.DataFrame([test_data_len]), pd.DataFrame(test_data)], axis=0).transpose()\n",
    "test_data"
   ]
  },
  {
   "cell_type": "markdown",
   "metadata": {},
   "source": [
    "Now that we have processed the review, we can send the resulting array to our model to predict the sentiment of the review."
   ]
  },
  {
   "cell_type": "code",
   "execution_count": 36,
   "metadata": {},
   "outputs": [
    {
     "data": {
      "text/plain": [
       "array(0.937391, dtype=float32)"
      ]
     },
     "execution_count": 36,
     "metadata": {},
     "output_type": "execute_result"
    }
   ],
   "source": [
    "predictor.predict(test_data)"
   ]
  },
  {
   "cell_type": "markdown",
   "metadata": {},
   "source": [
    "Since the return value of our model is close to `1`, we can be certain that the review we submitted is positive."
   ]
  },
  {
   "cell_type": "markdown",
   "metadata": {},
   "source": [
    "### Delete the endpoint\n",
    "\n",
    "Of course, just like in the XGBoost notebook, once we've deployed an endpoint it continues to run until we tell it to shut down. Since we are done using our endpoint for now, we can delete it."
   ]
  },
  {
   "cell_type": "code",
   "execution_count": 37,
   "metadata": {},
   "outputs": [],
   "source": [
    "estimator.delete_endpoint()"
   ]
  },
  {
   "cell_type": "markdown",
   "metadata": {},
   "source": [
    "## Step 6 (again) - Deploy the model for the web app\n",
    "\n",
    "Now that we know that our model is working, it's time to create some custom inference code so that we can send the model a review which has not been processed and have it determine the sentiment of the review.\n",
    "\n",
    "As we saw above, by default the estimator which we created, when deployed, will use the entry script and directory which we provided when creating the model. However, since we now wish to accept a string as input and our model expects a processed review, we need to write some custom inference code.\n",
    "\n",
    "We will store the code that we write in the `serve` directory. Provided in this directory is the `model.py` file that we used to construct our model, a `utils.py` file which contains the `review_to_words` and `convert_and_pad` pre-processing functions which we used during the initial data processing, and `predict.py`, the file which will contain our custom inference code. Note also that `requirements.txt` is present which will tell SageMaker what Python libraries are required by our custom inference code.\n",
    "\n",
    "When deploying a PyTorch model in SageMaker, you are expected to provide four functions which the SageMaker inference container will use.\n",
    " - `model_fn`: This function is the same function that we used in the training script and it tells SageMaker how to load our model.\n",
    " - `input_fn`: This function receives the raw serialized input that has been sent to the model's endpoint and its job is to de-serialize and make the input available for the inference code.\n",
    " - `output_fn`: This function takes the output of the inference code and its job is to serialize this output and return it to the caller of the model's endpoint.\n",
    " - `predict_fn`: The heart of the inference script, this is where the actual prediction is done and is the function which you will need to complete.\n",
    "\n",
    "For the simple website that we are constructing during this project, the `input_fn` and `output_fn` methods are relatively straightforward. We only require being able to accept a string as input and we expect to return a single value as output. You might imagine though that in a more complex application the input or output may be image data or some other binary data which would require some effort to serialize.\n",
    "\n",
    "### (TODO) Writing inference code\n",
    "\n",
    "Before writing our custom inference code, we will begin by taking a look at the code which has been provided."
   ]
  },
  {
   "cell_type": "code",
   "execution_count": 38,
   "metadata": {},
   "outputs": [
    {
     "name": "stdout",
     "output_type": "stream",
     "text": [
      "\u001b[34mimport\u001b[39;49;00m \u001b[04m\u001b[36margparse\u001b[39;49;00m\r\n",
      "\u001b[34mimport\u001b[39;49;00m \u001b[04m\u001b[36mjson\u001b[39;49;00m\r\n",
      "\u001b[34mimport\u001b[39;49;00m \u001b[04m\u001b[36mos\u001b[39;49;00m\r\n",
      "\u001b[34mimport\u001b[39;49;00m \u001b[04m\u001b[36mpickle\u001b[39;49;00m\r\n",
      "\u001b[34mimport\u001b[39;49;00m \u001b[04m\u001b[36msys\u001b[39;49;00m\r\n",
      "\u001b[34mimport\u001b[39;49;00m \u001b[04m\u001b[36msagemaker_containers\u001b[39;49;00m\r\n",
      "\u001b[34mimport\u001b[39;49;00m \u001b[04m\u001b[36mpandas\u001b[39;49;00m \u001b[34mas\u001b[39;49;00m \u001b[04m\u001b[36mpd\u001b[39;49;00m\r\n",
      "\u001b[34mimport\u001b[39;49;00m \u001b[04m\u001b[36mnumpy\u001b[39;49;00m \u001b[34mas\u001b[39;49;00m \u001b[04m\u001b[36mnp\u001b[39;49;00m\r\n",
      "\u001b[34mimport\u001b[39;49;00m \u001b[04m\u001b[36mtorch\u001b[39;49;00m\r\n",
      "\u001b[34mimport\u001b[39;49;00m \u001b[04m\u001b[36mtorch.nn\u001b[39;49;00m \u001b[34mas\u001b[39;49;00m \u001b[04m\u001b[36mnn\u001b[39;49;00m\r\n",
      "\u001b[34mimport\u001b[39;49;00m \u001b[04m\u001b[36mtorch.optim\u001b[39;49;00m \u001b[34mas\u001b[39;49;00m \u001b[04m\u001b[36moptim\u001b[39;49;00m\r\n",
      "\u001b[34mimport\u001b[39;49;00m \u001b[04m\u001b[36mtorch.utils.data\u001b[39;49;00m\r\n",
      "\r\n",
      "\u001b[34mfrom\u001b[39;49;00m \u001b[04m\u001b[36mmodel\u001b[39;49;00m \u001b[34mimport\u001b[39;49;00m LSTMClassifier\r\n",
      "\r\n",
      "\u001b[34mfrom\u001b[39;49;00m \u001b[04m\u001b[36mutils\u001b[39;49;00m \u001b[34mimport\u001b[39;49;00m review_to_words, convert_and_pad\r\n",
      "\r\n",
      "\u001b[34mdef\u001b[39;49;00m \u001b[32mmodel_fn\u001b[39;49;00m(model_dir):\r\n",
      "    \u001b[33m\"\"\"Load the PyTorch model from the `model_dir` directory.\"\"\"\u001b[39;49;00m\r\n",
      "    \u001b[34mprint\u001b[39;49;00m(\u001b[33m\"\u001b[39;49;00m\u001b[33mLoading model.\u001b[39;49;00m\u001b[33m\"\u001b[39;49;00m)\r\n",
      "\r\n",
      "    \u001b[37m# First, load the parameters used to create the model.\u001b[39;49;00m\r\n",
      "    model_info = {}\r\n",
      "    model_info_path = os.path.join(model_dir, \u001b[33m'\u001b[39;49;00m\u001b[33mmodel_info.pth\u001b[39;49;00m\u001b[33m'\u001b[39;49;00m)\r\n",
      "    \u001b[34mwith\u001b[39;49;00m \u001b[36mopen\u001b[39;49;00m(model_info_path, \u001b[33m'\u001b[39;49;00m\u001b[33mrb\u001b[39;49;00m\u001b[33m'\u001b[39;49;00m) \u001b[34mas\u001b[39;49;00m f:\r\n",
      "        model_info = torch.load(f)\r\n",
      "\r\n",
      "    \u001b[34mprint\u001b[39;49;00m(\u001b[33m\"\u001b[39;49;00m\u001b[33mmodel_info: {}\u001b[39;49;00m\u001b[33m\"\u001b[39;49;00m.format(model_info))\r\n",
      "\r\n",
      "    \u001b[37m# Determine the device and construct the model.\u001b[39;49;00m\r\n",
      "    device = torch.device(\u001b[33m\"\u001b[39;49;00m\u001b[33mcuda\u001b[39;49;00m\u001b[33m\"\u001b[39;49;00m \u001b[34mif\u001b[39;49;00m torch.cuda.is_available() \u001b[34melse\u001b[39;49;00m \u001b[33m\"\u001b[39;49;00m\u001b[33mcpu\u001b[39;49;00m\u001b[33m\"\u001b[39;49;00m)\r\n",
      "    model = LSTMClassifier(model_info[\u001b[33m'\u001b[39;49;00m\u001b[33membedding_dim\u001b[39;49;00m\u001b[33m'\u001b[39;49;00m], model_info[\u001b[33m'\u001b[39;49;00m\u001b[33mhidden_dim\u001b[39;49;00m\u001b[33m'\u001b[39;49;00m], model_info[\u001b[33m'\u001b[39;49;00m\u001b[33mvocab_size\u001b[39;49;00m\u001b[33m'\u001b[39;49;00m])\r\n",
      "\r\n",
      "    \u001b[37m# Load the store model parameters.\u001b[39;49;00m\r\n",
      "    model_path = os.path.join(model_dir, \u001b[33m'\u001b[39;49;00m\u001b[33mmodel.pth\u001b[39;49;00m\u001b[33m'\u001b[39;49;00m)\r\n",
      "    \u001b[34mwith\u001b[39;49;00m \u001b[36mopen\u001b[39;49;00m(model_path, \u001b[33m'\u001b[39;49;00m\u001b[33mrb\u001b[39;49;00m\u001b[33m'\u001b[39;49;00m) \u001b[34mas\u001b[39;49;00m f:\r\n",
      "        model.load_state_dict(torch.load(f))\r\n",
      "\r\n",
      "    \u001b[37m# Load the saved word_dict.\u001b[39;49;00m\r\n",
      "    word_dict_path = os.path.join(model_dir, \u001b[33m'\u001b[39;49;00m\u001b[33mword_dict.pkl\u001b[39;49;00m\u001b[33m'\u001b[39;49;00m)\r\n",
      "    \u001b[34mwith\u001b[39;49;00m \u001b[36mopen\u001b[39;49;00m(word_dict_path, \u001b[33m'\u001b[39;49;00m\u001b[33mrb\u001b[39;49;00m\u001b[33m'\u001b[39;49;00m) \u001b[34mas\u001b[39;49;00m f:\r\n",
      "        model.word_dict = pickle.load(f)\r\n",
      "\r\n",
      "    model.to(device).eval()\r\n",
      "\r\n",
      "    \u001b[34mprint\u001b[39;49;00m(\u001b[33m\"\u001b[39;49;00m\u001b[33mDone loading model.\u001b[39;49;00m\u001b[33m\"\u001b[39;49;00m)\r\n",
      "    \u001b[34mreturn\u001b[39;49;00m model\r\n",
      "\r\n",
      "\u001b[34mdef\u001b[39;49;00m \u001b[32minput_fn\u001b[39;49;00m(serialized_input_data, content_type):\r\n",
      "    \u001b[34mprint\u001b[39;49;00m(\u001b[33m'\u001b[39;49;00m\u001b[33mDeserializing the input data.\u001b[39;49;00m\u001b[33m'\u001b[39;49;00m)\r\n",
      "    \u001b[34mif\u001b[39;49;00m content_type == \u001b[33m'\u001b[39;49;00m\u001b[33mtext/plain\u001b[39;49;00m\u001b[33m'\u001b[39;49;00m:\r\n",
      "        data = serialized_input_data.decode(\u001b[33m'\u001b[39;49;00m\u001b[33mutf-8\u001b[39;49;00m\u001b[33m'\u001b[39;49;00m)\r\n",
      "        \u001b[34mreturn\u001b[39;49;00m data\r\n",
      "    \u001b[34mraise\u001b[39;49;00m \u001b[36mException\u001b[39;49;00m(\u001b[33m'\u001b[39;49;00m\u001b[33mRequested unsupported ContentType in content_type: \u001b[39;49;00m\u001b[33m'\u001b[39;49;00m + content_type)\r\n",
      "\r\n",
      "\u001b[34mdef\u001b[39;49;00m \u001b[32moutput_fn\u001b[39;49;00m(prediction_output, accept):\r\n",
      "    \u001b[34mprint\u001b[39;49;00m(\u001b[33m'\u001b[39;49;00m\u001b[33mSerializing the generated output.\u001b[39;49;00m\u001b[33m'\u001b[39;49;00m)\r\n",
      "    \u001b[34mreturn\u001b[39;49;00m \u001b[36mstr\u001b[39;49;00m(prediction_output)\r\n",
      "\r\n",
      "\u001b[34mdef\u001b[39;49;00m \u001b[32mpredict_fn\u001b[39;49;00m(input_data, model):\r\n",
      "    \u001b[34mprint\u001b[39;49;00m(\u001b[33m'\u001b[39;49;00m\u001b[33mInferring sentiment of input data.\u001b[39;49;00m\u001b[33m'\u001b[39;49;00m)\r\n",
      "\r\n",
      "    device = torch.device(\u001b[33m\"\u001b[39;49;00m\u001b[33mcuda\u001b[39;49;00m\u001b[33m\"\u001b[39;49;00m \u001b[34mif\u001b[39;49;00m torch.cuda.is_available() \u001b[34melse\u001b[39;49;00m \u001b[33m\"\u001b[39;49;00m\u001b[33mcpu\u001b[39;49;00m\u001b[33m\"\u001b[39;49;00m)\r\n",
      "    \r\n",
      "    \u001b[34mif\u001b[39;49;00m model.word_dict \u001b[35mis\u001b[39;49;00m \u001b[36mNone\u001b[39;49;00m:\r\n",
      "        \u001b[34mraise\u001b[39;49;00m \u001b[36mException\u001b[39;49;00m(\u001b[33m'\u001b[39;49;00m\u001b[33mModel has not been loaded properly, no word_dict.\u001b[39;49;00m\u001b[33m'\u001b[39;49;00m)\r\n",
      "    \r\n",
      "    \u001b[37m# TODO: Process input_data so that it is ready to be sent to our model.\u001b[39;49;00m\r\n",
      "    \u001b[37m#       You should produce two variables:\u001b[39;49;00m\r\n",
      "    \u001b[37m#         data_X   - A sequence of length 500 which represents the converted review\u001b[39;49;00m\r\n",
      "    \u001b[37m#         data_len - The length of the review\u001b[39;49;00m\r\n",
      "\r\n",
      "    data_words = review_to_words(input_data)\r\n",
      "    data_X, data_len = convert_and_pad(model.word_dict, data_words)\r\n",
      "\r\n",
      "    \u001b[37m# Using data_X and data_len we construct an appropriate input tensor. Remember\u001b[39;49;00m\r\n",
      "    \u001b[37m# that our model expects input data of the form 'len, review[500]'.\u001b[39;49;00m\r\n",
      "    data_pack = np.hstack((data_len, data_X))\r\n",
      "    data_pack = data_pack.reshape(\u001b[34m1\u001b[39;49;00m, -\u001b[34m1\u001b[39;49;00m)\r\n",
      "    \r\n",
      "    data = torch.from_numpy(data_pack)\r\n",
      "    data = data.to(device)\r\n",
      "\r\n",
      "    \u001b[37m# Make sure to put the model into evaluation mode\u001b[39;49;00m\r\n",
      "    model.eval()\r\n",
      "\r\n",
      "    \u001b[37m# TODO: Compute the result of applying the model to the input data. The variable `result` should\u001b[39;49;00m\r\n",
      "    \u001b[37m#       be a numpy array which contains a single integer which is either 1 or 0\u001b[39;49;00m\r\n",
      "    result = np.round(model(data).detach().cpu().numpy()).astype(np.int)\r\n",
      "\r\n",
      "    \u001b[34mreturn\u001b[39;49;00m result\r\n"
     ]
    }
   ],
   "source": [
    "!pygmentize serve/predict.py"
   ]
  },
  {
   "cell_type": "markdown",
   "metadata": {},
   "source": [
    "As mentioned earlier, the `model_fn` method is the same as the one provided in the training code and the `input_fn` and `output_fn` methods are very simple and your task will be to complete the `predict_fn` method. Make sure that you save the completed file as `predict.py` in the `serve` directory.\n",
    "\n",
    "**TODO**: Complete the `predict_fn()` method in the `serve/predict.py` file."
   ]
  },
  {
   "cell_type": "markdown",
   "metadata": {},
   "source": [
    "### Deploying the model\n",
    "\n",
    "Now that the custom inference code has been written, we will create and deploy our model. To begin with, we need to construct a new PyTorchModel object which points to the model artifacts created during training and also points to the inference code that we wish to use. Then we can call the deploy method to launch the deployment container.\n",
    "\n",
    "**NOTE**: The default behaviour for a deployed PyTorch model is to assume that any input passed to the predictor is a `numpy` array. In our case we want to send a string so we need to construct a simple wrapper around the `RealTimePredictor` class to accomodate simple strings. In a more complicated situation you may want to provide a serialization object, for example if you wanted to sent image data."
   ]
  },
  {
   "cell_type": "code",
   "execution_count": 39,
   "metadata": {},
   "outputs": [
    {
     "name": "stdout",
     "output_type": "stream",
     "text": [
      "-------------!"
     ]
    }
   ],
   "source": [
    "from sagemaker.predictor import RealTimePredictor\n",
    "from sagemaker.pytorch import PyTorchModel\n",
    "\n",
    "class StringPredictor(RealTimePredictor):\n",
    "    def __init__(self, endpoint_name, sagemaker_session):\n",
    "        super(StringPredictor, self).__init__(endpoint_name, sagemaker_session, content_type='text/plain')\n",
    "\n",
    "model = PyTorchModel(model_data=estimator.model_data,\n",
    "                     role = role,\n",
    "                     framework_version='0.4.0',\n",
    "                     entry_point='predict.py',\n",
    "                     source_dir='serve',\n",
    "                     predictor_cls=StringPredictor)\n",
    "predictor = model.deploy(initial_instance_count=1, instance_type='ml.p2.xlarge')"
   ]
  },
  {
   "cell_type": "markdown",
   "metadata": {},
   "source": [
    "### Testing the model\n",
    "\n",
    "Now that we have deployed our model with the custom inference code, we should test to see if everything is working. Here we test our model by loading the first `250` positive and negative reviews and send them to the endpoint, then collect the results. The reason for only sending some of the data is that the amount of time it takes for our model to process the input and then perform inference is quite long and so testing the entire data set would be prohibitive."
   ]
  },
  {
   "cell_type": "code",
   "execution_count": 40,
   "metadata": {},
   "outputs": [],
   "source": [
    "import glob\n",
    "\n",
    "def test_reviews(data_dir='../data/aclImdb', stop=250):\n",
    "    \n",
    "    results = []\n",
    "    ground = []\n",
    "    \n",
    "    # We make sure to test both positive and negative reviews    \n",
    "    for sentiment in ['pos', 'neg']:\n",
    "        \n",
    "        path = os.path.join(data_dir, 'test', sentiment, '*.txt')\n",
    "        files = glob.glob(path)\n",
    "        \n",
    "        files_read = 0\n",
    "        \n",
    "        print('Starting ', sentiment, ' files')\n",
    "        \n",
    "        # Iterate through the files and send them to the predictor\n",
    "        for f in files:\n",
    "            with open(f) as review:\n",
    "                # First, we store the ground truth (was the review positive or negative)\n",
    "                if sentiment == 'pos':\n",
    "                    ground.append(1)\n",
    "                else:\n",
    "                    ground.append(0)\n",
    "                # Read in the review and convert to 'utf-8' for transmission via HTTP\n",
    "                review_input = review.read().encode('utf-8')\n",
    "                # Send the review to the predictor and store the results\n",
    "                results.append(int(predictor.predict(review_input)))\n",
    "                \n",
    "            # Sending reviews to our endpoint one at a time takes a while so we\n",
    "            # only send a small number of reviews\n",
    "            files_read += 1\n",
    "            if files_read == stop:\n",
    "                break\n",
    "            \n",
    "    return ground, results"
   ]
  },
  {
   "cell_type": "code",
   "execution_count": 41,
   "metadata": {},
   "outputs": [
    {
     "name": "stdout",
     "output_type": "stream",
     "text": [
      "Starting  pos  files\n",
      "Starting  neg  files\n"
     ]
    }
   ],
   "source": [
    "ground, results = test_reviews()"
   ]
  },
  {
   "cell_type": "code",
   "execution_count": 42,
   "metadata": {},
   "outputs": [
    {
     "data": {
      "text/plain": [
       "0.848"
      ]
     },
     "execution_count": 42,
     "metadata": {},
     "output_type": "execute_result"
    }
   ],
   "source": [
    "from sklearn.metrics import accuracy_score\n",
    "accuracy_score(ground, results)"
   ]
  },
  {
   "cell_type": "markdown",
   "metadata": {},
   "source": [
    "As an additional test, we can try sending the `test_review` that we looked at earlier."
   ]
  },
  {
   "cell_type": "code",
   "execution_count": 43,
   "metadata": {},
   "outputs": [
    {
     "data": {
      "text/plain": [
       "b'1'"
      ]
     },
     "execution_count": 43,
     "metadata": {},
     "output_type": "execute_result"
    }
   ],
   "source": [
    "predictor.predict(test_review)"
   ]
  },
  {
   "cell_type": "markdown",
   "metadata": {},
   "source": [
    "Now that we know our endpoint is working as expected, we can set up the web page that will interact with it. If you don't have time to finish the project now, make sure to skip down to the end of this notebook and shut down your endpoint. You can deploy it again when you come back."
   ]
  },
  {
   "cell_type": "markdown",
   "metadata": {},
   "source": [
    "## Step 7 (again): Use the model for the web app\n",
    "\n",
    "> **TODO:** This entire section and the next contain tasks for you to complete, mostly using the AWS console.\n",
    "\n",
    "So far we have been accessing our model endpoint by constructing a predictor object which uses the endpoint and then just using the predictor object to perform inference. What if we wanted to create a web app which accessed our model? The way things are set up currently makes that not possible since in order to access a SageMaker endpoint the app would first have to authenticate with AWS using an IAM role which included access to SageMaker endpoints. However, there is an easier way! We just need to use some additional AWS services.\n",
    "\n",
    "<img src=\"Web App Diagram.svg\">\n",
    "\n",
    "The diagram above gives an overview of how the various services will work together. On the far right is the model which we trained above and which is deployed using SageMaker. On the far left is our web app that collects a user's movie review, sends it off and expects a positive or negative sentiment in return.\n",
    "\n",
    "In the middle is where some of the magic happens. We will construct a Lambda function, which you can think of as a straightforward Python function that can be executed whenever a specified event occurs. We will give this function permission to send and recieve data from a SageMaker endpoint.\n",
    "\n",
    "Lastly, the method we will use to execute the Lambda function is a new endpoint that we will create using API Gateway. This endpoint will be a url that listens for data to be sent to it. Once it gets some data it will pass that data on to the Lambda function and then return whatever the Lambda function returns. Essentially it will act as an interface that lets our web app communicate with the Lambda function.\n",
    "\n",
    "### Setting up a Lambda function\n",
    "\n",
    "The first thing we are going to do is set up a Lambda function. This Lambda function will be executed whenever our public API has data sent to it. When it is executed it will receive the data, perform any sort of processing that is required, send the data (the review) to the SageMaker endpoint we've created and then return the result.\n",
    "\n",
    "#### Part A: Create an IAM Role for the Lambda function\n",
    "\n",
    "Since we want the Lambda function to call a SageMaker endpoint, we need to make sure that it has permission to do so. To do this, we will construct a role that we can later give the Lambda function.\n",
    "\n",
    "Using the AWS Console, navigate to the **IAM** page and click on **Roles**. Then, click on **Create role**. Make sure that the **AWS service** is the type of trusted entity selected and choose **Lambda** as the service that will use this role, then click **Next: Permissions**.\n",
    "\n",
    "In the search box type `sagemaker` and select the check box next to the **AmazonSageMakerFullAccess** policy. Then, click on **Next: Review**.\n",
    "\n",
    "Lastly, give this role a name. Make sure you use a name that you will remember later on, for example `LambdaSageMakerRole`. Then, click on **Create role**.\n",
    "\n",
    "#### Part B: Create a Lambda function\n",
    "\n",
    "Now it is time to actually create the Lambda function.\n",
    "\n",
    "Using the AWS Console, navigate to the AWS Lambda page and click on **Create a function**. When you get to the next page, make sure that **Author from scratch** is selected. Now, name your Lambda function, using a name that you will remember later on, for example `sentiment_analysis_func`. Make sure that the **Python 3.6** runtime is selected and then choose the role that you created in the previous part. Then, click on **Create Function**.\n",
    "\n",
    "On the next page you will see some information about the Lambda function you've just created. If you scroll down you should see an editor in which you can write the code that will be executed when your Lambda function is triggered. In our example, we will use the code below. \n",
    "\n",
    "```python\n",
    "# We need to use the low-level library to interact with SageMaker since the SageMaker API\n",
    "# is not available natively through Lambda.\n",
    "import boto3\n",
    "\n",
    "def lambda_handler(event, context):\n",
    "\n",
    "    # The SageMaker runtime is what allows us to invoke the endpoint that we've created.\n",
    "    runtime = boto3.Session().client('sagemaker-runtime')\n",
    "\n",
    "    # Now we use the SageMaker runtime to invoke our endpoint, sending the review we were given\n",
    "    response = runtime.invoke_endpoint(EndpointName = '**ENDPOINT NAME HERE**',    # The name of the endpoint we created\n",
    "                                       ContentType = 'text/plain',                 # The data format that is expected\n",
    "                                       Body = event['body'])                       # The actual review\n",
    "\n",
    "    # The response is an HTTP response whose body contains the result of our inference\n",
    "    result = response['Body'].read().decode('utf-8')\n",
    "\n",
    "    return {\n",
    "        'statusCode' : 200,\n",
    "        'headers' : { 'Content-Type' : 'text/plain', 'Access-Control-Allow-Origin' : '*' },\n",
    "        'body' : result\n",
    "    }\n",
    "```\n",
    "\n",
    "Once you have copy and pasted the code above into the Lambda code editor, replace the `**ENDPOINT NAME HERE**` portion with the name of the endpoint that we deployed earlier. You can determine the name of the endpoint using the code cell below."
   ]
  },
  {
   "cell_type": "code",
   "execution_count": 44,
   "metadata": {},
   "outputs": [
    {
     "data": {
      "text/plain": [
       "'sagemaker-pytorch-2020-02-09-08-37-39-052'"
      ]
     },
     "execution_count": 44,
     "metadata": {},
     "output_type": "execute_result"
    }
   ],
   "source": [
    "predictor.endpoint"
   ]
  },
  {
   "cell_type": "markdown",
   "metadata": {},
   "source": [
    "Once you have added the endpoint name to the Lambda function, click on **Save**. Your Lambda function is now up and running. Next we need to create a way for our web app to execute the Lambda function.\n",
    "\n",
    "### Setting up API Gateway\n",
    "\n",
    "Now that our Lambda function is set up, it is time to create a new API using API Gateway that will trigger the Lambda function we have just created.\n",
    "\n",
    "Using AWS Console, navigate to **Amazon API Gateway** and then click on **Get started**.\n",
    "\n",
    "On the next page, make sure that **New API** is selected and give the new api a name, for example, `sentiment_analysis_api`. Then, click on **Create API**.\n",
    "\n",
    "Now we have created an API, however it doesn't currently do anything. What we want it to do is to trigger the Lambda function that we created earlier.\n",
    "\n",
    "Select the **Actions** dropdown menu and click **Create Method**. A new blank method will be created, select its dropdown menu and select **POST**, then click on the check mark beside it.\n",
    "\n",
    "For the integration point, make sure that **Lambda Function** is selected and click on the **Use Lambda Proxy integration**. This option makes sure that the data that is sent to the API is then sent directly to the Lambda function with no processing. It also means that the return value must be a proper response object as it will also not be processed by API Gateway.\n",
    "\n",
    "Type the name of the Lambda function you created earlier into the **Lambda Function** text entry box and then click on **Save**. Click on **OK** in the pop-up box that then appears, giving permission to API Gateway to invoke the Lambda function you created.\n",
    "\n",
    "The last step in creating the API Gateway is to select the **Actions** dropdown and click on **Deploy API**. You will need to create a new Deployment stage and name it anything you like, for example `prod`.\n",
    "\n",
    "You have now successfully set up a public API to access your SageMaker model. Make sure to copy or write down the URL provided to invoke your newly created public API as this will be needed in the next step. This URL can be found at the top of the page, highlighted in blue next to the text **Invoke URL**."
   ]
  },
  {
   "cell_type": "markdown",
   "metadata": {},
   "source": [
    "## Step 4: Deploying our web app\n",
    "\n",
    "Now that we have a publicly available API, we can start using it in a web app. For our purposes, we have provided a simple static html file which can make use of the public api you created earlier.\n",
    "\n",
    "In the `website` folder there should be a file called `index.html`. Download the file to your computer and open that file up in a text editor of your choice. There should be a line which contains **\\*\\*REPLACE WITH PUBLIC API URL\\*\\***. Replace this string with the url that you wrote down in the last step and then save the file.\n",
    "\n",
    "Now, if you open `index.html` on your local computer, your browser will behave as a local web server and you can use the provided site to interact with your SageMaker model.\n",
    "\n",
    "If you'd like to go further, you can host this html file anywhere you'd like, for example using github or hosting a static site on Amazon's S3. Once you have done this you can share the link with anyone you'd like and have them play with it too!\n",
    "\n",
    "> **Important Note** In order for the web app to communicate with the SageMaker endpoint, the endpoint has to actually be deployed and running. This means that you are paying for it. Make sure that the endpoint is running when you want to use the web app but that you shut it down when you don't need it, otherwise you will end up with a surprisingly large AWS bill.\n",
    "\n",
    "**TODO:** Make sure that you include the edited `index.html` file in your project submission."
   ]
  },
  {
   "cell_type": "markdown",
   "metadata": {},
   "source": [
    "Now that your web app is working, trying playing around with it and see how well it works.\n",
    "\n",
    "**Question**: Give an example of a review that you entered into your web app. What was the predicted sentiment of your example review?"
   ]
  },
  {
   "cell_type": "markdown",
   "metadata": {},
   "source": [
    "**Answer:**\n",
    "\n",
    "A couple of reviews of Incredibles 2 from RottenTomates:\n",
    "\n",
    "1. \"This barely survives its sequel stamp. Fun, fast and precise, Incredibles 2 recycles its formula to be repetitive and not innovative.\" Predicted Sentiment -> *Negative*\n",
    "2. \"Bird laces in subliminal messages, but the main attraction of Incredibles 2 is the focussed storytelling, the clear and uncluttered animation and unadulterated fun.\" Predicted Sentiment -> *Positive*\n"
   ]
  },
  {
   "cell_type": "markdown",
   "metadata": {},
   "source": [
    "### Delete the endpoint\n",
    "\n",
    "Remember to always shut down your endpoint if you are no longer using it. You are charged for the length of time that the endpoint is running so if you forget and leave it on you could end up with an unexpectedly large bill."
   ]
  },
  {
   "cell_type": "code",
   "execution_count": 45,
   "metadata": {},
   "outputs": [],
   "source": [
    "predictor.delete_endpoint()"
   ]
  }
 ],
 "metadata": {
  "kernelspec": {
   "display_name": "Python 3",
   "language": "python",
   "name": "python3"
  },
  "language_info": {
   "codemirror_mode": {
    "name": "ipython",
    "version": 3
   },
   "file_extension": ".py",
   "mimetype": "text/x-python",
   "name": "python",
   "nbconvert_exporter": "python",
   "pygments_lexer": "ipython3",
   "version": "3.7.1"
  }
 },
 "nbformat": 4,
 "nbformat_minor": 2
}
